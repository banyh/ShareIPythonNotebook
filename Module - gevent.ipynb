{
 "cells": [
  {
   "cell_type": "code",
   "execution_count": 50,
   "metadata": {
    "collapsed": true
   },
   "outputs": [],
   "source": [
    "import gevent\n",
    "from gevent import monkey\n",
    "monkey.patch_socket()  # Replace the standard socket object with gevent's cooperative sockets\n",
    "from gevent.coros import Semaphore\n",
    "import time, random, string, urllib2"
   ]
  },
  {
   "cell_type": "code",
   "execution_count": 43,
   "metadata": {
    "collapsed": true
   },
   "outputs": [],
   "source": [
    "def download(url, semaphore):\n",
    "    with semaphore:\n",
    "        data = urllib2.urlopen(url)\n",
    "        return data.read()"
   ]
  },
  {
   "cell_type": "code",
   "execution_count": 44,
   "metadata": {
    "collapsed": true
   },
   "outputs": [],
   "source": [
    "def generate_urls(base, num):\n",
    "    for i in xrange(1, num):\n",
    "        yield base + str(i)"
   ]
  },
  {
   "cell_type": "code",
   "execution_count": 45,
   "metadata": {
    "collapsed": true
   },
   "outputs": [],
   "source": [
    "def chunk_request(url_list, chunk_size):\n",
    "    semaphore = Semaphore(chunk_size)\n",
    "    # generate N Greenlet object, scheduled to start.\n",
    "    requests = [gevent.spawn(download, url, semaphore) for url in url_list]\n",
    "    # Yield objects as they are ready\n",
    "    for response in gevent.iwait(requests):\n",
    "        yield response"
   ]
  },
  {
   "cell_type": "code",
   "execution_count": 46,
   "metadata": {
    "collapsed": true
   },
   "outputs": [],
   "source": [
    "def run():\n",
    "    urls = generate_urls('http://redmine.scienbizip.com/news/', 100)\n",
    "    response_future = chunk_request(urls, 10)\n",
    "    response_size = sum(len(r.value) for r in response_future)\n",
    "    return response_size"
   ]
  },
  {
   "cell_type": "code",
   "execution_count": 47,
   "metadata": {
    "collapsed": false
   },
   "outputs": [
    {
     "name": "stdout",
     "output_type": "stream",
     "text": [
      "1 loops, best of 1: 1.03 s per loop\n"
     ]
    }
   ],
   "source": [
    "%timeit -n1 -r1 run()"
   ]
  },
  {
   "cell_type": "code",
   "execution_count": 48,
   "metadata": {
    "collapsed": false
   },
   "outputs": [
    {
     "name": "stdout",
     "output_type": "stream",
     "text": [
      "6.50999999046\n"
     ]
    }
   ],
   "source": [
    "start = time.time()\n",
    "for u in generate_urls('http://redmine.scienbizip.com/news/', 100):\n",
    "    data = urllib2.urlopen(u).read()\n",
    "print time.time() - start"
   ]
  },
  {
   "cell_type": "markdown",
   "metadata": {},
   "source": [
    "### 如果要作 HTTP requests，可以透過 `grequests`，它結合了 `requests` 及 `gevent`"
   ]
  },
  {
   "cell_type": "code",
   "execution_count": 14,
   "metadata": {
    "collapsed": false
   },
   "outputs": [],
   "source": [
    "import grequests"
   ]
  },
  {
   "cell_type": "code",
   "execution_count": 41,
   "metadata": {
    "collapsed": false
   },
   "outputs": [
    {
     "name": "stdout",
     "output_type": "stream",
     "text": [
      "1 loops, best of 1: 3.93 s per loop\n"
     ]
    }
   ],
   "source": [
    "# 這是一個 generator，不會真正取值\n",
    "req_generator = (grequests.get(u) for u in generate_urls('http://redmine.scienbizip.com/news/', 100))\n",
    "# 同時10路執行，這是一個 generator，不會真正取值\n",
    "resp_generator = grequests.imap(req_generator, 10)\n",
    "# 這時才會真正取值\n",
    "%timeit -n1 -r1 [r for r in resp_generator]"
   ]
  },
  {
   "cell_type": "code",
   "execution_count": 49,
   "metadata": {
    "collapsed": false
   },
   "outputs": [
    {
     "name": "stdout",
     "output_type": "stream",
     "text": [
      "1 loops, best of 1: 3.55 s per loop\n"
     ]
    }
   ],
   "source": [
    "req_generator = (grequests.get(u) for u in generate_urls('http://redmine.scienbizip.com/news/', 100))\n",
    "resp_generator = grequests.imap(req_generator, 100)\n",
    "%timeit -n1 -r1 [r for r in resp_generator]"
   ]
  },
  {
   "cell_type": "code",
   "execution_count": null,
   "metadata": {
    "collapsed": true
   },
   "outputs": [],
   "source": []
  }
 ],
 "metadata": {
  "kernelspec": {
   "display_name": "Python 2",
   "language": "python",
   "name": "python2"
  },
  "language_info": {
   "codemirror_mode": {
    "name": "ipython",
    "version": 2
   },
   "file_extension": ".py",
   "mimetype": "text/x-python",
   "name": "python",
   "nbconvert_exporter": "python",
   "pygments_lexer": "ipython2",
   "version": "2.7.11"
  }
 },
 "nbformat": 4,
 "nbformat_minor": 0
}
