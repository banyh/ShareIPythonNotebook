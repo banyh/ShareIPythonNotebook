{
 "cells": [
  {
   "cell_type": "code",
   "execution_count": 1,
   "metadata": {
    "collapsed": true
   },
   "outputs": [],
   "source": [
    "# *args 代表不確定數量的 non-keyword arg\n",
    "# 這個語法的重點是 *，後面可以接任何名稱，例如 *dummy 也代表參數群\n",
    "def f1(*args):\n",
    "    for x in args:\n",
    "        print x"
   ]
  },
  {
   "cell_type": "code",
   "execution_count": 2,
   "metadata": {
    "collapsed": false
   },
   "outputs": [
    {
     "name": "stdout",
     "output_type": "stream",
     "text": [
      "hello\n",
      "my\n",
      "world\n"
     ]
    }
   ],
   "source": [
    "f1('hello', 'my', 'world')"
   ]
  },
  {
   "cell_type": "code",
   "execution_count": 3,
   "metadata": {
    "collapsed": false
   },
   "outputs": [
    {
     "ename": "SyntaxError",
     "evalue": "non-keyword arg after keyword arg (<ipython-input-3-1df0719e213d>, line 1)",
     "output_type": "error",
     "traceback": [
      "\u001b[1;36m  File \u001b[1;32m\"<ipython-input-3-1df0719e213d>\"\u001b[1;36m, line \u001b[1;32m1\u001b[0m\n\u001b[1;33m    f1('hello', y = 'my', 'world')  # 只有 *args 卻指定參數名稱，會造成錯誤\u001b[0m\n\u001b[1;31mSyntaxError\u001b[0m\u001b[1;31m:\u001b[0m non-keyword arg after keyword arg\n"
     ]
    }
   ],
   "source": [
    "f1('hello', y = 'my', 'world')  # 只有 *args 卻指定參數名稱，會造成錯誤"
   ]
  },
  {
   "cell_type": "code",
   "execution_count": 4,
   "metadata": {
    "collapsed": true
   },
   "outputs": [],
   "source": [
    "# **kwargs 代表不確定數量的 keyword arg\n",
    "# 語法的重點是 **，後面名稱可以改成 **dummy\n",
    "def f2(**kwargs):\n",
    "    for x in kwargs:\n",
    "        print x, kwargs[x]"
   ]
  },
  {
   "cell_type": "code",
   "execution_count": 5,
   "metadata": {
    "collapsed": false
   },
   "outputs": [
    {
     "name": "stdout",
     "output_type": "stream",
     "text": [
      "y hello\n",
      "x 1\n",
      "z [1, 2, 3]\n"
     ]
    }
   ],
   "source": [
    "f2(x = 1, y = \"hello\", z = [1, 2, 3])"
   ]
  },
  {
   "cell_type": "code",
   "execution_count": 6,
   "metadata": {
    "collapsed": false
   },
   "outputs": [
    {
     "ename": "TypeError",
     "evalue": "f2() takes exactly 0 arguments (2 given)",
     "output_type": "error",
     "traceback": [
      "\u001b[1;31m---------------------------------------------------------------------------\u001b[0m",
      "\u001b[1;31mTypeError\u001b[0m                                 Traceback (most recent call last)",
      "\u001b[1;32m<ipython-input-6-cf7dc25fa101>\u001b[0m in \u001b[0;36m<module>\u001b[1;34m()\u001b[0m\n\u001b[1;32m----> 1\u001b[1;33m \u001b[0mf2\u001b[0m\u001b[1;33m(\u001b[0m\u001b[1;34m\"good\"\u001b[0m\u001b[1;33m,\u001b[0m \u001b[0mx\u001b[0m \u001b[1;33m=\u001b[0m \u001b[1;36m3\u001b[0m\u001b[1;33m)\u001b[0m  \u001b[1;31m# 只有 **kwargs 卻沒有指定參數名稱，會造成錯誤\u001b[0m\u001b[1;33m\u001b[0m\u001b[0m\n\u001b[0m",
      "\u001b[1;31mTypeError\u001b[0m: f2() takes exactly 0 arguments (2 given)"
     ]
    }
   ],
   "source": [
    "f2(\"good\", x = 3)  # 只有 **kwargs 卻沒有指定參數名稱，會造成錯誤"
   ]
  },
  {
   "cell_type": "code",
   "execution_count": 7,
   "metadata": {
    "collapsed": true
   },
   "outputs": [],
   "source": [
    "def f3(*args, **kws):\n",
    "    for x in args:\n",
    "        print \"[] = \", x\n",
    "    for x in kws:\n",
    "        print \"[\", x, \"] = \", kws[x]"
   ]
  },
  {
   "cell_type": "code",
   "execution_count": 8,
   "metadata": {
    "collapsed": false
   },
   "outputs": [
    {
     "ename": "SyntaxError",
     "evalue": "non-keyword arg after keyword arg (<ipython-input-8-2fc214e60111>, line 1)",
     "output_type": "error",
     "traceback": [
      "\u001b[1;36m  File \u001b[1;32m\"<ipython-input-8-2fc214e60111>\"\u001b[1;36m, line \u001b[1;32m1\u001b[0m\n\u001b[1;33m    f3('hello', z = 54, g = [1, 3], 'my word')  # non-keyword arg 要放前面\u001b[0m\n\u001b[1;31mSyntaxError\u001b[0m\u001b[1;31m:\u001b[0m non-keyword arg after keyword arg\n"
     ]
    }
   ],
   "source": [
    "f3('hello', z = 54, g = [1, 3], 'my word')  # non-keyword arg 要放前面"
   ]
  },
  {
   "cell_type": "code",
   "execution_count": 9,
   "metadata": {
    "collapsed": false
   },
   "outputs": [
    {
     "name": "stdout",
     "output_type": "stream",
     "text": [
      "[] =  hello\n",
      "[] =  my world\n",
      "[ x ] =  43\n",
      "[ z ] =  [1, 4]\n"
     ]
    }
   ],
   "source": [
    "f3('hello', 'my world', x = 43, z = [1, 4])"
   ]
  },
  {
   "cell_type": "code",
   "execution_count": null,
   "metadata": {
    "collapsed": true
   },
   "outputs": [],
   "source": []
  }
 ],
 "metadata": {
  "kernelspec": {
   "display_name": "Python 2",
   "language": "python",
   "name": "python2"
  },
  "language_info": {
   "codemirror_mode": {
    "name": "ipython",
    "version": 2
   },
   "file_extension": ".py",
   "mimetype": "text/x-python",
   "name": "python",
   "nbconvert_exporter": "python",
   "pygments_lexer": "ipython2",
   "version": "2.7.11"
  }
 },
 "nbformat": 4,
 "nbformat_minor": 0
}
