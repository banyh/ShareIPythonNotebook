{
 "cells": [
  {
   "cell_type": "code",
   "execution_count": 1,
   "metadata": {
    "collapsed": false
   },
   "outputs": [],
   "source": [
    "from bs4 import BeautifulSoup\n",
    "import re\n",
    "from urllib import urlopen\n",
    "from datetime import datetime\n",
    "from PIL import Image\n",
    "from cStringIO import StringIO"
   ]
  },
  {
   "cell_type": "code",
   "execution_count": 2,
   "metadata": {
    "collapsed": true
   },
   "outputs": [],
   "source": [
    "def parse_yahoo_jp_stock_diagram(stock_id):\n",
    "    diag_url = u'http://chart.yahoo.co.jp/?code={}.T&tm=1y&type=c&log=off&size=n&over=m65,m130,s&add=v&comp'\n",
    "    try:\n",
    "        img = Image.open(StringIO(urlopen(diag_url.format(stock_id)).read()))\n",
    "    except:\n",
    "        return None\n",
    "    if img.height < 250:\n",
    "        return None\n",
    "    return img"
   ]
  },
  {
   "cell_type": "code",
   "execution_count": 3,
   "metadata": {
    "collapsed": false
   },
   "outputs": [],
   "source": [
    "def parse_yahoo_jp_finance(url):\n",
    "    if url.endswith('.vip'):\n",
    "        raise ValueError('Cannot parse vip-only pages.')\n",
    "    html = urlopen(url).read().decode('utf8')\n",
    "    soup = BeautifulSoup(html, 'html.parser')\n",
    "    content = soup.find_all('div', class_='ymuiContainerNopad clearFix s170')[0]\n",
    "    content = re.sub('\\<\\/ *?[Bb][Rr]\\>', '', re.sub('\\<[Bb][Rr]\\>', '\\n', str(content)))\n",
    "    content = BeautifulSoup(content, 'html.parser').children.next()\n",
    "    \n",
    "    data = {}\n",
    "    for x in content.find_all('div'):\n",
    "        x.extract()\n",
    "    for x in content.find_all('ul'):\n",
    "        x.extract()\n",
    "    data['html'] = content\n",
    "    data['title'] = soup.find_all('h1')[0].text\n",
    "    data['stock_id'] = [x.text for x in content.find_all('a')]\n",
    "    data['stock_id'].extend(re.findall('[0-9]{4}/TW', content.text))\n",
    "    data['stock_id'].extend(re.findall('[0-9]{4}/TW', content.text))\n",
    "    data['stock_id'].extend(re.findall('[0-9]{4}/TW', content.text))\n",
    "    data['text'] = content.text\n",
    "    time_str = soup.find_all('p', class_='ymuiDate')[0].text\n",
    "    time_str = re.findall(u'([0-9]+)時([0-9]+)分', time_str)[0]\n",
    "    date_str = re.findall('([12][09][019][0-9])([01][0-9])([0-3][0-9])', url)[0]\n",
    "    data['date'] = datetime.strptime('-'.join(date_str + time_str), '%Y-%m-%d-%H-%M')\n",
    "    return data"
   ]
  },
  {
   "cell_type": "code",
   "execution_count": 4,
   "metadata": {
    "collapsed": false
   },
   "outputs": [
    {
     "data": {
      "image/png": "[encoded data removed]",
      "text/plain": [
       "<PIL.PngImagePlugin.PngImageFile image mode=P size=630x382 at 0x7FC0581759D0>"
      ]
     },
     "execution_count": 4,
     "metadata": {},
     "output_type": "execute_result"
    }
   ],
   "source": [
    "parse_yahoo_jp_stock_diagram('1414')"
   ]
  },
  {
   "cell_type": "code",
   "execution_count": 5,
   "metadata": {
    "collapsed": false,
    "scrolled": false
   },
   "outputs": [
    {
     "name": "stdout",
     "output_type": "stream",
     "text": [
      "2016-11-29 15:37:00\n",
      "本日の【ゴールデンクロス／デッドクロス】引け　GC＝ 97 銘柄　DC＝ 35 銘柄　(11月29日)\n",
      "[u'9432', u'2914', u'9531', u'1878', u'3625', u'8984', u'7240', u'3923', u'9509', u'6965', u'6258', u'6727', u'3101', u'6428', u'6324', u'6134', u'4924', u'4549', u'8973', u'3309', u'5341', u'8088', u'1414', u'3087', u'3333', u'4842', u'3918', u'3909', u'3222', u'3237', u'7780', u'2453', u'3031', u'6862', u'2734', u'7269', u'4523', u'7818', u'7294', u'2698', u'4514', u'6071', u'6013', u'6469', u'9837', u'8887', u'1540', u'3935', u'3418', u'7921']\n",
      "\n",
      "\n",
      "\n",
      "■11月29日の終値ベースで、5日と25日の移動平均線がゴールデンクロス／デッドクロスした銘柄\n",
      "\n",
      "●ゴールデンクロス銘柄（市場人気順）　★上昇トレンドに転換した可能性が高い銘柄\n",
      "\n",
      "　　　 銘柄名　　　　　　　　　　株価　 前日比 (比率)　　　5日移動平均 25日移動平均\n",
      "<9432> 日本電信電話　　　　　　　4610　　　 -3 ( -0.1％) 　　　 4538.8　　　 4502.8\n",
      "<2914> ＪＴ　　　　　　　　　　　3948 　　 +37 ( +1.0％) 　　　 3896.0　　　 3874.6\n",
      "<9531> 東京ガス　　　　　　　　 488.2　　 -5.7 ( -1.2％) 　　　　480.8　　　　479.2\n",
      "<1878> 大東建託　　　　　　　　 17545　　　 -5 ( -0.0％) 　　　17212.0　　　17171.0\n",
      "<3625> テックファム　　　　　　　1912 　　 -26 ( -1.3％) 　　　 1895.2　　　 1882.8\n",
      "<8984> ハウスリート　　　　　　284500 　 +3300 ( +1.2％) 　　 281940.0　　 281584.0\n",
      "<7240> ＮＯＫ　　　　　　　　　　2287 　　 -46 ( -2.0％) 　　　 2262.8　　　 2259.0\n",
      "<3923> ラクス　　　　　　　　　　1473 　　 +78 ( +5.6％) 　　　 1374.2　　　 1336.7\n",
      "<9509> 北海道電力　　　　　　　　 824　　　 -1 ( -0.1％) 　　　　813.0　　　　810.8\n",
      "<6965> 浜松ホトニクス　　　　　　3065　　　 -5 ( -0.2％) 　　　 3029.2　　　 3020.0\n",
      "<6258> 平田機工　　　　　　　　　7550 　　 -20 ( -0.3％) 　　　 7334.0　　　 7301.2\n",
      "<6727> ワコム　　　　　　　　　　 308　　　 +3 ( +1.0％) 　　　　300.4　　　　297.1\n",
      "<3101> 東洋紡　　　　　　　　　　 172 　　　 0 (　0.0％) 　　　　169.2　　　　167.8\n",
      "<6428> オーイズミ　　　　　　　　 740 　　 -24 ( -3.1％) 　　　　718.6　　　　706.6\n",
      "<6324> ハーモニック　　　　　　　2936 　　 -13 ( -0.4％) 　　　 2865.4　　　 2839.5\n",
      "<6134> 富士機械製造　　　　　　　1303　　　 +3 ( +0.2％) 　　　 1287.8　　　 1283.6\n",
      "<4924> シーズＨＤ　　　　　　　　2954　　　 +6 ( +0.2％) 　　　 2932.6　　　 2928.0\n",
      "<4549> 栄研化学　　　　　　　　　2965　　 +151 ( +5.4％) 　　　 2851.8　　　 2841.8\n",
      "<8973> 積ハＳＩレジ　　　　　　119500　　 -100 ( -0.1％) 　　 118140.0　　 118132.0\n",
      "<3309> 積水ハウスＲ　　　　　　143000 　 +1200 ( +0.9％) 　　 142060.0　　 141968.0\n",
      "<5341> アサヒ衛陶　　　　　　　　 100　　　 +8 ( +8.7％) 　　　　 94.6　　　　 94.4\n",
      "<8088> 岩谷産業　　　　　　　　　 617　　　 -2 ( -0.3％) 　　　　608.0　　　　607.0\n",
      "<1414> ショーボンド　　　　　　　4995 　　 +20 ( +0.4％) 　　　 4965.0　　　 4955.6\n",
      "<3087> ドトル日レス　　　　　　　2128　　　 -5 ( -0.2％) 　　　 2099.8　　　 2096.6\n",
      "<3333> あさひ　　　　　　　　　　1254 　　 +11 ( +0.9％) 　　　 1244.2　　　 1241.8\n",
      "<4842> ＵＳＥＮ　　　　　　　　　 338　　　 +3 ( +0.9％) 　　　　328.8　　　　328.7\n",
      "<3918> ＰＣＩホールディングス　　2416 　　　 0 (　0.0％) 　　　 2389.6　　　 2374.4\n",
      "<3909> ショーケース　　　　　　　1212 　　 -33 ( -2.7％) 　　　 1174.8　　　 1170.4\n",
      "<3222> ＵＳＭＨ　　　　　　　　　 951　　　 -4 ( -0.4％) 　　　　943.8　　　　939.8\n",
      "<3237> イントランス　　　　　　　 187　　　 -5 ( -2.6％) 　　　　185.0　　　　183.8\n",
      "<7780> メニコン　　　　　　　　　2951 　　 +13 ( +0.4％) 　　　 2905.8　　　 2880.0\n",
      "<2453> ＪＢＲ　　　　　　　　　　 255　　　 +3 ( +1.2％) 　　　　248.0　　　　243.2\n",
      "<3031> ラクーン　　　　　　　　　 507 　　　 0 (　0.0％) 　　　　504.0　　　　503.4\n",
      "<6862> ミナトホールディングス　　　93　　　 +3 ( +3.3％) 　　　　 87.6　　　　 86.4\n",
      "<2734> サーラコーポレーション　　 631 　　 +17 ( +2.8％) 　　　　624.2　　　　622.4\n",
      "\n",
      "など、97銘柄\n",
      "\n",
      "●デッドクロス銘柄（市場人気順）　★下降トレンドに転換した可能性が高い銘柄\n",
      "\n",
      "　　　 銘柄名　　　　　　　　　　株価　 前日比 (比率)　　　5日移動平均 25日移動平均\n",
      "<7269> スズキ　　　　　　　　　　3631 　　 -63 ( -1.7％) 　　　 3737.8　　　 3753.9\n",
      "<4523> エーザイ　　　　　　　　　6611 　　 -47 ( -0.7％) 　　　 6707.6　　　 6715.1\n",
      "<7818> トランザクション　　　　　1802 　　 +11 ( +0.6％) 　　　 1873.6　　　 1906.4\n",
      "<7294> ヨロズ　　　　　　　　　　1590　　　 +2 ( +0.1％) 　　　 1608.2　　　 1615.7\n",
      "<2698> キャンドゥ　　　　　　　　1801　　　 +4 ( +0.2％) 　　　 1820.2　　　 1821.0\n",
      "<4514> あすか製薬　　　　　　　　1713　　　 -2 ( -0.1％) 　　　 1746.2　　　 1757.0\n",
      "<6071> ＩＢＪ　　　　　　　　　　 736 　　 -12 ( -1.6％) 　　　　740.8　　　　746.9\n",
      "<6013> タクマ　　　　　　　　　　 944 　　 -15 ( -1.6％) 　　　　959.6　　　　959.7\n",
      "<6469> 放電精密加工研究所　　　　1120 　　 -17 ( -1.5％) 　　　 1155.4　　　 1163.1\n",
      "<9837> モリト　　　　　　　　　　 800　　　 -2 ( -0.3％) 　　　　805.0　　　　805.2\n",
      "<8887> リベレステ　　　　　　　　 771　　　 -4 ( -0.5％) 　　　　789.6　　　　790.5\n",
      "<1540> 純金信託　　　　　　　　　4170 　　　 0 (　0.0％) 　　　 4178.0　　　 4179.4\n",
      "<3935> エディア　　　　　　　　　1894 　　 -66 ( -3.4％) 　　　 1924.0　　　 1936.8\n",
      "<3418> バルニバービ　　　　　　　3000 　　 -70 ( -2.3％) 　　　 3125.0　　　 3157.0\n",
      "<7921> 宝印刷　　　　　　　　　　1410　　　 -1 ( -0.1％) 　　　 1434.0　　　 1436.7\n",
      "\n",
      "など、35銘柄\n",
      "\n",
      "提供：株式分析ソフト『ストックボード』から転載。\n",
      "\n",
      "\n"
     ]
    }
   ],
   "source": [
    "url = 'http://news.finance.yahoo.co.jp/detail/20161129-00000194-stkms-stocks'\n",
    "d = parse_yahoo_jp_finance(url)\n",
    "print d['date']\n",
    "print d['title']\n",
    "print d['stock_id']\n",
    "print d['text']"
   ]
  },
  {
   "cell_type": "code",
   "execution_count": null,
   "metadata": {
    "collapsed": true
   },
   "outputs": [],
   "source": []
  }
 ],
 "metadata": {
  "kernelspec": {
   "display_name": "Python 2",
   "language": "python",
   "name": "python2"
  },
  "language_info": {
   "codemirror_mode": {
    "name": "ipython",
    "version": 2
   },
   "file_extension": ".py",
   "mimetype": "text/x-python",
   "name": "python",
   "nbconvert_exporter": "python",
   "pygments_lexer": "ipython2",
   "version": "2.7.12"
  }
 },
 "nbformat": 4,
 "nbformat_minor": 1
}
