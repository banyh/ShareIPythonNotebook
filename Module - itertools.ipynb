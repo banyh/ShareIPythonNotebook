{
 "cells": [
  {
   "cell_type": "markdown",
   "metadata": {},
   "source": [
    "generator是指一個函式，能夠產生一個sequence，但每產生一個值後，就會傳回值並將函式保持在此狀態，直到下一次呼叫此函式"
   ]
  },
  {
   "cell_type": "code",
   "execution_count": 1,
   "metadata": {
    "collapsed": true
   },
   "outputs": [],
   "source": [
    "# 這是一個 infinite generator，用來產生Fibonacci數列\n",
    "def fibonacci():\n",
    "    i, j = 0, 1\n",
    "    while True:\n",
    "        yield j  # 當傳回 j 之後，函式會停留在這一行，直到下一次呼叫為止\n",
    "        i, j = j, i + j"
   ]
  },
  {
   "cell_type": "code",
   "execution_count": 2,
   "metadata": {
    "collapsed": false
   },
   "outputs": [
    {
     "name": "stdout",
     "output_type": "stream",
     "text": [
      "1 1 2 3 5 8 13 21 34 55 89 144 233 377\n"
     ]
    }
   ],
   "source": [
    "# 印出1~500的fibonacci sequence\n",
    "for x in fibonacci():\n",
    "    if x > 500: break\n",
    "    print x,"
   ]
  },
  {
   "cell_type": "markdown",
   "metadata": {},
   "source": [
    "## `itertools`\n",
    "\n",
    "這個library提供許多generator相關的函式。\n",
    "\n",
    "* `imap(func, p, q)`: 傳回`func(p[i], q[i])`\n",
    "* `ifilter(pred_func, seq)`: 傳回`seq`中使`pred_func(x)==True`的值。  \n",
    "  如果`pred_func==None`，則傳回`seq[i]==True`的值\n",
    "* `ifilterfalse(pred_func, seq)`: 傳回`seq`中使`pred_func(x)==False`的值。  \n",
    "  如果`pred_func==None`，則傳回`seq[i]==False`的值\n",
    "* `izip(p, q)`: 傳回tuple `(p[i], q[i])`，如果`p,q`長度不相等，會以短的為主\n",
    "* `izip_longest(p, q)`: 傳回tuple `(p[i], q[i])`，如果`p,q`長度不相等，會以長的為主\n",
    "* `compress(data, sel)`: 傳回`data[i] if sel[i]`\n",
    "* `chain(p1, p2, ...)`: 傳回`p1[0],...,p1[-1],p2[0],...,p2[-1],...`\n",
    "* `takewhile(pred, seq)`: 傳回`seq[i]`直到`pred(seq[i])==False`\n",
    "* `dropwhile(pred, seq)`: 傳回`sen[i]`，從使得`pred(seq[i])==False`的`i`開始\n",
    "* `islice(seq [,start] ,stop [,step])`: 傳回`seq[range(start, stop, step)]`\n",
    "* `groupby(seq [,key])`: 用來產生iterator of iterators。  \n",
    "  第一次使用`next(groupby(seq, key))`，會傳回`(key, iterator)`的組合。  \n",
    "  這個`iterator`會依序傳回`seq[i]`，直到`key(seq[i])`改變為止。  \n",
    "  例如`key(seq)==[1,1,0,0,1]`，則會產生三個`(1, it1), (0, it2), (1, it3)`，其中`it1`產生`seq[0],seq[1]`，`it3`產生`seq[4]`。  \n",
    "  如果沒指定`key`，則`key==seq[i]`。\n",
    "\n",
    "`itertools`也有提供現成的generator:\n",
    "\n",
    "* `count(start [,step])`: 從`start, start+step, ...`開始的infinite generator\n",
    "* `cycle(seq)`: 循環產生`seq[0],...,seq[-1],seq[0],...`的infinite generator\n",
    "* `repeat(elem [,n])`: 產生`n`個`elem`，如果`n`沒有指定會變成infinite generator"
   ]
  },
  {
   "cell_type": "code",
   "execution_count": 3,
   "metadata": {
    "collapsed": true
   },
   "outputs": [],
   "source": [
    "from itertools import *"
   ]
  },
  {
   "cell_type": "code",
   "execution_count": 4,
   "metadata": {
    "collapsed": true
   },
   "outputs": [],
   "source": [
    "a = [1, 5, 8, 3, 6, 9, 2, 4, 7]\n",
    "b = [11, 12, 13, 14]"
   ]
  },
  {
   "cell_type": "code",
   "execution_count": 5,
   "metadata": {
    "collapsed": false
   },
   "outputs": [
    {
     "data": {
      "text/plain": [
       "[11, 248832, 815730721, 2744]"
      ]
     },
     "execution_count": 5,
     "metadata": {},
     "output_type": "execute_result"
    }
   ],
   "source": [
    "list(imap(pow, b, a))  # 傳回 11^1, 12^5, 13^8, 14^3"
   ]
  },
  {
   "cell_type": "code",
   "execution_count": 6,
   "metadata": {
    "collapsed": false
   },
   "outputs": [
    {
     "data": {
      "text/plain": [
       "[1, 5, 3, 9, 7]"
      ]
     },
     "execution_count": 6,
     "metadata": {},
     "output_type": "execute_result"
    }
   ],
   "source": [
    "list(ifilter(lambda x: x % 2, a))  # 傳回所有奇數"
   ]
  },
  {
   "cell_type": "code",
   "execution_count": 7,
   "metadata": {
    "collapsed": false,
    "scrolled": true
   },
   "outputs": [
    {
     "data": {
      "text/plain": [
       "[8, 6, 2, 4]"
      ]
     },
     "execution_count": 7,
     "metadata": {},
     "output_type": "execute_result"
    }
   ],
   "source": [
    "list(ifilterfalse(lambda x: x % 2, a))  # 傳回所有偶數"
   ]
  },
  {
   "cell_type": "code",
   "execution_count": 8,
   "metadata": {
    "collapsed": false,
    "scrolled": true
   },
   "outputs": [
    {
     "data": {
      "text/plain": [
       "[(1, 11), (5, 12), (8, 13), (3, 14)]"
      ]
     },
     "execution_count": 8,
     "metadata": {},
     "output_type": "execute_result"
    }
   ],
   "source": [
    "list(izip(a, b))  # 結合成tuple，以短的為主"
   ]
  },
  {
   "cell_type": "code",
   "execution_count": 9,
   "metadata": {
    "collapsed": false
   },
   "outputs": [
    {
     "data": {
      "text/plain": [
       "[(1, 11),\n",
       " (5, 12),\n",
       " (8, 13),\n",
       " (3, 14),\n",
       " (6, None),\n",
       " (9, None),\n",
       " (2, None),\n",
       " (4, None),\n",
       " (7, None)]"
      ]
     },
     "execution_count": 9,
     "metadata": {},
     "output_type": "execute_result"
    }
   ],
   "source": [
    "list(izip_longest(a, b))  # 結合成tuple，以長的為主，空的地方填 None"
   ]
  },
  {
   "cell_type": "code",
   "execution_count": 10,
   "metadata": {
    "collapsed": false,
    "scrolled": true
   },
   "outputs": [
    {
     "data": {
      "text/plain": [
       "[(1, 11),\n",
       " (5, 12),\n",
       " (8, 13),\n",
       " (3, 14),\n",
       " (6, 20),\n",
       " (9, 20),\n",
       " (2, 20),\n",
       " (4, 20),\n",
       " (7, 20)]"
      ]
     },
     "execution_count": 10,
     "metadata": {},
     "output_type": "execute_result"
    }
   ],
   "source": [
    "list(izip_longest(a, b, fillvalue=20))  # 結合成tuple，以長的為主，空的地方填 20"
   ]
  },
  {
   "cell_type": "code",
   "execution_count": 11,
   "metadata": {
    "collapsed": false
   },
   "outputs": [
    {
     "data": {
      "text/plain": [
       "['E', 'L', 'O']"
      ]
     },
     "execution_count": 11,
     "metadata": {},
     "output_type": "execute_result"
    }
   ],
   "source": [
    "list(compress('HELLO', [0, 1, 1, 0, 1]))  # 根據 boolean selector 選擇元素"
   ]
  },
  {
   "cell_type": "code",
   "execution_count": 12,
   "metadata": {
    "collapsed": false
   },
   "outputs": [
    {
     "data": {
      "text/plain": [
       "[1, 5, 8, 3, 6]"
      ]
     },
     "execution_count": 12,
     "metadata": {},
     "output_type": "execute_result"
    }
   ],
   "source": [
    "list(takewhile(lambda x: x != 9, a))  # 當 pred_func 傳回 False 時停止"
   ]
  },
  {
   "cell_type": "code",
   "execution_count": 13,
   "metadata": {
    "collapsed": false
   },
   "outputs": [
    {
     "data": {
      "text/plain": [
       "[9, 2, 4, 7]"
      ]
     },
     "execution_count": 13,
     "metadata": {},
     "output_type": "execute_result"
    }
   ],
   "source": [
    "list(dropwhile(lambda x: x != 9, a))  # 當 pred_func 傳回 False 時開始"
   ]
  },
  {
   "cell_type": "code",
   "execution_count": 14,
   "metadata": {
    "collapsed": false
   },
   "outputs": [
    {
     "data": {
      "text/plain": [
       "[3, 8, 21, 55]"
      ]
     },
     "execution_count": 14,
     "metadata": {},
     "output_type": "execute_result"
    }
   ],
   "source": [
    "list(islice(fibonacci(), 3, 10, 2))  # 取出第 3, 5, 7, 9 個Fibonacci數"
   ]
  },
  {
   "cell_type": "code",
   "execution_count": 15,
   "metadata": {
    "collapsed": false
   },
   "outputs": [
    {
     "name": "stdout",
     "output_type": "stream",
     "text": [
      "[1, 1]\n",
      "[2, 2, 2]\n",
      "[3]\n",
      "[1, 1]\n"
     ]
    }
   ],
   "source": [
    "for k, it in groupby([1, 1, 2, 2, 2, 3, 1, 1]):  # 如果groupby沒有指定key，則iterable裡每個值都是自己的key\n",
    "    print list(it)"
   ]
  },
  {
   "cell_type": "code",
   "execution_count": 16,
   "metadata": {
    "collapsed": false
   },
   "outputs": [
    {
     "name": "stdout",
     "output_type": "stream",
     "text": [
      "[1, 5, 8, 3, 6]\n",
      "[9]\n",
      "[2, 4, 7]\n"
     ]
    }
   ],
   "source": [
    "for k, it in groupby(a, lambda x: x == 9):  # 當key值改變時，會產生新的iterator\n",
    "    print list(it)"
   ]
  },
  {
   "cell_type": "markdown",
   "metadata": {},
   "source": [
    "排列組合相關的function:\n",
    "\n",
    "* `product(p, q)`: 傳回所有`(p[i],q[j])`的組合，總數應該是`len(p)*len(q)`\n",
    "* `permutations(p, [,r])`: 傳回`p`中取`r`個元素所有可能的排列，如果不指定`r`則會用所有元素\n",
    "* `combinations(p, r)`: 傳回`p`中取`r`個元素的所有組合\n",
    "* `combinations_with_replacement(p, r)`: 傳回`p`中取`r`個元素的所有組合，但元素可重複出現"
   ]
  },
  {
   "cell_type": "code",
   "execution_count": 17,
   "metadata": {
    "collapsed": false
   },
   "outputs": [
    {
     "data": {
      "text/plain": [
       "[(1, 3), (1, 4), (1, 5), (2, 3), (2, 4), (2, 5)]"
      ]
     },
     "execution_count": 17,
     "metadata": {},
     "output_type": "execute_result"
    }
   ],
   "source": [
    "list(product([1,2], [3,4,5]))"
   ]
  },
  {
   "cell_type": "code",
   "execution_count": 18,
   "metadata": {
    "collapsed": false
   },
   "outputs": [
    {
     "data": {
      "text/plain": [
       "[(1, 2, 3), (1, 3, 2), (2, 1, 3), (2, 3, 1), (3, 1, 2), (3, 2, 1)]"
      ]
     },
     "execution_count": 18,
     "metadata": {},
     "output_type": "execute_result"
    }
   ],
   "source": [
    "list(permutations([1, 2, 3]))"
   ]
  },
  {
   "cell_type": "code",
   "execution_count": 19,
   "metadata": {
    "collapsed": false
   },
   "outputs": [
    {
     "data": {
      "text/plain": [
       "[(1, 2), (1, 3), (2, 1), (2, 3), (3, 1), (3, 2)]"
      ]
     },
     "execution_count": 19,
     "metadata": {},
     "output_type": "execute_result"
    }
   ],
   "source": [
    "list(permutations([1, 2, 3], 2))"
   ]
  },
  {
   "cell_type": "code",
   "execution_count": 20,
   "metadata": {
    "collapsed": false
   },
   "outputs": [
    {
     "data": {
      "text/plain": [
       "[(1, 2), (1, 3), (2, 3)]"
      ]
     },
     "execution_count": 20,
     "metadata": {},
     "output_type": "execute_result"
    }
   ],
   "source": [
    "list(combinations([1, 2, 3], 2))"
   ]
  },
  {
   "cell_type": "code",
   "execution_count": 21,
   "metadata": {
    "collapsed": false
   },
   "outputs": [
    {
     "data": {
      "text/plain": [
       "[(1, 1), (1, 2), (1, 3), (2, 2), (2, 3), (3, 3)]"
      ]
     },
     "execution_count": 21,
     "metadata": {},
     "output_type": "execute_result"
    }
   ],
   "source": [
    "list(combinations_with_replacement([1, 2, 3], 2))"
   ]
  },
  {
   "cell_type": "markdown",
   "metadata": {},
   "source": [
    "## Recipes"
   ]
  },
  {
   "cell_type": "markdown",
   "metadata": {},
   "source": [
    "`next(iterator [,default])` 的用途是取得iterator的下一個元素\n",
    "\n",
    "* 如果`default`有設任何值(例如`None`)，當iterator清空時，會傳回`default`\n",
    "* 如果`default`沒有設，當iterator清空時，會產生`StopIteration`"
   ]
  },
  {
   "cell_type": "code",
   "execution_count": 22,
   "metadata": {
    "collapsed": false
   },
   "outputs": [
    {
     "name": "stdout",
     "output_type": "stream",
     "text": [
      "11 12 13 14"
     ]
    },
    {
     "ename": "StopIteration",
     "evalue": "",
     "output_type": "error",
     "traceback": [
      "\u001b[1;31m---------------------------------------------------------------------------\u001b[0m",
      "\u001b[1;31mStopIteration\u001b[0m                             Traceback (most recent call last)",
      "\u001b[1;32m<ipython-input-22-51cf432da0e2>\u001b[0m in \u001b[0;36m<module>\u001b[1;34m()\u001b[0m\n\u001b[0;32m      1\u001b[0m \u001b[0mit\u001b[0m \u001b[1;33m=\u001b[0m \u001b[1;33m(\u001b[0m\u001b[0mi\u001b[0m \u001b[1;32mfor\u001b[0m \u001b[0mi\u001b[0m \u001b[1;32min\u001b[0m \u001b[0mb\u001b[0m\u001b[1;33m)\u001b[0m\u001b[1;33m\u001b[0m\u001b[0m\n\u001b[1;32m----> 2\u001b[1;33m \u001b[1;32mprint\u001b[0m \u001b[0mnext\u001b[0m\u001b[1;33m(\u001b[0m\u001b[0mit\u001b[0m\u001b[1;33m)\u001b[0m\u001b[1;33m,\u001b[0m \u001b[0mnext\u001b[0m\u001b[1;33m(\u001b[0m\u001b[0mit\u001b[0m\u001b[1;33m)\u001b[0m\u001b[1;33m,\u001b[0m \u001b[0mnext\u001b[0m\u001b[1;33m(\u001b[0m\u001b[0mit\u001b[0m\u001b[1;33m)\u001b[0m\u001b[1;33m,\u001b[0m \u001b[0mnext\u001b[0m\u001b[1;33m(\u001b[0m\u001b[0mit\u001b[0m\u001b[1;33m)\u001b[0m\u001b[1;33m,\u001b[0m \u001b[0mnext\u001b[0m\u001b[1;33m(\u001b[0m\u001b[0mit\u001b[0m\u001b[1;33m)\u001b[0m\u001b[1;33m\u001b[0m\u001b[0m\n\u001b[0m",
      "\u001b[1;31mStopIteration\u001b[0m: "
     ]
    }
   ],
   "source": [
    "it = (i for i in b)\n",
    "print next(it), next(it), next(it), next(it), next(it)"
   ]
  },
  {
   "cell_type": "markdown",
   "metadata": {},
   "source": [
    "要消耗一個iterator的前n個元素，可以結合`next`及`islice`。  \n",
    "`islice(iterator, n, n)`會取出iterator前n個元素並丟棄"
   ]
  },
  {
   "cell_type": "code",
   "execution_count": 23,
   "metadata": {
    "collapsed": false
   },
   "outputs": [
    {
     "data": {
      "text/plain": [
       "[(8, 13), (3, 14)]"
      ]
     },
     "execution_count": 23,
     "metadata": {},
     "output_type": "execute_result"
    },
    {
     "name": "stdout",
     "output_type": "stream",
     "text": [
      "\n"
     ]
    }
   ],
   "source": [
    "iterator = izip(a, b)  # 內容是 (1, 11), (5, 12), (8, 13), (3, 14)\n",
    "next(islice(iterator, 2, 2), None)  # (1, 11), (5, 12) 被丟掉了\n",
    "list(iterator)"
   ]
  },
  {
   "cell_type": "markdown",
   "metadata": {},
   "source": [
    "要消耗一個iterator的所有元素，可以用`collections.deque`，它會一直取iterator的元素直到清空為止。  \n",
    "為了減少記憶體用量，`collections.deque`的大小可設為0，則取出的元素就會直接丟棄。"
   ]
  },
  {
   "cell_type": "code",
   "execution_count": 24,
   "metadata": {
    "collapsed": false
   },
   "outputs": [
    {
     "data": {
      "text/plain": [
       "[]"
      ]
     },
     "execution_count": 24,
     "metadata": {},
     "output_type": "execute_result"
    }
   ],
   "source": [
    "from collections import deque\n",
    "iterator = izip(a, b)\n",
    "deque(iterator, maxlen=0)\n",
    "list(iterator)"
   ]
  },
  {
   "cell_type": "markdown",
   "metadata": {},
   "source": [
    "計算符合條件的元素個數，可以結合`sum`與`imap`"
   ]
  },
  {
   "cell_type": "code",
   "execution_count": 25,
   "metadata": {
    "collapsed": false
   },
   "outputs": [
    {
     "data": {
      "text/plain": [
       "2"
      ]
     },
     "execution_count": 25,
     "metadata": {},
     "output_type": "execute_result"
    }
   ],
   "source": [
    "iterator = permutations([1, 2, 3])\n",
    "sum(imap(lambda x: x[1] == 2, iterator))  # 符合條件的是 (1, 2, 3), (3, 2, 1)"
   ]
  },
  {
   "cell_type": "markdown",
   "metadata": {},
   "source": [
    "用有限長度的`list`產生無限長度的generator，但後面都填`None`"
   ]
  },
  {
   "cell_type": "code",
   "execution_count": 26,
   "metadata": {
    "collapsed": false
   },
   "outputs": [
    {
     "data": {
      "text/plain": [
       "<itertools.chain at 0x3b34be0>"
      ]
     },
     "execution_count": 26,
     "metadata": {},
     "output_type": "execute_result"
    }
   ],
   "source": [
    "chain(permutations([1, 2, 3]), repeat(None))"
   ]
  },
  {
   "cell_type": "markdown",
   "metadata": {},
   "source": [
    "將`list` of `list`結合成一個`list`"
   ]
  },
  {
   "cell_type": "code",
   "execution_count": 27,
   "metadata": {
    "collapsed": false
   },
   "outputs": [
    {
     "data": {
      "text/plain": [
       "[1, 3, 4, 5, 6, [8, 9]]"
      ]
     },
     "execution_count": 27,
     "metadata": {},
     "output_type": "execute_result"
    }
   ],
   "source": [
    "# 注意: list層數只會少一層，例如下面的 [8, 9] 仍然存在\n",
    "list(chain.from_iterable([[1, 3], [4, 5], [6, [8, 9]]]))"
   ]
  },
  {
   "cell_type": "markdown",
   "metadata": {},
   "source": [
    "將`list`變成每n個一組的`tuple`"
   ]
  },
  {
   "cell_type": "code",
   "execution_count": 28,
   "metadata": {
    "collapsed": false
   },
   "outputs": [
    {
     "data": {
      "text/plain": [
       "[('A', 'B', 'C'), ('D', 'E', 'F'), ('G', None, None)]"
      ]
     },
     "execution_count": 28,
     "metadata": {},
     "output_type": "execute_result"
    }
   ],
   "source": [
    "args = [iter('ABCDEFG')] * 3  # args是一個list of iterators [it, it, it]，但三個it都代表同一個iterator\n",
    "list(izip_longest(*args))  # 用 *args 將list展開成三個參數"
   ]
  },
  {
   "cell_type": "markdown",
   "metadata": {},
   "source": [
    "列出所有組合 (powerset)"
   ]
  },
  {
   "cell_type": "code",
   "execution_count": 29,
   "metadata": {
    "collapsed": false
   },
   "outputs": [
    {
     "data": {
      "text/plain": [
       "[(), (1,), (2,), (3,), (1, 2), (1, 3), (2, 3), (1, 2, 3)]"
      ]
     },
     "execution_count": 29,
     "metadata": {},
     "output_type": "execute_result"
    }
   ],
   "source": [
    "list(chain.from_iterable(combinations([1, 2, 3], r) for r in range(4)))"
   ]
  },
  {
   "cell_type": "code",
   "execution_count": null,
   "metadata": {
    "collapsed": true
   },
   "outputs": [],
   "source": []
  }
 ],
 "metadata": {
  "kernelspec": {
   "display_name": "Python 2",
   "language": "python",
   "name": "python2"
  },
  "language_info": {
   "codemirror_mode": {
    "name": "ipython",
    "version": 2
   },
   "file_extension": ".py",
   "mimetype": "text/x-python",
   "name": "python",
   "nbconvert_exporter": "python",
   "pygments_lexer": "ipython2",
   "version": "2.7.11"
  }
 },
 "nbformat": 4,
 "nbformat_minor": 0
}
