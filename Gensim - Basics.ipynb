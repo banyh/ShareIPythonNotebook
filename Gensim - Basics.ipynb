{
 "cells": [
  {
   "cell_type": "markdown",
   "metadata": {},
   "source": [
    "# 必備的module"
   ]
  },
  {
   "cell_type": "code",
   "execution_count": 1,
   "metadata": {
    "collapsed": true
   },
   "outputs": [],
   "source": [
    "import numpy as np\n",
    "from scipy import spatial"
   ]
  },
  {
   "cell_type": "markdown",
   "metadata": {},
   "source": [
    "## 在python中計算cosine similarity最快的方法是什麼?\n",
    "\n",
    "1. 方法1: 利用`spatial.distance.cosin`\n",
    "2. 方法2: 利用`np.dot`，但要自己除以向量長度\n",
    "3. 方法3: 土法鍊鋼\n",
    "4. 方法4: HM的方法"
   ]
  },
  {
   "cell_type": "code",
   "execution_count": 2,
   "metadata": {
    "collapsed": true
   },
   "outputs": [],
   "source": [
    "def sim1(n):\n",
    "    v1 = np.random.randint(0, 100, n)\n",
    "    v2 = np.random.randint(0, 100, n)\n",
    "    return 1 - spatial.distance.cosine(v1, v2)"
   ]
  },
  {
   "cell_type": "code",
   "execution_count": 3,
   "metadata": {
    "collapsed": false
   },
   "outputs": [],
   "source": [
    "def sim2(n):\n",
    "    v1 = np.random.randint(0, 100, n)\n",
    "    v2 = np.random.randint(0, 100, n)\n",
    "    return np.dot(v1, v2) / np.linalg.norm(v1) / np.linalg.norm(v2)"
   ]
  },
  {
   "cell_type": "code",
   "execution_count": 4,
   "metadata": {
    "collapsed": true
   },
   "outputs": [],
   "source": [
    "import math\n",
    "def sim3(n):\n",
    "    v1 = np.random.randint(0, 100, n)\n",
    "    v2 = np.random.randint(0, 100, n)\n",
    "    return sum(v1 * v2) / math.sqrt(sum(v1 ** 2)) / math.sqrt(sum(v2 ** 2))"
   ]
  },
  {
   "cell_type": "code",
   "execution_count": 5,
   "metadata": {
    "collapsed": true
   },
   "outputs": [],
   "source": [
    "from itertools import izip\n",
    "def dot_product(v1, v2):\n",
    "    return sum(map(lambda x: x[0] * x[1], izip(v1, v2)))\n",
    "\n",
    "def sim4(n):\n",
    "    v1 = np.random.randint(0, 100, n)\n",
    "    v2 = np.random.randint(0, 100, n)\n",
    "    prod = dot_product(v1, v2)\n",
    "    len1 = math.sqrt(dot_product(v1, v1))\n",
    "    len2 = math.sqrt(dot_product(v2, v2))\n",
    "    return prod / (len1 * len2)"
   ]
  },
  {
   "cell_type": "code",
   "execution_count": 6,
   "metadata": {
    "collapsed": false
   },
   "outputs": [
    {
     "name": "stdout",
     "output_type": "stream",
     "text": [
      "The slowest run took 913.62 times longer than the fastest. This could mean that an intermediate result is being cached \n",
      "10000 loops, best of 3: 61.2 µs per loop\n"
     ]
    }
   ],
   "source": [
    "%timeit sim1(400)"
   ]
  },
  {
   "cell_type": "code",
   "execution_count": 7,
   "metadata": {
    "collapsed": false
   },
   "outputs": [
    {
     "name": "stdout",
     "output_type": "stream",
     "text": [
      "10000 loops, best of 3: 42.1 µs per loop\n"
     ]
    }
   ],
   "source": [
    "%timeit sim2(400)"
   ]
  },
  {
   "cell_type": "code",
   "execution_count": 8,
   "metadata": {
    "collapsed": false
   },
   "outputs": [
    {
     "name": "stdout",
     "output_type": "stream",
     "text": [
      "The slowest run took 874.65 times longer than the fastest. This could mean that an intermediate result is being cached \n",
      "10000 loops, best of 3: 189 µs per loop\n"
     ]
    }
   ],
   "source": [
    "%timeit sim3(400)"
   ]
  },
  {
   "cell_type": "code",
   "execution_count": 9,
   "metadata": {
    "collapsed": false
   },
   "outputs": [
    {
     "name": "stdout",
     "output_type": "stream",
     "text": [
      "1000 loops, best of 3: 624 µs per loop\n"
     ]
    }
   ],
   "source": [
    "%timeit sim4(400)"
   ]
  },
  {
   "cell_type": "markdown",
   "metadata": {},
   "source": [
    "### 結論\n",
    "HM的方法最慢，用`np.dot`及`np.linalg.norm`組合的最快"
   ]
  },
  {
   "cell_type": "markdown",
   "metadata": {},
   "source": [
    "## 日期時間的格式"
   ]
  },
  {
   "cell_type": "code",
   "execution_count": 10,
   "metadata": {
    "collapsed": false
   },
   "outputs": [],
   "source": [
    "from datetime import datetime as dt"
   ]
  },
  {
   "cell_type": "code",
   "execution_count": 11,
   "metadata": {
    "collapsed": false
   },
   "outputs": [
    {
     "data": {
      "text/plain": [
       "(datetime.date(2016, 2, 2),\n",
       " datetime.time(18, 1, 23, 168066),\n",
       " datetime.datetime(2016, 2, 2, 18, 1, 23, 168066))"
      ]
     },
     "execution_count": 11,
     "metadata": {},
     "output_type": "execute_result"
    }
   ],
   "source": [
    "start = dt.now()\n",
    "start.date(), start.time(), start"
   ]
  },
  {
   "cell_type": "code",
   "execution_count": 12,
   "metadata": {
    "collapsed": false
   },
   "outputs": [
    {
     "data": {
      "text/plain": [
       "datetime.timedelta(0, 1, 224554)"
      ]
     },
     "execution_count": 12,
     "metadata": {},
     "output_type": "execute_result"
    }
   ],
   "source": [
    "dt.now() - start"
   ]
  },
  {
   "cell_type": "markdown",
   "metadata": {},
   "source": [
    "## `logging`: 整合所有的module log\n",
    "\n",
    "`logging` module的用途是讓所有module有一致的介面可以留下執行記錄。基本的logging system有兩個角色\n",
    "* `Logger`: 多個logger組成一個樹狀結構，會傳給root logger匯整\n",
    "* `Handler`: 接收root logger的資訊，並輸出到檔案\n",
    "\n",
    "在預設情況下，會使用`StreamHandler`，將log輸出到標準輸出。如果在`basicConfig`中指定filename參數，則會建立`FileHandler`輸出到檔案。"
   ]
  },
  {
   "cell_type": "code",
   "execution_count": 13,
   "metadata": {
    "collapsed": true
   },
   "outputs": [],
   "source": [
    "import logging\n",
    "fmtstr = '%(asctime)s [%(levelname)s][%(name)s] %(message)s'\n",
    "datefmtstr = '%Y/%m/%d %H:%M:%S'\n",
    "if len(logging.getLogger().handlers) >= 1:\n",
    "    logging.getLogger().handlers[0].setFormatter(logging.Formatter(fmtstr, datefmtstr))\n",
    "else:\n",
    "    logging.basicConfig(format=fmtstr, datefmt=datefmtstr)"
   ]
  },
  {
   "cell_type": "code",
   "execution_count": 14,
   "metadata": {
    "collapsed": false
   },
   "outputs": [
    {
     "name": "stderr",
     "output_type": "stream",
     "text": [
      "2016/02/02 18:01:31 [WARNING][root] please set 100 in length\n"
     ]
    }
   ],
   "source": [
    "# 如果直接呼叫 logging.warning，就是使用root logger\n",
    "logging.warning(\"please set %d in %s\", 100, \"length\")"
   ]
  },
  {
   "cell_type": "markdown",
   "metadata": {},
   "source": [
    "如果從某個module呼叫時，就用"
   ]
  },
  {
   "cell_type": "code",
   "execution_count": 15,
   "metadata": {
    "collapsed": false
   },
   "outputs": [],
   "source": [
    "# 在root logger下面增加child logger\n",
    "aaa_logger = logging.getLogger('aaa')\n",
    "bbb_logger = aaa_logger.getChild('bbb')\n",
    "ccc_logger = bbb_logger.getChild('ccc')"
   ]
  },
  {
   "cell_type": "code",
   "execution_count": 16,
   "metadata": {
    "collapsed": false
   },
   "outputs": [
    {
     "name": "stderr",
     "output_type": "stream",
     "text": [
      "2016/02/02 18:01:37 [WARNING][aaa] hello\n"
     ]
    }
   ],
   "source": [
    "aaa_logger.warn(\"hello\")"
   ]
  },
  {
   "cell_type": "code",
   "execution_count": 17,
   "metadata": {
    "collapsed": false
   },
   "outputs": [
    {
     "name": "stderr",
     "output_type": "stream",
     "text": [
      "2016/02/02 18:01:38 [WARNING][aaa.bbb] hello\n"
     ]
    }
   ],
   "source": [
    "bbb_logger.warn(\"hello\")"
   ]
  },
  {
   "cell_type": "code",
   "execution_count": 18,
   "metadata": {
    "collapsed": false
   },
   "outputs": [
    {
     "name": "stderr",
     "output_type": "stream",
     "text": [
      "2016/02/02 18:01:39 [WARNING][aaa.bbb.ccc] hello\n"
     ]
    }
   ],
   "source": [
    "# 當logger是樹狀結構時，logger的名稱會變成 aaa.bbb.ccc\n",
    "ccc_logger.warn(\"hello\")"
   ]
  },
  {
   "cell_type": "code",
   "execution_count": null,
   "metadata": {
    "collapsed": true
   },
   "outputs": [],
   "source": []
  }
 ],
 "metadata": {
  "kernelspec": {
   "display_name": "Python 2",
   "language": "python",
   "name": "python2"
  },
  "language_info": {
   "codemirror_mode": {
    "name": "ipython",
    "version": 2
   },
   "file_extension": ".py",
   "mimetype": "text/x-python",
   "name": "python",
   "nbconvert_exporter": "python",
   "pygments_lexer": "ipython2",
   "version": "2.7.6"
  }
 },
 "nbformat": 4,
 "nbformat_minor": 0
}
