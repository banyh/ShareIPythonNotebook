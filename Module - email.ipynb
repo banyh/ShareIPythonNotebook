{
 "cells": [
  {
   "cell_type": "markdown",
   "metadata": {},
   "source": [
    "`email` module是用來分析及產生MIME Text的內容，但實際要送出email需要靠`smtplib`"
   ]
  },
  {
   "cell_type": "code",
   "execution_count": 25,
   "metadata": {
    "collapsed": true
   },
   "outputs": [],
   "source": [
    "title = u'Title'\n",
    "recipients = [u'banyhung@patentcloud.com']\n",
    "sender = u'noreply@patentcloud.com'\n",
    "subject = u'Test subject'\n",
    "body = u'你好'\n",
    "server = '10.60.94.110'"
   ]
  },
  {
   "cell_type": "code",
   "execution_count": 26,
   "metadata": {
    "collapsed": false
   },
   "outputs": [
    {
     "data": {
      "text/plain": [
       "(221, '2.0.0 nhantispam.scienbizip.com closing connection')"
      ]
     },
     "execution_count": 26,
     "metadata": {},
     "output_type": "execute_result"
    }
   ],
   "source": [
    "import smtplib\n",
    "from email.mime.text import MIMEText   # 產生 MIME Text\n",
    "from email.utils import COMMASPACE, formatdate\n",
    "\n",
    "# 直接由字串產生 MIME Text\n",
    "msg = MIMEText(body, _charset='utf-8')\n",
    "\n",
    "# 如果要從檔案中讀取\n",
    "# with open(textfile, 'rb') as fp:\n",
    "#     msg = MIMEText(fp.read())\n",
    "\n",
    "msg['Subject'] = subject\n",
    "msg['From'] = sender\n",
    "msg['To'] = COMMASPACE.join(recipients)\n",
    "msg['Date'] = formatdate(localtime=True)\n",
    "\n",
    "s = smtplib.SMTP(server)\n",
    "s.sendmail(sender, recipients, msg.as_string())\n",
    "s.quit()"
   ]
  },
  {
   "cell_type": "code",
   "execution_count": 27,
   "metadata": {
    "collapsed": false
   },
   "outputs": [
    {
     "name": "stdout",
     "output_type": "stream",
     "text": [
      "Content-Type: text/plain; charset=\"utf-8\"\n",
      "MIME-Version: 1.0\n",
      "Content-Transfer-Encoding: base64\n",
      "Subject: Test subject\n",
      "From: noreply@patentcloud.com\n",
      "To: banyhung@patentcloud.com\n",
      "Date: Thu, 03 Mar 2016 09:56:26 +0800\n",
      "\n",
      "5L2g5aW9\n",
      "\n"
     ]
    }
   ],
   "source": [
    "print msg.as_string()"
   ]
  },
  {
   "cell_type": "markdown",
   "metadata": {},
   "source": [
    "## 利用 Parser 讀取MIME header"
   ]
  },
  {
   "cell_type": "code",
   "execution_count": 19,
   "metadata": {
    "collapsed": false
   },
   "outputs": [
    {
     "name": "stdout",
     "output_type": "stream",
     "text": [
      "banyhung@patentcloud.com\n",
      "noreply@patentcloud.com\n",
      "Test subject\n",
      "base64\n"
     ]
    }
   ],
   "source": [
    "from email.parser import Parser\n",
    "headers = Parser().parsestr(msg.as_string())\n",
    "print headers['to']\n",
    "print headers['from']\n",
    "print headers['subject']\n",
    "print headers['Content-Transfer-Encoding']"
   ]
  },
  {
   "cell_type": "markdown",
   "metadata": {},
   "source": [
    "## 在email中附檔"
   ]
  },
  {
   "cell_type": "code",
   "execution_count": 32,
   "metadata": {
    "collapsed": true
   },
   "outputs": [],
   "source": [
    "from email.mime.application import MIMEApplication\n",
    "from email.mime.multipart import MIMEMultipart\n",
    "from email.mime.text import MIMEText\n",
    "from os import listdir"
   ]
  },
  {
   "cell_type": "code",
   "execution_count": 42,
   "metadata": {
    "collapsed": false
   },
   "outputs": [],
   "source": [
    "msg = MIMEMultipart()\n",
    "\n",
    "msg['Subject'] = subject\n",
    "msg['From'] = sender\n",
    "msg['To'] = COMMASPACE.join(recipients)\n",
    "msg['Date'] = formatdate(localtime=True)\n",
    "msg.attach(MIMEText(body, _charset='utf-8'))\n",
    "\n",
    "for filename in [fn for fn in listdir('.') if fn.endswith('ipynb')]:\n",
    "    with open(filename, \"rb\") as fp:\n",
    "        msg.attach(MIMEApplication(fp.read(),\n",
    "                                   Content_Disposition='attachment; filename=\"%s\"' % filename,\n",
    "                                   Name=filename ))\n",
    "\n",
    "s = smtplib.SMTP(server)\n",
    "s.sendmail(sender, recipients, msg.as_string())\n",
    "s.close()"
   ]
  },
  {
   "cell_type": "code",
   "execution_count": null,
   "metadata": {
    "collapsed": true
   },
   "outputs": [],
   "source": []
  }
 ],
 "metadata": {
  "kernelspec": {
   "display_name": "Python 2",
   "language": "python",
   "name": "python2"
  },
  "language_info": {
   "codemirror_mode": {
    "name": "ipython",
    "version": 2
   },
   "file_extension": ".py",
   "mimetype": "text/x-python",
   "name": "python",
   "nbconvert_exporter": "python",
   "pygments_lexer": "ipython2",
   "version": "2.7.11"
  }
 },
 "nbformat": 4,
 "nbformat_minor": 0
}
