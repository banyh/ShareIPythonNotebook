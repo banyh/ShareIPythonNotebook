{
 "cells": [
  {
   "cell_type": "markdown",
   "metadata": {},
   "source": [
    "## Build Brown Corpus"
   ]
  },
  {
   "cell_type": "code",
   "execution_count": 1,
   "metadata": {
    "collapsed": true
   },
   "outputs": [],
   "source": [
    "from gensim import corpora, models, similarities\n",
    "from nltk.corpus import brown\n",
    "import nltk\n",
    "import re"
   ]
  },
  {
   "cell_type": "code",
   "execution_count": 2,
   "metadata": {
    "collapsed": false
   },
   "outputs": [
    {
     "name": "stdout",
     "output_type": "stream",
     "text": [
      "Dictionary(49815 unique tokens: [u'fawn', u'belligerence', u'mid-week', u'1,800', u'deferment']...)\n"
     ]
    }
   ],
   "source": [
    "dictb = corpora.Dictionary([[word.lower() for word in sent]\n",
    "                            for sent in brown.sents()])\n",
    "print dictb"
   ]
  },
  {
   "cell_type": "code",
   "execution_count": 3,
   "metadata": {
    "collapsed": false,
    "scrolled": true
   },
   "outputs": [
    {
     "name": "stdout",
     "output_type": "stream",
     "text": [
      "24477\n"
     ]
    }
   ],
   "source": [
    "stopid = [dictb.id2token[w] for w in nltk.corpus.stopwords.words('english')\n",
    "          if w in dictb.keys()]\n",
    "onceid = [id for id, freq in dictb.dfs.iteritems() if freq == 1]\n",
    "numberid = [id for id, word in dictb.items() if any(char.isdigit() for char in word)]\n",
    "print len(stopid + onceid + numberid)"
   ]
  },
  {
   "cell_type": "code",
   "execution_count": 4,
   "metadata": {
    "collapsed": false,
    "scrolled": true
   },
   "outputs": [
    {
     "name": "stdout",
     "output_type": "stream",
     "text": [
      "Dictionary(26840 unique tokens: [u'woods', u'francesco', u'francesca', u'comically', u'over/under']...)\n"
     ]
    }
   ],
   "source": [
    "dictb.filter_tokens(stopid + onceid + numberid)\n",
    "dictb.compactify()\n",
    "print dictb"
   ]
  },
  {
   "cell_type": "code",
   "execution_count": 5,
   "metadata": {
    "collapsed": false
   },
   "outputs": [],
   "source": [
    "corpus = [dictb.doc2bow([w.lower() for w in sent]) for sent in brown.sents()]"
   ]
  },
  {
   "cell_type": "code",
   "execution_count": 6,
   "metadata": {
    "collapsed": false
   },
   "outputs": [],
   "source": [
    "corpora.MmCorpus.serialize('brown.mm', corpus)\n",
    "dictb.save('brown.dict')"
   ]
  },
  {
   "cell_type": "markdown",
   "metadata": {},
   "source": [
    "## Transformation\n",
    "\n",
    "一般有兩個步驟\n",
    "\n",
    "1. 第一步，利用traning corpus產生一個model\n",
    "2. 第二步，使用model轉換corpus或未來的test data"
   ]
  },
  {
   "cell_type": "code",
   "execution_count": 7,
   "metadata": {
    "collapsed": true
   },
   "outputs": [],
   "source": [
    "tfidf = models.TfidfModel(corpus)  # 第一步，產生model"
   ]
  },
  {
   "cell_type": "code",
   "execution_count": 8,
   "metadata": {
    "collapsed": false
   },
   "outputs": [
    {
     "data": {
      "text/plain": [
       "[(251, 0.0054366210864968635),\n",
       " (2769, 0.2573296526826243),\n",
       " (4196, 0.23146850516068368),\n",
       " (5258, 0.24089333580097672),\n",
       " (5893, 0.24971487236866738),\n",
       " (7094, 0.07203518732269294),\n",
       " (7415, 0.10101429608144462),\n",
       " (7755, 0.20931521918529866),\n",
       " (8505, 0.3214467806899905),\n",
       " (8585, 0.018273466302608996),\n",
       " (8666, 0.20489153870964272),\n",
       " (10023, 0.2162871901775302),\n",
       " (11866, 0.178026045458523),\n",
       " (12102, 0.1208869196608621),\n",
       " (12327, 0.13821665373548117),\n",
       " (12505, 0.03230996681149036),\n",
       " (13790, 0.24503612567300428),\n",
       " (13905, 0.2543720975648415),\n",
       " (18918, 0.16741563612639151),\n",
       " (19791, 0.07173175044792364),\n",
       " (21390, 0.2346191803192959),\n",
       " (22184, 0.29868491027427885),\n",
       " (22278, 0.06632764794493408),\n",
       " (22921, 0.34654558591074425),\n",
       " (23566, 0.12259937792129812)]"
      ]
     },
     "execution_count": 8,
     "metadata": {},
     "output_type": "execute_result"
    }
   ],
   "source": [
    "tfidf[corpus[0]]  # 第二步，轉換vector"
   ]
  },
  {
   "cell_type": "markdown",
   "metadata": {},
   "source": [
    "**注意**: 呼叫`model[corpus]`是即時運算，結果不會保存，所以每次所需的時間都相同。如果轉換很花時間，你需要將轉換的結果存到硬碟再用streaming讀取。\n",
    "\n",
    "不同轉換之間可以串接，例如先作TF-IDF再作LSI。"
   ]
  },
  {
   "cell_type": "code",
   "execution_count": 11,
   "metadata": {
    "collapsed": false
   },
   "outputs": [],
   "source": [
    "tfidf = models.TfidfModel(corpus)\n",
    "corpus_tfidf = tfidf[corpus]"
   ]
  },
  {
   "cell_type": "code",
   "execution_count": 12,
   "metadata": {
    "collapsed": true
   },
   "outputs": [],
   "source": [
    "lsi = models.LsiModel(corpus_tfidf, num_topics=200, id2word=dictb)\n",
    "corpus_lsi = lsi[corpus_tfidf]"
   ]
  },
  {
   "cell_type": "code",
   "execution_count": 13,
   "metadata": {
    "collapsed": false
   },
   "outputs": [
    {
     "data": {
      "text/plain": [
       "[u'0.346*\"?\" + 0.240*\",\" + 0.221*\"\\'\\'\" + 0.211*\"``\" + 0.197*\"the\" + 0.182*\"to\" + 0.179*\"of\" + 0.170*\"a\"',\n",
       " u'-0.839*\"?\" + 0.166*\";\" + -0.146*\"\\'\\'\" + -0.127*\"``\" + -0.124*\"you\" + 0.123*\"the\" + 0.122*\",\" + 0.118*\"of\"',\n",
       " u'-0.922*\";\" + 0.182*\"!\" + -0.167*\"?\" + 0.143*\".\" + 0.132*\"\\'\\'\" + 0.119*\"``\" + 0.086*\"i\" + 0.058*\"said\"',\n",
       " u'-0.709*\"!\" + -0.354*\"\\'\\'\" + -0.335*\"``\" + -0.271*\";\" + 0.212*\"?\" + -0.146*\"i\" + -0.112*\"said\" + 0.087*\"of\"',\n",
       " u'-0.977*\".\" + -0.141*\";\" + 0.041*\",\" + 0.040*\"of\" + 0.039*\"the\" + 0.038*\"!\" + -0.037*\"``\" + 0.034*\"to\"']"
      ]
     },
     "execution_count": 13,
     "metadata": {},
     "output_type": "execute_result"
    }
   ],
   "source": [
    "lsi.print_topics(5, 8)  # 列出前5名的topics"
   ]
  },
  {
   "cell_type": "markdown",
   "metadata": {},
   "source": [
    "## Save and Load"
   ]
  },
  {
   "cell_type": "code",
   "execution_count": 14,
   "metadata": {
    "collapsed": true
   },
   "outputs": [],
   "source": [
    "tfidf.save('model.tfidf')\n",
    "tfidf = models.TfidfModel.load('model.tfidf')"
   ]
  },
  {
   "cell_type": "code",
   "execution_count": 15,
   "metadata": {
    "collapsed": false
   },
   "outputs": [],
   "source": [
    "lsi.save('model.lsi')\n",
    "lsi = models.LsiModel.load('model.lsi')"
   ]
  },
  {
   "cell_type": "markdown",
   "metadata": {
    "collapsed": true
   },
   "source": [
    "## Other Transformations\n",
    "\n",
    "#### Random Projections, RP\n",
    "\n",
    "是一種接近TF-IDF distance的方法，加上一點隨機成份，無論記憶體或CPU都很有效率。  \n",
    "`model = rpmodel.RpModel(tfidf_corpus, num_topics=500)`\n",
    "\n",
    "#### Latent Dirichlet Allocation, LDA\n",
    "\n",
    "另一種bag-of-words的計算方法，是LSA(或稱multinomial PCA)的機率版本。  \n",
    "`model = ldamodel.LdaModel(bow_corpus, id2word=dictionary, num_topics=100)`\n",
    "\n",
    "#### Hierarchical Dirichlet Process, HDP\n",
    "\n",
    "non-parametric bayesian method，不需要指定topic數量。  \n",
    "`model = hdpmodel.HdpModel(bow_corpus, id2word=dictionary)`"
   ]
  }
 ],
 "metadata": {
  "kernelspec": {
   "display_name": "Python 2",
   "language": "python",
   "name": "python2"
  },
  "language_info": {
   "codemirror_mode": {
    "name": "ipython",
    "version": 2
   },
   "file_extension": ".py",
   "mimetype": "text/x-python",
   "name": "python",
   "nbconvert_exporter": "python",
   "pygments_lexer": "ipython2",
   "version": "2.7.6"
  }
 },
 "nbformat": 4,
 "nbformat_minor": 0
}
