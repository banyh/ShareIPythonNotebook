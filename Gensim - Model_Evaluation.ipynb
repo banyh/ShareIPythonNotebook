{
 "cells": [
  {
   "cell_type": "code",
   "execution_count": 1,
   "metadata": {
    "collapsed": true
   },
   "outputs": [],
   "source": [
    "from gensim.models.doc2vec import Doc2Vec, TaggedDocument\n",
    "from os import listdir\n",
    "from datetime import datetime as dt\n",
    "from collections import defaultdict\n",
    "import numpy as np\n",
    "import codecs\n",
    "import sys, os, json, re\n",
    "import pickle\n",
    "stdin, stdout, stderr = sys.stdin, sys.stdout, sys.stderr\n",
    "reload(sys)\n",
    "sys.stdin, sys.stdout, sys.stderr = stdin, stdout, stderr\n",
    "sys.setdefaultencoding('utf-8')"
   ]
  },
  {
   "cell_type": "markdown",
   "metadata": {},
   "source": [
    "## 將2013 patents的IPC, PatentNumber讀進來"
   ]
  },
  {
   "cell_type": "code",
   "execution_count": 2,
   "metadata": {
    "collapsed": false,
    "scrolled": true
   },
   "outputs": [
    {
     "data": {
      "text/plain": [
       "'/share/USPatentData/tokenized_appDate_2013/2013USPTOPatents_by_skip_1.txt.tokenized'"
      ]
     },
     "execution_count": 2,
     "metadata": {},
     "output_type": "execute_result"
    }
   ],
   "source": [
    "root = '/share/USPatentData/tokenized_appDate_2013/'\n",
    "patentFiles = sorted(listdir(root))\n",
    "os.path.join(root, patentFiles[0])"
   ]
  },
  {
   "cell_type": "code",
   "execution_count": null,
   "metadata": {
    "collapsed": false
   },
   "outputs": [],
   "source": [
    "ipc = defaultdict(list)\n",
    "for fn in patentFiles:\n",
    "    f = codecs.open(os.path.join(root, fn), 'r', 'UTF-8')\n",
    "    print fn\n",
    "    for line in f:\n",
    "        j = json.loads(line)\n",
    "        ipc[j.get('mainIPC')].append(j.get('patentNumber'))"
   ]
  },
  {
   "cell_type": "code",
   "execution_count": 4,
   "metadata": {
    "collapsed": true
   },
   "outputs": [],
   "source": [
    "# 將讀好的IPC寫入檔案\n",
    "pickle.dump(ipc, open('ipc.pickle', 'wb'))"
   ]
  },
  {
   "cell_type": "code",
   "execution_count": 3,
   "metadata": {
    "collapsed": true
   },
   "outputs": [],
   "source": [
    "# 下次要用時，可以讀回IPC\n",
    "ipc = pickle.load(open('ipc.pickle', 'rb'))"
   ]
  },
  {
   "cell_type": "markdown",
   "metadata": {},
   "source": [
    "## 對每個IPC計算最大、最小、平均similarity"
   ]
  },
  {
   "cell_type": "code",
   "execution_count": 5,
   "metadata": {
    "collapsed": true
   },
   "outputs": [],
   "source": [
    "model = Doc2Vec.load('./doc2vec_uspto_2013_dim200_win8_hs0_neg5.model')"
   ]
  },
  {
   "cell_type": "code",
   "execution_count": 6,
   "metadata": {
    "collapsed": false
   },
   "outputs": [
    {
     "data": {
      "text/plain": [
       "[u'C09K 8/38',\n",
       " u'A61D 19/02',\n",
       " u'A61D 19/04',\n",
       " u'A45D0040260000',\n",
       " u'C09K 8/32',\n",
       " u'C09K 8/34',\n",
       " u'C09K 8/36',\n",
       " u'H01M0010480000',\n",
       " u'F04F 5/54',\n",
       " u'B66C 7/10']"
      ]
     },
     "execution_count": 6,
     "metadata": {},
     "output_type": "execute_result"
    }
   ],
   "source": [
    "ipc.keys()[:10]  # ipc中每個key代表一種ipc"
   ]
  },
  {
   "cell_type": "code",
   "execution_count": 12,
   "metadata": {
    "collapsed": false,
    "scrolled": false
   },
   "outputs": [
    {
     "data": {
      "text/plain": [
       "[u'20130331693',\n",
       " u'20150112124',\n",
       " u'20130345497',\n",
       " u'20150148666',\n",
       " u'20140024967',\n",
       " u'20140039431',\n",
       " u'20140142525',\n",
       " u'20140039246',\n",
       " u'20140046126',\n",
       " u'20140142421',\n",
       " u'20150150666']"
      ]
     },
     "execution_count": 12,
     "metadata": {},
     "output_type": "execute_result"
    }
   ],
   "source": [
    "ipc[u'A61D 19/02']  # ipc每個item代表list of patentNumber"
   ]
  },
  {
   "cell_type": "code",
   "execution_count": 9,
   "metadata": {
    "collapsed": true
   },
   "outputs": [],
   "source": [
    "def distProperty(docs):\n",
    "    n = len(docs)\n",
    "    dist = np.array([model.docvecs.similarity(docs[i],docs[j]) for i in np.arange(n) for j in np.arange(i)])\n",
    "    return((np.max(dist), np.average(dist), np.min(dist)))"
   ]
  },
  {
   "cell_type": "code",
   "execution_count": 11,
   "metadata": {
    "collapsed": false,
    "scrolled": false
   },
   "outputs": [
    {
     "data": {
      "text/plain": [
       "(0.14294106350336475, -0.012224296612939764, -0.2030735918859212)"
      ]
     },
     "execution_count": 11,
     "metadata": {},
     "output_type": "execute_result"
    }
   ],
   "source": [
    "distProperty(ipc[u'A61D 19/02'])"
   ]
  },
  {
   "cell_type": "code",
   "execution_count": null,
   "metadata": {
    "collapsed": true
   },
   "outputs": [],
   "source": []
  }
 ],
 "metadata": {
  "kernelspec": {
   "display_name": "Python 2",
   "language": "python",
   "name": "python2"
  },
  "language_info": {
   "codemirror_mode": {
    "name": "ipython",
    "version": 2
   },
   "file_extension": ".py",
   "mimetype": "text/x-python",
   "name": "python",
   "nbconvert_exporter": "python",
   "pygments_lexer": "ipython2",
   "version": "2.7.6"
  }
 },
 "nbformat": 4,
 "nbformat_minor": 0
}
