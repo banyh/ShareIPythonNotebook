{
 "cells": [
  {
   "cell_type": "markdown",
   "metadata": {},
   "source": [
    "# Ch9 Building Feature-Based Grammars\n",
    "\n",
    "本章的目標是回答幾個問題\n",
    "\n",
    "1. CFG的功能太簡單，無法處理複雜的情況。我們如何將CFG以feature延伸，來作更細微的控制?\n",
    "2. feature structure的主要特性是什麼? 如何用它來計算?\n",
    "3. feature-based grammar可以抓到那些語言pattern及語法建構?"
   ]
  },
  {
   "cell_type": "markdown",
   "metadata": {},
   "source": [
    "## Grammatical Features\n",
    "\n",
    "什麼是feature structure? 將一個單字相關的feature放在dictionary中，就是feature structure。"
   ]
  },
  {
   "cell_type": "code",
   "execution_count": 2,
   "metadata": {
    "collapsed": true
   },
   "outputs": [],
   "source": [
    "kim = {'CAT': 'NP', 'ORTH': 'Kim', 'REF': 'k'}\n",
    "chase = {'CAT': 'V', 'ORTH': 'chased', 'REL': 'chase'}"
   ]
  },
  {
   "cell_type": "markdown",
   "metadata": {},
   "source": [
    "在英語中有單數、複數的分別，當單複數改變時，冠詞或動詞的形態也會跟著改變，這種現象稱為**agreement**。例如These/This、Run/Runs等。如果單複數再加上第一人稱、第二人稱、第三人稱的變化，就有六種組合。\n",
    "\n",
    "如果我們希望用CFG表示單複數的文法，可能像這樣(SG表示單數、PL表示複數):\n",
    "```\n",
    "S -> NP_SG VP_SG\n",
    "S -> NP_PL VP_PL\n",
    "NP_SG -> Det_SG N_SG\n",
    "NP_PL -> Det_PL N_PL\n",
    "VP_SG -> V_SG\n",
    "VP_PL -> V_PL\n",
    "Det_SG -> 'this'\n",
    "Det_PL -> 'these'\n",
    "N_SG -> 'dog'\n",
    "N_PL -> 'dogs'\n",
    "V_SG -> 'runs'\n",
    "V_PL -> 'run'\n",
    "```\n",
    "問題是這種表示法太占空間，而且規則太多。\n",
    "如果用feature structure來表示，就可以解決此問題:\n",
    "```\n",
    "Det[NUM=sg] -> 'this'\n",
    "Det[NUM=pl] -> 'these'\n",
    "N[NUM=sg] -> 'dog'\n",
    "N[NUM=pl] -> 'dogs'\n",
    "V[NUM=sg] -> 'runs'\n",
    "V[NUM=pl] -> 'run'\n",
    "\n",
    "S -> NP[NUM=?n] VP[NUM=?n]\n",
    "NP[NUM=?n] -> Det[NUM=?n] N[NUM=?n]\n",
    "VP[NUM=?n] -> V[NUM=?n]\n",
    "```\n",
    "這裡的`?n`變數代表`sg`或`pl`。如果我們用Chart parser來解析\"this dog runs\"，就會正確的解到S。如果解析\"these dog run\"，因為三個NUM不一致，就會造成FAIL。"
   ]
  },
  {
   "cell_type": "markdown",
   "metadata": {},
   "source": [
    "如果要表示動詞的時態，可以加入`SENSE` feature:\n",
    "```\n",
    "IV[TENSE=pres,  NUM=sg] -> 'disappears' | 'walks'\n",
    "TV[TENSE=pres, NUM=sg] -> 'sees' | 'likes'\n",
    "IV[TENSE=pres,  NUM=pl] -> 'disappear' | 'walk'\n",
    "TV[TENSE=pres, NUM=pl] -> 'see' | 'like'\n",
    "IV[TENSE=past] -> 'disappeared' | 'walked'\n",
    "TV[TENSE=past] -> 'saw' | 'liked'\n",
    "```"
   ]
  },
  {
   "cell_type": "markdown",
   "metadata": {},
   "source": [
    "如果要表示助動詞，可以用`aux` feature:\n",
    "```\n",
    "V[TENSE=pres, +aux] -> 'can'\n",
    "V[TENSE=pres, +aux] -> 'may'\n",
    "V[TENSE=pres, -aux] -> 'walks'\n",
    "V[TENSE=pres, -aux] -> 'likes'\n",
    "```"
   ]
  },
  {
   "cell_type": "code",
   "execution_count": 4,
   "metadata": {
    "collapsed": true
   },
   "outputs": [],
   "source": [
    "import nltk"
   ]
  },
  {
   "cell_type": "code",
   "execution_count": 9,
   "metadata": {
    "collapsed": false
   },
   "outputs": [
    {
     "name": "stdout",
     "output_type": "stream",
     "text": [
      "[ NUM   = 'sg'   ]\n",
      "[ TENSE = 'past' ]\n"
     ]
    }
   ],
   "source": [
    "# 在nltk中，建立一個feature structure\n",
    "fs1 = nltk.FeatStruct(TENSE='past', NUM='sg')\n",
    "print fs1"
   ]
  },
  {
   "cell_type": "code",
   "execution_count": 8,
   "metadata": {
    "collapsed": false
   },
   "outputs": [
    {
     "name": "stdout",
     "output_type": "stream",
     "text": [
      "[ AGR = [ NUM   = 'sg'   ] ]\n",
      "[       [ TENSE = 'past' ] ]\n",
      "[                          ]\n",
      "[ POS = 'N'                ]\n"
     ]
    }
   ],
   "source": [
    "# feature structure可以是巢狀的\n",
    "fs2 = nltk.FeatStruct(POS='N', AGR=fs1)\n",
    "print fs2"
   ]
  },
  {
   "cell_type": "code",
   "execution_count": 10,
   "metadata": {
    "collapsed": false
   },
   "outputs": [
    {
     "name": "stdout",
     "output_type": "stream",
     "text": [
      "[       [ GND = 'fem' ] ]\n",
      "[ AGR = [ NUM = 'pl'  ] ]\n",
      "[       [ PER = 3     ] ]\n",
      "[                       ]\n",
      "[ POS = 'N'             ]\n"
     ]
    }
   ],
   "source": [
    "# 也可以用字串產生feature structure\n",
    "print nltk.FeatStruct(\"[POS='N', AGR=[PER=3, NUM='pl', GND='fem']]\")"
   ]
  },
  {
   "cell_type": "code",
   "execution_count": 11,
   "metadata": {
    "collapsed": false
   },
   "outputs": [
    {
     "name": "stdout",
     "output_type": "stream",
     "text": [
      "[ CITY   = 'Paris'      ]\n",
      "[ NUMBER = 74           ]\n",
      "[ STREET = 'rue Pascal' ]\n"
     ]
    }
   ],
   "source": [
    "# unify是將兩個feature structure結合\n",
    "fs1 = nltk.FeatStruct(NUMBER=74, STREET='rue Pascal')\n",
    "fs2 = nltk.FeatStruct(CITY='Paris')\n",
    "print fs1.unify(fs2)"
   ]
  },
  {
   "cell_type": "code",
   "execution_count": 16,
   "metadata": {
    "collapsed": false
   },
   "outputs": [
    {
     "name": "stdout",
     "output_type": "stream",
     "text": [
      "None\n"
     ]
    }
   ],
   "source": [
    "# 如果兩個feature structure有同樣的key，unify就會失敗\n",
    "fs0 = nltk.FeatStruct(A='a')\n",
    "fs1 = nltk.FeatStruct(A='b')\n",
    "fs2 = fs0.unify(fs1)\n",
    "print fs2"
   ]
  },
  {
   "cell_type": "code",
   "execution_count": null,
   "metadata": {
    "collapsed": true
   },
   "outputs": [],
   "source": []
  }
 ],
 "metadata": {
  "kernelspec": {
   "display_name": "Python 2",
   "language": "python",
   "name": "python2"
  },
  "language_info": {
   "codemirror_mode": {
    "name": "ipython",
    "version": 2
   },
   "file_extension": ".py",
   "mimetype": "text/x-python",
   "name": "python",
   "nbconvert_exporter": "python",
   "pygments_lexer": "ipython2",
   "version": "2.7.10"
  }
 },
 "nbformat": 4,
 "nbformat_minor": 0
}
