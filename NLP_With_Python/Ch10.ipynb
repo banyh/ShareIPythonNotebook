{
 "cells": [
  {
   "cell_type": "markdown",
   "metadata": {},
   "source": [
    "# Ch10 Analyzing the Meaning of Sentences\n",
    "\n",
    "本章的目標是回答下列問題\n",
    "\n",
    "1. 如何在電腦中表示自然語言的意義?\n",
    "2. 如何將意義與某個句子的集合產生關聯?\n",
    "3. 如何用意義與句子間的聯繫來儲存知識?"
   ]
  },
  {
   "cell_type": "markdown",
   "metadata": {},
   "source": [
    "## Natural Language Understanding\n",
    "\n",
    "假設在資料庫中，我們儲存了各國的國名、首都名、人口，電腦要如何回答\"Which country is Athens in?\"這類的問題?\n",
    "\n",
    "一個直觀的方法，就是用Ch9所介紹的feature-based grammar，將資料庫的查詢語法(例如SQL語法)放在feature中:"
   ]
  },
  {
   "cell_type": "code",
   "execution_count": 1,
   "metadata": {
    "collapsed": true
   },
   "outputs": [],
   "source": [
    "import nltk"
   ]
  },
  {
   "cell_type": "code",
   "execution_count": 2,
   "metadata": {
    "collapsed": true
   },
   "outputs": [],
   "source": [
    "grammar = nltk.grammar.FeatureGrammar.fromstring(\"\"\"\n",
    "    % start S\n",
    "    S[SEM=(?np + WHERE + ?vp)] -> NP[SEM=?np] VP[SEM=?vp]\n",
    "    VP[SEM=(?v + ?pp)] -> IV[SEM=?v] PP[SEM=?pp]\n",
    "    VP[SEM=(?v + ?ap)] -> IV[SEM=?v] AP[SEM=?ap]\n",
    "    NP[SEM=(?det + ?n)] -> Det[SEM=?det] N[SEM=?n]\n",
    "    PP[SEM=(?p + ?np)] -> P[SEM=?p] NP[SEM=?np]\n",
    "    AP[SEM=?pp] -> A[SEM=?a] PP[SEM=?pp]\n",
    "    NP[SEM='Country=\"greece\"'] -> 'Greece'\n",
    "    NP[SEM='Country=\"china\"'] -> 'China'\n",
    "    Det[SEM='SELECT'] -> 'Which' | 'What'\n",
    "    N[SEM='City FROM city_table'] -> 'cities'\n",
    "    IV[SEM=''] -> 'are'\n",
    "    A[SEM=''] -> 'located'\n",
    "    P[SEM=''] -> 'in'\n",
    "    \"\"\")"
   ]
  },
  {
   "cell_type": "code",
   "execution_count": 3,
   "metadata": {
    "collapsed": true
   },
   "outputs": [],
   "source": [
    "parser = nltk.parse.FeatureEarleyChartParser(grammar)\n",
    "trees = parser.parse('What cities are located in China'.split())"
   ]
  },
  {
   "cell_type": "code",
   "execution_count": 4,
   "metadata": {
    "collapsed": false
   },
   "outputs": [
    {
     "data": {
      "image/png": "[encoded data removed]",
      "text/plain": [
       "Tree(S[SEM=(SELECT, City FROM city_table, WHERE, , , Country=\"china\")], [Tree(NP[SEM=(SELECT, City FROM city_table)], [Tree(Det[SEM='SELECT'], ['What']), Tree(N[SEM='City FROM city_table'], ['cities'])]), Tree(VP[SEM=(, , Country=\"china\")], [Tree(IV[SEM=''], ['are']), Tree(AP[SEM=(, Country=\"china\")], [Tree(A[SEM=''], ['located']), Tree(PP[SEM=(, Country=\"china\")], [Tree(P[SEM=''], ['in']), Tree(NP[SEM='Country=\"china\"'], ['China'])])])])])"
      ]
     },
     "execution_count": 4,
     "metadata": {},
     "output_type": "execute_result"
    }
   ],
   "source": [
    "t = trees.next()\n",
    "t"
   ]
  },
  {
   "cell_type": "code",
   "execution_count": 5,
   "metadata": {
    "collapsed": false
   },
   "outputs": [
    {
     "name": "stdout",
     "output_type": "stream",
     "text": [
      "SELECT City FROM city_table WHERE   Country=\"china\"\n"
     ]
    }
   ],
   "source": [
    "print ' '.join(t.label()['SEM'])"
   ]
  },
  {
   "cell_type": "markdown",
   "metadata": {},
   "source": [
    "## Propositional Logic"
   ]
  },
  {
   "cell_type": "code",
   "execution_count": 6,
   "metadata": {
    "collapsed": false
   },
   "outputs": [
    {
     "name": "stdout",
     "output_type": "stream",
     "text": [
      "negation       \t-\n",
      "conjunction    \t&\n",
      "disjunction    \t|\n",
      "implication    \t->\n",
      "equivalence    \t<->\n"
     ]
    }
   ],
   "source": [
    "# nltk有支援的logic operators\n",
    "nltk.boolean_ops()"
   ]
  },
  {
   "cell_type": "code",
   "execution_count": 7,
   "metadata": {
    "collapsed": false,
    "scrolled": true
   },
   "outputs": [
    {
     "name": "stdout",
     "output_type": "stream",
     "text": [
      "equality       \t=\n",
      "inequality     \t!=\n"
     ]
    }
   ],
   "source": [
    "nltk.equality_preds()"
   ]
  },
  {
   "cell_type": "code",
   "execution_count": 8,
   "metadata": {
    "collapsed": false
   },
   "outputs": [
    {
     "name": "stdout",
     "output_type": "stream",
     "text": [
      "existential    \texists\n",
      "universal      \tall\n",
      "lambda         \t\\\n"
     ]
    }
   ],
   "source": [
    "nltk.binding_ops()"
   ]
  },
  {
   "cell_type": "code",
   "execution_count": 61,
   "metadata": {
    "collapsed": false
   },
   "outputs": [
    {
     "data": {
      "text/plain": [
       "<NegatedExpression -(P & Q)>"
      ]
     },
     "execution_count": 61,
     "metadata": {},
     "output_type": "execute_result"
    }
   ],
   "source": [
    "# LogicParser可以將邏輯字串轉換成expression\n",
    "lp = nltk.logic.LogicParser()\n",
    "lp.parse('-(P & Q)')"
   ]
  },
  {
   "cell_type": "code",
   "execution_count": 66,
   "metadata": {
    "collapsed": true
   },
   "outputs": [],
   "source": [
    "val = nltk.Valuation([('P', True), ('Q', False), ('R', False)])\n",
    "m = nltk.Model(set(), val)"
   ]
  },
  {
   "cell_type": "code",
   "execution_count": 67,
   "metadata": {
    "collapsed": false
   },
   "outputs": [
    {
     "name": "stdout",
     "output_type": "stream",
     "text": [
      "False\n"
     ]
    }
   ],
   "source": [
    "print m.evaluate('(P & Q)', nltk.Assignment(set()))"
   ]
  },
  {
   "cell_type": "code",
   "execution_count": 68,
   "metadata": {
    "collapsed": false
   },
   "outputs": [
    {
     "name": "stdout",
     "output_type": "stream",
     "text": [
      "True\n"
     ]
    }
   ],
   "source": [
    "print m.evaluate('(P | Q)', nltk.Assignment(set()))"
   ]
  },
  {
   "cell_type": "markdown",
   "metadata": {
    "collapsed": true
   },
   "source": [
    "## First-Order Logic\n",
    "\n",
    "first-order logic由以下幾種元素組成:\n",
    "\n",
    "1. **terms**: 個體變數、個體常數兩種\n",
    "2. **predicates**: 相當於function，可以接受任意參數，並決定某種動作或狀態\n",
    "\n",
    "下面會介紹Typed-Logic，有`e`(代表entity/term)、`t`(代表formula)兩種basic type。多個basic type可以組成complex type，例如`<e,t>`或`<e,<e,t>>`等等。"
   ]
  },
  {
   "cell_type": "code",
   "execution_count": 12,
   "metadata": {
    "collapsed": false
   },
   "outputs": [],
   "source": [
    "from nltk.sem.logic import LogicParser\n",
    "tlp = LogicParser(True)"
   ]
  },
  {
   "cell_type": "code",
   "execution_count": 30,
   "metadata": {
    "collapsed": false
   },
   "outputs": [
    {
     "name": "stdout",
     "output_type": "stream",
     "text": [
      "walk <e,?> John e\n"
     ]
    }
   ],
   "source": [
    "# function本身是一種complex type <e,?>\n",
    "#   之所以有 ? 是因為我們沒有指定walk的type\n",
    "# John是一個entity，所以屬於basic type e\n",
    "john_walk = tlp.parse('walk(John)')\n",
    "print john_walk.function, john_walk.function.type, john_walk.argument, john_walk.argument.type"
   ]
  },
  {
   "cell_type": "code",
   "execution_count": 31,
   "metadata": {
    "collapsed": false
   },
   "outputs": [
    {
     "name": "stdout",
     "output_type": "stream",
     "text": [
      "walk <e,t> John e\n"
     ]
    }
   ],
   "source": [
    "# 要指定function的type，可以用signature來指定\n",
    "walk_sig = {'walk': '<e, t>'}\n",
    "john_walk = tlp.parse('walk(John)', walk_sig)\n",
    "print john_walk.function, john_walk.function.type, john_walk.argument, john_walk.argument.type"
   ]
  },
  {
   "cell_type": "code",
   "execution_count": 40,
   "metadata": {
    "collapsed": false
   },
   "outputs": [
    {
     "data": {
      "text/plain": [
       "<ExistsExpression exists x.(dog(x) & disappear(x))>"
      ]
     },
     "execution_count": 40,
     "metadata": {},
     "output_type": "execute_result"
    }
   ],
   "source": [
    "# existential quantifier\n",
    "tlp.parse('exists x.(dog(x) & disappear(x))')"
   ]
  },
  {
   "cell_type": "code",
   "execution_count": 42,
   "metadata": {
    "collapsed": false
   },
   "outputs": [
    {
     "data": {
      "text/plain": [
       "<AllExpression all x.(dog(x) -> disappear(x))>"
      ]
     },
     "execution_count": 42,
     "metadata": {},
     "output_type": "execute_result"
    }
   ],
   "source": [
    "# universal quantifier\n",
    "tlp.parse('all x.(dog(x) -> disappear(x))')"
   ]
  },
  {
   "cell_type": "code",
   "execution_count": 43,
   "metadata": {
    "collapsed": false
   },
   "outputs": [
    {
     "data": {
      "text/plain": [
       "set()"
      ]
     },
     "execution_count": 43,
     "metadata": {},
     "output_type": "execute_result"
    }
   ],
   "source": [
    "# 在formula中的變數，如果只有一個字元，會被當成free variable\n",
    "tlp.parse('dog(Cyril)').free()"
   ]
  },
  {
   "cell_type": "code",
   "execution_count": 47,
   "metadata": {
    "collapsed": false
   },
   "outputs": [
    {
     "data": {
      "text/plain": [
       "{Variable('x')}"
      ]
     },
     "execution_count": 47,
     "metadata": {},
     "output_type": "execute_result"
    }
   ],
   "source": [
    "tlp.parse('dog(x)').free()"
   ]
  },
  {
   "cell_type": "code",
   "execution_count": 48,
   "metadata": {
    "collapsed": false
   },
   "outputs": [
    {
     "data": {
      "text/plain": [
       "{Variable('y')}"
      ]
     },
     "execution_count": 48,
     "metadata": {},
     "output_type": "execute_result"
    }
   ],
   "source": [
    "tlp.parse('exists x.own(y, x)').free()"
   ]
  },
  {
   "cell_type": "markdown",
   "metadata": {},
   "source": [
    "### Proving\n",
    "\n",
    "`if x is to the north of y then y is not to the north of x`"
   ]
  },
  {
   "cell_type": "code",
   "execution_count": 64,
   "metadata": {
    "collapsed": false
   },
   "outputs": [],
   "source": [
    "prover = nltk.Prover9()\n",
    "prover.config_prover9('C:/Program Files (x86)/LADR1007B-win/bin')"
   ]
  },
  {
   "cell_type": "code",
   "execution_count": 65,
   "metadata": {
    "collapsed": false
   },
   "outputs": [
    {
     "data": {
      "text/plain": [
       "True"
      ]
     },
     "execution_count": 65,
     "metadata": {},
     "output_type": "execute_result"
    }
   ],
   "source": [
    "north_formula = tlp.parse('all x. all y.(north_of(x, y) -> -north_of(y, x))')\n",
    "fact = tlp.parse('north_of(Taipei, Tainan)')\n",
    "unknown = tlp.parse('-north_of(Tainan, Taipei)')\n",
    "prover.prove(unknown, [fact, north_formula])"
   ]
  },
  {
   "cell_type": "markdown",
   "metadata": {},
   "source": [
    "### Model\n",
    "\n",
    "一個model M，如果用在first-order logic language L上，則定義為`M = <D, Val>`。其中`D`稱為domain，`Val`稱為valuation function。\n",
    "\n",
    "`Val`的用途是將L中的individual constant及predicate symbol都賦予一個屬於domain的值。"
   ]
  },
  {
   "cell_type": "code",
   "execution_count": 67,
   "metadata": {
    "collapsed": true
   },
   "outputs": [],
   "source": [
    "from nltk.sem import Valuation, Model\n",
    "v = [('adam', 'b1'), ('betty', 'g1'), ('fido', 'd1'),\n",
    "     ('girl', set(['g1', 'g2'])), ('boy', set(['b1', 'b2'])),\n",
    "     ('dog', set(['d1'])),\n",
    "     ('love', set([('b1', 'g1'), ('b2', 'g2'), ('g1', 'b1'), ('g2', 'b1')]))]\n",
    "val = Valuation(v)\n",
    "dom = val.domain\n",
    "m = Model(dom, val)"
   ]
  },
  {
   "cell_type": "code",
   "execution_count": 68,
   "metadata": {
    "collapsed": false,
    "scrolled": true
   },
   "outputs": [
    {
     "data": {
      "text/plain": [
       "{'b1', 'b2', 'd1', 'g1', 'g2'}"
      ]
     },
     "execution_count": 68,
     "metadata": {},
     "output_type": "execute_result"
    }
   ],
   "source": [
    "dom"
   ]
  },
  {
   "cell_type": "code",
   "execution_count": 74,
   "metadata": {
    "collapsed": false
   },
   "outputs": [
    {
     "data": {
      "text/plain": [
       "False"
      ]
     },
     "execution_count": 74,
     "metadata": {},
     "output_type": "execute_result"
    }
   ],
   "source": [
    "m.evaluate('love(fido, betty)', nltk.Assignment(dom))"
   ]
  },
  {
   "cell_type": "code",
   "execution_count": 75,
   "metadata": {
    "collapsed": false
   },
   "outputs": [
    {
     "data": {
      "text/plain": [
       "True"
      ]
     },
     "execution_count": 75,
     "metadata": {},
     "output_type": "execute_result"
    }
   ],
   "source": [
    "m.evaluate('love(adam, betty)', nltk.Assignment(dom))"
   ]
  },
  {
   "cell_type": "code",
   "execution_count": 76,
   "metadata": {
    "collapsed": false
   },
   "outputs": [
    {
     "data": {
      "text/plain": [
       "u'Undefined'"
      ]
     },
     "execution_count": 76,
     "metadata": {},
     "output_type": "execute_result"
    }
   ],
   "source": [
    "m.evaluate('love(john, betty)', nltk.Assignment(dom))"
   ]
  },
  {
   "cell_type": "code",
   "execution_count": null,
   "metadata": {
    "collapsed": true
   },
   "outputs": [],
   "source": []
  }
 ],
 "metadata": {
  "kernelspec": {
   "display_name": "Python 2",
   "language": "python",
   "name": "python2"
  },
  "language_info": {
   "codemirror_mode": {
    "name": "ipython",
    "version": 2
   },
   "file_extension": ".py",
   "mimetype": "text/x-python",
   "name": "python",
   "nbconvert_exporter": "python",
   "pygments_lexer": "ipython2",
   "version": "2.7.10"
  }
 },
 "nbformat": 4,
 "nbformat_minor": 0
}
