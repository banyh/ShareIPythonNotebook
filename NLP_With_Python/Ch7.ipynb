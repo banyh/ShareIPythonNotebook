{
 "cells": [
  {
   "cell_type": "markdown",
   "metadata": {},
   "source": [
    "# Extracting Information from Text\n",
    "\n",
    "本章的目標是回答以下問題:\n",
    "\n",
    "1. 如何從無結構的文字中取出結構化的資料?\n",
    "2. 有那些方法可辨識文字中描述的實體和關係?\n",
    "3. 有那些corpora適合作這件事，如何用它們來訓練和評估?"
   ]
  },
  {
   "cell_type": "markdown",
   "metadata": {},
   "source": [
    "## Information Extraction\n",
    "\n",
    "假設我們能從文字中找出`(entity, relation, entity)`這樣的關係，就能回答許多問題。例如，我們想知道文中的那家公司位於紐約:"
   ]
  },
  {
   "cell_type": "code",
   "execution_count": 3,
   "metadata": {
    "collapsed": false
   },
   "outputs": [
    {
     "data": {
      "text/plain": [
       "['Omnicom', 'DBB']"
      ]
     },
     "execution_count": 3,
     "metadata": {},
     "output_type": "execute_result"
    }
   ],
   "source": [
    "location = [('Omnicom','IN','New York'), ('DBB','IN','New York'), ('BBDO','IN','Atlanta')]\n",
    "[e1 for (e1, rel, e2) in location if rel == 'IN' and e2 == 'New York']"
   ]
  },
  {
   "cell_type": "code",
   "execution_count": 1,
   "metadata": {
    "collapsed": true
   },
   "outputs": [],
   "source": [
    "import nltk\n",
    "from nltk.corpus import ieer"
   ]
  },
  {
   "cell_type": "markdown",
   "metadata": {},
   "source": [
    "一般的information extraction分為幾個步驟\n",
    "\n",
    "1. 輸入raw text，進行sentence segmentation\n",
    "2. 輸入sentence，進行tokenization\n",
    "3. 輸入list of words，進行part of speech tagging\n",
    "4. 輸入list of tuples，進行entity recognition\n",
    "5. 輸入list of trees，進行relation recognition\n",
    "\n",
    "前面三個步驟不是本章的重點，因此將三個步驟結合成一個function。接下來要找出proper names(專有名詞)或是definite noun phrases(指示名詞)，作為entity的可能候選。最後，再成對的entity中找出relation的可能pattern。"
   ]
  },
  {
   "cell_type": "code",
   "execution_count": 66,
   "metadata": {
    "collapsed": true
   },
   "outputs": [],
   "source": [
    "def preprocess(document, tagset=\"universal\"):\n",
    "    sent = nltk.sent_tokenize(document)\n",
    "    sent = [nltk.word_tokenize(s) for s in sent]\n",
    "    sent = [nltk.pos_tag(s, tagset=tagset) for s in sent]\n",
    "    return sent"
   ]
  },
  {
   "cell_type": "markdown",
   "metadata": {},
   "source": [
    "## Chunking\n",
    "\n",
    "要辨識entity最基本的技巧稱為chunking，我們會將多個單字結合起來成為一個**chunk**，這個過程稱為noun phrase chunking或NP-chunking。"
   ]
  },
  {
   "cell_type": "code",
   "execution_count": 3,
   "metadata": {
    "collapsed": false
   },
   "outputs": [
    {
     "data": {
      "text/plain": [
       "[('the', u'DET'),\n",
       " ('little', u'ADJ'),\n",
       " ('yellow', u'ADJ'),\n",
       " ('dog', u'NOUN'),\n",
       " ('barked', u'VERB'),\n",
       " ('at', u'ADP'),\n",
       " ('the', u'DET'),\n",
       " ('cat', u'NOUN')]"
      ]
     },
     "execution_count": 3,
     "metadata": {},
     "output_type": "execute_result"
    }
   ],
   "source": [
    "sentence = preprocess('the little yellow dog barked at the cat')[0]\n",
    "sentence"
   ]
  },
  {
   "cell_type": "code",
   "execution_count": 4,
   "metadata": {
    "collapsed": false,
    "scrolled": true
   },
   "outputs": [
    {
     "data": {
      "image/png": "[encoded data removed]",
      "text/plain": [
       "Tree('S', [Tree('NP', [('the', u'DET'), ('little', u'ADJ'), ('yellow', u'ADJ'), ('dog', u'NOUN')]), ('barked', u'VERB'), ('at', u'ADP'), Tree('NP', [('the', u'DET'), ('cat', u'NOUN')])])"
      ]
     },
     "execution_count": 4,
     "metadata": {},
     "output_type": "execute_result"
    }
   ],
   "source": [
    "# RegexpParser: 將符合條件的POS組合成一個新的\n",
    "grammar = \"NP: {<DET>?<ADJ>*<NOUN>}\"\n",
    "cp = nltk.RegexpParser(grammar)\n",
    "cp.parse(sentence)"
   ]
  },
  {
   "cell_type": "code",
   "execution_count": 5,
   "metadata": {
    "collapsed": false
   },
   "outputs": [
    {
     "data": {
      "image/png": "[encoded data removed]",
      "text/plain": [
       "Tree('S', [Tree('NP', [('Rapunzel', u'NOUN')]), ('let', u'VERB'), ('down', u'PRT'), Tree('NP', [('her', u'PRON'), ('long', u'ADJ'), ('golden', u'ADJ'), ('hair', u'NOUN')])])"
      ]
     },
     "execution_count": 5,
     "metadata": {},
     "output_type": "execute_result"
    }
   ],
   "source": [
    "# 改良版的規則\n",
    "#   (冠詞|所有格) + 形容詞 + 名詞，如\"The black fat cat\"\n",
    "#   連續的專有名詞，如\"Mary Brown\"\n",
    "grammar = r\"\"\"\n",
    "    NP: {<DET|PRON>?<ADJ>*<NOUN>}\n",
    "        {<NOUN>+}\n",
    "\"\"\"\n",
    "cp = nltk.RegexpParser(grammar)\n",
    "sentence = preprocess(\"Rapunzel let down her long golden hair\")[0]\n",
    "cp.parse(sentence)"
   ]
  },
  {
   "cell_type": "markdown",
   "metadata": {},
   "source": [
    "## Exploring Text Corpora\n",
    "\n",
    "一種chunking的應用，是從corpus中，找出特定詞性組合的字。例如want to buy是VERB-PRT-VERB，或連續四個名詞的組合。"
   ]
  },
  {
   "cell_type": "code",
   "execution_count": 6,
   "metadata": {
    "collapsed": true
   },
   "outputs": [],
   "source": [
    "def find_chunks(user_rule = '{<V.*><TO><V.*>}'):\n",
    "    cp = nltk.RegexpParser('CHUNK: ' + user_rule)\n",
    "    for sent in nltk.corpus.brown.tagged_sents():\n",
    "        tree = cp.parse(sent)\n",
    "        for subtree in tree.subtrees():\n",
    "            if subtree.label() == 'CHUNK':\n",
    "                yield subtree"
   ]
  },
  {
   "cell_type": "code",
   "execution_count": 7,
   "metadata": {
    "collapsed": false
   },
   "outputs": [],
   "source": [
    "v_to_v = list(find_chunks())"
   ]
  },
  {
   "cell_type": "code",
   "execution_count": 8,
   "metadata": {
    "collapsed": false
   },
   "outputs": [
    {
     "data": {
      "image/png": "[encoded data removed]",
      "text/plain": [
       "Tree('CHUNK', [(u'continue', u'VB'), (u'to', u'TO'), (u'place', u'VB')])"
      ]
     },
     "execution_count": 8,
     "metadata": {},
     "output_type": "execute_result"
    }
   ],
   "source": [
    "v_to_v[1]"
   ]
  },
  {
   "cell_type": "code",
   "execution_count": 9,
   "metadata": {
    "collapsed": false
   },
   "outputs": [],
   "source": [
    "n4 = list(find_chunks('{<N.*><N.*><N.*><N.*>+}'))"
   ]
  },
  {
   "cell_type": "code",
   "execution_count": 10,
   "metadata": {
    "collapsed": false
   },
   "outputs": [
    {
     "data": {
      "image/png": "[encoded data removed]",
      "text/plain": [
       "Tree('CHUNK', [(u\"Georgia's\", u'NP$'), (u'automobile', u'NN'), (u'title', u'NN'), (u'law', u'NN')])"
      ]
     },
     "execution_count": 10,
     "metadata": {},
     "output_type": "execute_result"
    }
   ],
   "source": [
    "n4[2]"
   ]
  },
  {
   "cell_type": "markdown",
   "metadata": {},
   "source": [
    "## Chinking\n",
    "\n",
    "另一種作chunking的方法是反向定義，定義那些部分不要放入chunk，這些部分稱為**chink**。"
   ]
  },
  {
   "cell_type": "code",
   "execution_count": 11,
   "metadata": {
    "collapsed": false
   },
   "outputs": [
    {
     "data": {
      "image/png": "[encoded data removed]",
      "text/plain": [
       "Tree('S', [Tree('NP', [('the', u'DET'), ('little', u'ADJ'), ('yellow', u'ADJ'), ('dog', u'NOUN')]), ('barked', u'VERB'), ('at', u'ADP'), Tree('NP', [('the', u'DET'), ('cat', u'NOUN')])])"
      ]
     },
     "execution_count": 11,
     "metadata": {},
     "output_type": "execute_result"
    }
   ],
   "source": [
    "grammar = r\"\"\"\n",
    "    NP: {<.*>+}      # chunk everything\n",
    "        }<VERB|ADP>+{  # chink sequence of VBD and IN\n",
    "\"\"\"\n",
    "sentence = preprocess('the little yellow dog barked at the cat')[0]\n",
    "cp = nltk.RegexpParser(grammar)\n",
    "cp.parse(sentence)"
   ]
  },
  {
   "cell_type": "markdown",
   "metadata": {},
   "source": [
    "## Developing and Evaluating Chunkers\n",
    "\n",
    "chunk結構有一種慣用的tagging，稱為**IOB tags**。所有的字分為三種: I(在chunk內)、O(在chunk外)、B(chunk開頭)，通常B和I後面會接上chunk的名稱，例如B-NP或I-NP。\n",
    "\n",
    "要對chunking演算法作出評分，我們需要training data，最常用的training data格式稱為CoNLL，每一行有三個元素，第一個是token，第二個是詞性，第三個是IOB tag。使用`conllstr2tree`可以將這種格式的檔案轉換為樹狀結構。"
   ]
  },
  {
   "cell_type": "code",
   "execution_count": 12,
   "metadata": {
    "collapsed": true
   },
   "outputs": [],
   "source": [
    "conll_example = '''\n",
    "he PRP B-NP\n",
    "accepted VBD B-VP\n",
    "the DT B-NP\n",
    "position NN I-NP\n",
    "of IN B-PP\n",
    "vice NN B-NP\n",
    "chairman NN I-NP\n",
    "of IN B-PP\n",
    "Carlyle NNP B-NP\n",
    "Group NNP I-NP\n",
    ", , O\n",
    "a DT B-NP\n",
    "merchant NN I-NP\n",
    "banking NN I-NP\n",
    "concern NN I-NP\n",
    ". . O\n",
    "'''"
   ]
  },
  {
   "cell_type": "code",
   "execution_count": 13,
   "metadata": {
    "collapsed": false
   },
   "outputs": [
    {
     "data": {
      "image/png": "[encoded data removed]",
      "text/plain": [
       "Tree('S', [Tree('NP', [(u'he', u'PRP')]), Tree('VP', [(u'accepted', u'VBD')]), Tree('NP', [(u'the', u'DT'), (u'position', u'NN')]), Tree('PP', [(u'of', u'IN')]), Tree('NP', [(u'vice', u'NN'), (u'chairman', u'NN')]), Tree('PP', [(u'of', u'IN')]), Tree('NP', [(u'Carlyle', u'NNP'), (u'Group', u'NNP')]), (u',', u','), Tree('NP', [(u'a', u'DT'), (u'merchant', u'NN'), (u'banking', u'NN'), (u'concern', u'NN')]), (u'.', u'.')])"
      ]
     },
     "execution_count": 13,
     "metadata": {},
     "output_type": "execute_result"
    }
   ],
   "source": [
    "nltk.chunk.conllstr2tree(conll_example)"
   ]
  },
  {
   "cell_type": "code",
   "execution_count": 14,
   "metadata": {
    "collapsed": false
   },
   "outputs": [
    {
     "data": {
      "image/png": "[encoded data removed]",
      "text/plain": [
       "Tree('S', [Tree('PP', [(u'Over', u'IN')]), Tree('NP', [(u'a', u'DT'), (u'cup', u'NN')]), Tree('PP', [(u'of', u'IN')]), Tree('NP', [(u'coffee', u'NN')]), (u',', u','), Tree('NP', [(u'Mr.', u'NNP'), (u'Stone', u'NNP')]), Tree('VP', [(u'told', u'VBD')]), Tree('NP', [(u'his', u'PRP$'), (u'story', u'NN')]), (u'.', u'.')])"
      ]
     },
     "execution_count": 14,
     "metadata": {},
     "output_type": "execute_result"
    }
   ],
   "source": [
    "# conll2000是來自Wall Street Journal的文字，已經標註IOB tags\n",
    "from nltk.corpus import conll2000\n",
    "conll2000.chunked_sents()[99]"
   ]
  },
  {
   "cell_type": "markdown",
   "metadata": {},
   "source": [
    "在conll2000中，有三種類型的chunk: NP chunks(例如the black dog)、VP chunks(例如has already known)、PP chunks(例如because of)。如果對於NP chunks比較有興趣，可以指定要看的chunk種類:"
   ]
  },
  {
   "cell_type": "code",
   "execution_count": 15,
   "metadata": {
    "collapsed": false
   },
   "outputs": [
    {
     "data": {
      "image/png": "[encoded data removed]",
      "text/plain": [
       "Tree('S', [(u'Over', u'IN'), Tree('NP', [(u'a', u'DT'), (u'cup', u'NN')]), (u'of', u'IN'), Tree('NP', [(u'coffee', u'NN')]), (u',', u','), Tree('NP', [(u'Mr.', u'NNP'), (u'Stone', u'NNP')]), (u'told', u'VBD'), Tree('NP', [(u'his', u'PRP$'), (u'story', u'NN')]), (u'.', u'.')])"
      ]
     },
     "execution_count": 15,
     "metadata": {},
     "output_type": "execute_result"
    }
   ],
   "source": [
    "conll2000.chunked_sents(chunk_types=['NP'])[99]"
   ]
  },
  {
   "cell_type": "code",
   "execution_count": 16,
   "metadata": {
    "collapsed": false
   },
   "outputs": [
    {
     "data": {
      "text/plain": [
       "['train.txt', 'test.txt']"
      ]
     },
     "execution_count": 16,
     "metadata": {},
     "output_type": "execute_result"
    }
   ],
   "source": [
    "# 已經有分為兩個資料集了\n",
    "conll2000.fileids()"
   ]
  },
  {
   "cell_type": "code",
   "execution_count": 17,
   "metadata": {
    "collapsed": false
   },
   "outputs": [
    {
     "name": "stdout",
     "output_type": "stream",
     "text": [
      "ChunkParse score:\n",
      "    IOB Accuracy:  43.4%\n",
      "    Precision:      0.0%\n",
      "    Recall:         0.0%\n",
      "    F-Measure:      0.0%\n"
     ]
    }
   ],
   "source": [
    "# 先用空的parser試試看\n",
    "cp = nltk.RegexpParser(\"\")\n",
    "test_sents = conll2000.chunked_sents('test.txt', chunk_types=['NP'])\n",
    "print cp.evaluate(test_sents)"
   ]
  },
  {
   "cell_type": "markdown",
   "metadata": {},
   "source": [
    "因為空的parser不會標註任何資料，遇到NP以外的地方就是對的，至少還有43%的正確率。\n",
    "\n",
    "但因為完全沒有true positive，precision及recall都是0。"
   ]
  },
  {
   "cell_type": "code",
   "execution_count": 18,
   "metadata": {
    "collapsed": false
   },
   "outputs": [
    {
     "name": "stdout",
     "output_type": "stream",
     "text": [
      "ChunkParse score:\n",
      "    IOB Accuracy:  87.7%\n",
      "    Precision:     70.6%\n",
      "    Recall:        67.8%\n",
      "    F-Measure:     69.2%\n"
     ]
    }
   ],
   "source": [
    "# 嘗試用最簡單的parser\n",
    "grammar = r\"NP: {<[CDJNP].*>+}\"\n",
    "cp = nltk.RegexpParser(grammar)\n",
    "print cp.evaluate(test_sents)"
   ]
  },
  {
   "cell_type": "markdown",
   "metadata": {
    "collapsed": true
   },
   "source": [
    "如果要自己設計chunker，可以用一個class繼承`nltk.ChunkParserI`，並且實作`__init__`及`parse`這兩個function。例如下面用unigram model來實作chunker:"
   ]
  },
  {
   "cell_type": "code",
   "execution_count": 20,
   "metadata": {
    "collapsed": true
   },
   "outputs": [],
   "source": [
    "class UnigramChunker(nltk.ChunkParserI):\n",
    "    def __init__(self, train_sents):\n",
    "        \"\"\"\n",
    "        train_sents: 傳進來的training data，必須是chunk tree的形式\n",
    "        \"\"\"\n",
    "        # 經過tree2conlltags轉換後，變成tuple (word, pos_tag, chunk_tag)\n",
    "        train_data = [[(t, c) for w, t, c in nltk.chunk.tree2conlltags(sent)]\n",
    "                      for sent in train_sents]\n",
    "        # 根據pos_tag預測chunk_tag\n",
    "        self.tagger = nltk.UnigramTagger(train_data)\n",
    "    \n",
    "    def parse(self, sentence):\n",
    "        \"\"\"\n",
    "        sentence: (word, pos)組成的句子\n",
    "        return: conll tree\n",
    "        \"\"\"\n",
    "        pos_tags = [pos for word, pos in sentence]\n",
    "        # 根據pos_tag預測chunk_tag，不需其他資訊\n",
    "        iob_pos_tags = self.tagger.tag(pos_tags)\n",
    "        chunktags = [chunktag for pos, chunktag in iob_pos_tags]\n",
    "        conlltags = [(word, pos, chunktag) for ((word, pos), chunktag) in zip(sentence, chunktags)]\n",
    "        return nltk.chunk.conlltags2tree(conlltags)"
   ]
  },
  {
   "cell_type": "code",
   "execution_count": 21,
   "metadata": {
    "collapsed": false
   },
   "outputs": [
    {
     "name": "stdout",
     "output_type": "stream",
     "text": [
      "ChunkParse score:\n",
      "    IOB Accuracy:  92.9%\n",
      "    Precision:     79.9%\n",
      "    Recall:        86.8%\n",
      "    F-Measure:     83.2%\n"
     ]
    }
   ],
   "source": [
    "test_sents = conll2000.chunked_sents('test.txt', chunk_types=['NP'])\n",
    "train_sents = conll2000.chunked_sents('train.txt', chunk_types=['NP'])\n",
    "unigram_chunker = UnigramChunker(train_sents)\n",
    "print unigram_chunker.evaluate(test_sents)"
   ]
  },
  {
   "cell_type": "code",
   "execution_count": 29,
   "metadata": {
    "collapsed": false
   },
   "outputs": [
    {
     "data": {
      "image/png": "[encoded data removed]",
      "text/plain": [
       "Tree('S', [Tree('NP', [('the', 'DT'), ('little', 'JJ'), ('yellow', 'JJ'), ('dog', 'NN')]), ('barked', 'VBD'), ('at', 'IN'), Tree('NP', [('the', 'DT'), ('cat', 'NN')])])"
      ]
     },
     "execution_count": 29,
     "metadata": {},
     "output_type": "execute_result"
    }
   ],
   "source": [
    "# 前面preprocess是採用universal tag\n",
    "# 但這裡訓練時，因為不是用universal tag，所以第二個參數要給空字串\n",
    "sentence = preprocess('the little yellow dog barked at the cat', '')[0]\n",
    "unigram_chunker.parse(sentence)"
   ]
  },
  {
   "cell_type": "markdown",
   "metadata": {},
   "source": [
    "## Training Classifier-Based Chunkers\n",
    "\n",
    "regular expression chunker及n-gram chunker都是依賴POS tag來判斷，但有些情況會失準。  \n",
    "例如: `Joey/NN sold/VBD the/DT farmer/NN rice/NN ./.`  \n",
    "這裡的the farmer rice應該分成\"the farmer\"及\"rice\"，但用POS判斷，則會視為\"the farmer rice\"。\n",
    "\n",
    "下面會示範如何將chunker延伸成classifier。"
   ]
  },
  {
   "cell_type": "code",
   "execution_count": 40,
   "metadata": {
    "collapsed": false,
    "scrolled": true
   },
   "outputs": [
    {
     "name": "stdout",
     "output_type": "stream",
     "text": [
      "(S\n",
      "  Over/IN\n",
      "  (NP a/DT cup/NN)\n",
      "  of/IN\n",
      "  (NP coffee/NN)\n",
      "  ,/,\n",
      "  (NP Mr./NNP Stone/NNP)\n",
      "  told/VBD\n",
      "  (NP his/PRP$ story/NN)\n",
      "  ./.)\n"
     ]
    }
   ],
   "source": [
    "# 這是一個conll tree的樣子\n",
    "print train_sents[99]"
   ]
  },
  {
   "cell_type": "code",
   "execution_count": 41,
   "metadata": {
    "collapsed": false
   },
   "outputs": [
    {
     "data": {
      "text/plain": [
       "[(u'Over', u'IN', u'O'),\n",
       " (u'a', u'DT', u'B-NP'),\n",
       " (u'cup', u'NN', u'I-NP'),\n",
       " (u'of', u'IN', u'O'),\n",
       " (u'coffee', u'NN', u'B-NP'),\n",
       " (u',', u',', u'O'),\n",
       " (u'Mr.', u'NNP', u'B-NP'),\n",
       " (u'Stone', u'NNP', u'I-NP'),\n",
       " (u'told', u'VBD', u'O'),\n",
       " (u'his', u'PRP$', u'B-NP'),\n",
       " (u'story', u'NN', u'I-NP'),\n",
       " (u'.', u'.', u'O')]"
      ]
     },
     "execution_count": 41,
     "metadata": {},
     "output_type": "execute_result"
    }
   ],
   "source": [
    "# 這是將conll tree轉換成tuple的樣子，也是我們訓練資料的格式\n",
    "nltk.chunk.tree2conlltags(train_sents[99])"
   ]
  },
  {
   "cell_type": "code",
   "execution_count": 42,
   "metadata": {
    "collapsed": true
   },
   "outputs": [],
   "source": [
    "def npchunk_features(sentence, i, history):\n",
    "    \"\"\"\n",
    "    第一步，先定義feature\n",
    "    這裡先用與unigram chunker完全相同的feature，這樣才能確定classifier是否正確\n",
    "    如果classifier正確，則結果應該與unigram chunker差不多\n",
    "    \n",
    "    sentence -- 需要提取feature的句子，格式為list of (word, pos_tag)\n",
    "    i -- 目前是句子的第幾個字\n",
    "    history -- 前面的單字對應的tags\n",
    "    \"\"\"\n",
    "    word, pos = sentence[i]\n",
    "    return {\"pos\": pos}"
   ]
  },
  {
   "cell_type": "code",
   "execution_count": 58,
   "metadata": {
    "collapsed": true
   },
   "outputs": [],
   "source": [
    "class ConsecutiveNPChunkTagger(nltk.TaggerI):\n",
    "    \"\"\"\n",
    "    第二步，定義一個接受training data並訓練出classifier的class\n",
    "    \"\"\"\n",
    "    def __init__(self, train_sents):\n",
    "        \"\"\"輸入訓練用的句子，得到一個Maxent Classifier\n",
    "        train_sents -- list of list of ((word, pos_tag), chunk_tag)\n",
    "        \"\"\"\n",
    "        train_set = []\n",
    "        for tagged_sent in train_sents:\n",
    "            # tagged_sent -- list of ((word, pos_tag), chunk_tag)\n",
    "            # untagged_sent -- list of (word, pos_tag)\n",
    "            untagged_sent = nltk.tag.untag(tagged_sent)\n",
    "            history = []\n",
    "            for i, (_, chunk_tag) in enumerate(tagged_sent):\n",
    "                featureset = npchunk_features(untagged_sent, i, history) \n",
    "                # 產生feature sets及IOB tag的對應關係，存到train_set\n",
    "                train_set.append( (featureset, chunk_tag) )\n",
    "                history.append(chunk_tag)\n",
    "        # 利用MaxentClassifier學習featureset與tag的對應關係\n",
    "        self.classifier = nltk.MaxentClassifier.train(train_set, algorithm='iis', trace=0)\n",
    "        \n",
    "    def tag(self, sentence):\n",
    "        \"\"\"輸入要作chunk tagging的句子\n",
    "        sentence -- list of (word, pos_tag)\n",
    "        \"\"\"\n",
    "        history = []\n",
    "        for i, _ in enumerate(sentence):\n",
    "            # 產生句子對應的feature set\n",
    "            featureset = npchunk_features(sentence, i, history)\n",
    "            # 將feature set丟進classifier找出tag\n",
    "            tag = self.classifier.classify(featureset)\n",
    "            history.append(tag)\n",
    "        return zip(sentence, history)"
   ]
  },
  {
   "cell_type": "code",
   "execution_count": 49,
   "metadata": {
    "collapsed": true
   },
   "outputs": [],
   "source": [
    "class ConsecutiveNPChunker(nltk.ChunkParserI):\n",
    "    \"\"\"\n",
    "    第三步，單純定義一個介面，將conll tree格式的句子轉換成((word, pos_tag), chunk_tag)\n",
    "    並丟給ConsecutiveNPChunkTagger訓練出classifier\n",
    "    \"\"\"\n",
    "    def __init__(self, train_sents):\n",
    "        tagged_sents = [[((w,t),c) for (w,t,c) in nltk.chunk.tree2conlltags(sent)]\n",
    "                        for sent in train_sents]\n",
    "        self.tagger = ConsecutiveNPChunkTagger(tagged_sents)\n",
    "\n",
    "    def parse(self, sentence):\n",
    "        tagged_sents = self.tagger.tag(sentence)\n",
    "        conlltags = [(w,t,c) for ((w,t),c) in tagged_sents]\n",
    "        return nltk.chunk.conlltags2tree(conlltags)"
   ]
  },
  {
   "cell_type": "code",
   "execution_count": 50,
   "metadata": {
    "collapsed": false
   },
   "outputs": [
    {
     "data": {
      "text/plain": [
       "<ChunkScoring of 12422 chunks>"
      ]
     },
     "execution_count": 50,
     "metadata": {},
     "output_type": "execute_result"
    }
   ],
   "source": [
    "chunker = ConsecutiveNPChunker(train_sents)"
   ]
  },
  {
   "cell_type": "code",
   "execution_count": 52,
   "metadata": {
    "collapsed": false
   },
   "outputs": [
    {
     "name": "stdout",
     "output_type": "stream",
     "text": [
      "ChunkParse score:\n",
      "    IOB Accuracy:  92.9%\n",
      "    Precision:     79.9%\n",
      "    Recall:        86.8%\n",
      "    F-Measure:     83.2%\n"
     ]
    }
   ],
   "source": [
    "# 因為feature完全與unigram相同，所以結果也相同\n",
    "print chunker.evaluate(test_sents)"
   ]
  },
  {
   "cell_type": "markdown",
   "metadata": {},
   "source": [
    "嘗試第二個版本的feature set，將前一個tag加入feature:"
   ]
  },
  {
   "cell_type": "code",
   "execution_count": 53,
   "metadata": {
    "collapsed": true
   },
   "outputs": [],
   "source": [
    "def npchunk_features(sentence, i, history):\n",
    "    \"\"\"\n",
    "    sentence -- 需要提取feature的句子，格式為list of (word, pos_tag)\n",
    "    i -- 目前是句子的第幾個字\n",
    "    history -- 前面的單字對應的tags\n",
    "    \"\"\"\n",
    "    word, pos = sentence[i]\n",
    "    if i == 0:\n",
    "        prevword, prevpos = \"<START>\", \"<START>\"\n",
    "    else:\n",
    "        prevword, prevpos = sentence[i-1]\n",
    "    return {\"pos\": pos, \"prevpos\": prevpos}"
   ]
  },
  {
   "cell_type": "code",
   "execution_count": 59,
   "metadata": {
    "collapsed": false
   },
   "outputs": [],
   "source": [
    "chunker = ConsecutiveNPChunker(train_sents)"
   ]
  },
  {
   "cell_type": "code",
   "execution_count": 60,
   "metadata": {
    "collapsed": false
   },
   "outputs": [
    {
     "name": "stdout",
     "output_type": "stream",
     "text": [
      "ChunkParse score:\n",
      "    IOB Accuracy:  93.6%\n",
      "    Precision:     82.0%\n",
      "    Recall:        87.2%\n",
      "    F-Measure:     84.6%\n"
     ]
    }
   ],
   "source": [
    "print chunker.evaluate(test_sents)"
   ]
  },
  {
   "cell_type": "markdown",
   "metadata": {},
   "source": [
    "嘗試第三個版本的feature set，將目前的單字加入feature。"
   ]
  },
  {
   "cell_type": "code",
   "execution_count": 61,
   "metadata": {
    "collapsed": true
   },
   "outputs": [],
   "source": [
    "def npchunk_features(sentence, i, history):\n",
    "    \"\"\"\n",
    "    sentence -- 需要提取feature的句子，格式為list of (word, pos_tag)\n",
    "    i -- 目前是句子的第幾個字\n",
    "    history -- 前面的單字對應的tags\n",
    "    \"\"\"\n",
    "    word, pos = sentence[i]\n",
    "    if i == 0:\n",
    "        prevword, prevpos = \"<START>\", \"<START>\"\n",
    "    else:\n",
    "        prevword, prevpos = sentence[i-1]\n",
    "    return {\"pos\": pos, \"word\": word, \"prevpos\": prevpos}"
   ]
  },
  {
   "cell_type": "code",
   "execution_count": 62,
   "metadata": {
    "collapsed": true
   },
   "outputs": [],
   "source": [
    "chunker = ConsecutiveNPChunker(train_sents)"
   ]
  },
  {
   "cell_type": "code",
   "execution_count": 63,
   "metadata": {
    "collapsed": false
   },
   "outputs": [
    {
     "name": "stdout",
     "output_type": "stream",
     "text": [
      "ChunkParse score:\n",
      "    IOB Accuracy:  94.6%\n",
      "    Precision:     84.6%\n",
      "    Recall:        89.8%\n",
      "    F-Measure:     87.1%\n"
     ]
    }
   ],
   "source": [
    "print chunker.evaluate(test_sents)"
   ]
  },
  {
   "cell_type": "markdown",
   "metadata": {},
   "source": [
    "最後一個版本，加入後一個字的tag、前後pos的關聯、及冠詞後面的tag。"
   ]
  },
  {
   "cell_type": "code",
   "execution_count": 64,
   "metadata": {
    "collapsed": true
   },
   "outputs": [],
   "source": [
    "def tags_since_dt(sentence, i):\n",
    "    tags = set()\n",
    "    for word, pos in sentence[:i]:\n",
    "        if pos == 'DT':\n",
    "            tags = set()\n",
    "        else:\n",
    "            tags.add(pos)\n",
    "    return '+'.join(sorted(tags))\n",
    "\n",
    "def npchunk_features(sentence, i, history):\n",
    "    \"\"\"\n",
    "    sentence -- 需要提取feature的句子，格式為list of (word, pos_tag)\n",
    "    i -- 目前是句子的第幾個字\n",
    "    history -- 前面的單字對應的tags\n",
    "    \"\"\"\n",
    "    word, pos = sentence[i]\n",
    "    if i == 0:\n",
    "        prevword, prevpos = \"<START>\", \"<START>\"\n",
    "    else:\n",
    "        prevword, prevpos = sentence[i-1]\n",
    "    if i == len(sentence)-1:\n",
    "        nextword, nextpos = \"<END>\", \"<END>\"\n",
    "    else:\n",
    "        nextword, nextpos = sentence[i+1]\n",
    "    return {\"pos\": pos, \"word\": word, \"prevpos\": prevpos, \"nextpos\": nextpos,\n",
    "            \"prevpos+pos\": \"%s+%s\" % (prevpos, pos),\n",
    "            \"pos+nextpos\": \"%s+%s\" % (pos, nextpos),\n",
    "            \"tags-since-dt\": tags_since_dt(sentence, i)}"
   ]
  },
  {
   "cell_type": "code",
   "execution_count": 65,
   "metadata": {
    "collapsed": true
   },
   "outputs": [],
   "source": [
    "chunker = ConsecutiveNPChunker(train_sents)"
   ]
  },
  {
   "cell_type": "code",
   "execution_count": 67,
   "metadata": {
    "collapsed": false
   },
   "outputs": [
    {
     "name": "stdout",
     "output_type": "stream",
     "text": [
      "ChunkParse score:\n",
      "    IOB Accuracy:  96.0%\n",
      "    Precision:     88.3%\n",
      "    Recall:        91.1%\n",
      "    F-Measure:     89.7%\n"
     ]
    }
   ],
   "source": [
    "print chunker.evaluate(test_sents)"
   ]
  },
  {
   "cell_type": "markdown",
   "metadata": {},
   "source": [
    "## Recursion in Linguistic Structure\n",
    "\n",
    "在regular expression chunker中，如果grammar包含四種不同的chunk規則，則chunk tree的深度最多為四層。"
   ]
  },
  {
   "cell_type": "code",
   "execution_count": 79,
   "metadata": {
    "collapsed": false
   },
   "outputs": [
    {
     "data": {
      "text/plain": [
       "[[('Mary', 'NNP'),\n",
       "  ('saw', 'VBD'),\n",
       "  ('the', 'DT'),\n",
       "  ('cat', 'NN'),\n",
       "  ('sit', 'NN'),\n",
       "  ('on', 'IN'),\n",
       "  ('the', 'DT'),\n",
       "  ('mat', 'NN')]]"
      ]
     },
     "execution_count": 79,
     "metadata": {},
     "output_type": "execute_result"
    }
   ],
   "source": [
    "grammar = r\"\"\"\n",
    "  NP: {<DT|JJ|NN.*>+}          # Chunk sequences of DT, JJ, NN\n",
    "  PP: {<IN><NP>}               # Chunk prepositions followed by NP\n",
    "  VP: {<VB.*><NP|PP|CLAUSE>+$} # Chunk verbs and their arguments\n",
    "  CLAUSE: {<NP><VP>}           # Chunk NP, VP\n",
    "  \"\"\"\n",
    "cp = nltk.RegexpParser(grammar)\n",
    "sentence = \"Mary saw the cat sit on the mat\"\n",
    "preprocess(sentence, \"\")"
   ]
  },
  {
   "cell_type": "code",
   "execution_count": 80,
   "metadata": {
    "collapsed": false
   },
   "outputs": [
    {
     "data": {
      "image/png": "[encoded data removed]",
      "text/plain": [
       "Tree('S', [Tree('CLAUSE', [Tree('NP', [('Mary', 'NNP')]), Tree('VP', [('saw', 'VBD'), Tree('NP', [('the', 'DT'), ('cat', 'NN'), ('sit', 'NN')]), Tree('PP', [('on', 'IN'), Tree('NP', [('the', 'DT'), ('mat', 'NN')])])])])])"
      ]
     },
     "execution_count": 80,
     "metadata": {},
     "output_type": "execute_result"
    }
   ],
   "source": [
    "# 這個句子沒問題\n",
    "cp.parse(preprocess(sentence, \"\")[0])"
   ]
  },
  {
   "cell_type": "code",
   "execution_count": 82,
   "metadata": {
    "collapsed": false
   },
   "outputs": [
    {
     "data": {
      "image/png": "[encoded data removed]",
      "text/plain": [
       "Tree('S', [Tree('NP', [('John', 'NNP')]), ('thinks', 'VBZ'), Tree('CLAUSE', [Tree('NP', [('Mary', 'NNP')]), Tree('VP', [('saw', 'VBD'), Tree('NP', [('the', 'DT'), ('cat', 'NN'), ('sit', 'NN')]), Tree('PP', [('on', 'IN'), Tree('NP', [('the', 'DT'), ('mat', 'NN')])])])])])"
      ]
     },
     "execution_count": 82,
     "metadata": {},
     "output_type": "execute_result"
    }
   ],
   "source": [
    "# 但加上子句後就有問題，thinks沒有正確處理\n",
    "sentence = \"John thinks Mary saw the cat sit on the mat\"\n",
    "cp.parse(preprocess(sentence, \"\")[0])"
   ]
  },
  {
   "cell_type": "markdown",
   "metadata": {},
   "source": [
    "在上面的例子中，因為加上John thinks導致層數變多，所以thinks就被錯誤處理，沒有合併成VP。這可以用`loop=2`的參數來解決。"
   ]
  },
  {
   "cell_type": "code",
   "execution_count": 83,
   "metadata": {
    "collapsed": false
   },
   "outputs": [
    {
     "data": {
      "image/png": "[encoded data removed]",
      "text/plain": [
       "Tree('S', [Tree('CLAUSE', [Tree('NP', [('John', 'NNP')]), Tree('VP', [('thinks', 'VBZ'), Tree('CLAUSE', [Tree('NP', [('Mary', 'NNP')]), Tree('VP', [('saw', 'VBD'), Tree('NP', [('the', 'DT'), ('cat', 'NN'), ('sit', 'NN')]), Tree('PP', [('on', 'IN'), Tree('NP', [('the', 'DT'), ('mat', 'NN')])])])])])])])"
      ]
     },
     "execution_count": 83,
     "metadata": {},
     "output_type": "execute_result"
    }
   ],
   "source": [
    "cp = nltk.RegexpParser(grammar, loop=2)\n",
    "cp.parse(preprocess(sentence, \"\")[0])"
   ]
  },
  {
   "cell_type": "markdown",
   "metadata": {},
   "source": [
    "## Named Entity Recognition\n",
    "\n",
    "當我們能夠正確辨識出NP chunk後，下一步就是辨識那個NP chunk屬於named entity，這個過程稱為NER(named  entity recognition)。\n",
    "\n",
    "named entity(NE)有以下類型:\n",
    "* ORGANIZATION: Georgia-Pacific Corp., WHO\n",
    "* PERSON: Eddy Bonte, President Obama\n",
    "* LOCATION: Murray River, Mount Everest\n",
    "* DATE: June, 2008-06-29\n",
    "* TIME: two fifty a m, 1:30 p.m.\n",
    "* MONEY: 175 million Canadian Dollars, GBP 10.40\n",
    "* PERCENT: twenty pct, 18.75 %\n",
    "* FACILITY: Washington Monument, Stonehenge\n",
    "* GPE: South East Asia, Midlothian\n",
    "\n",
    "NER問題的困難點\n",
    "\n",
    "1. 人名或組織名更新太快，缺少dictionary可以用查表的方法解決\n",
    "2. 有些名稱同時屬於不同類型的NE，例如May同時是地名也是日期，也可以是人名\n",
    "3. 多字組成的名詞，需要辨識起始和結束位置\n",
    "\n",
    "在conll2002的資料集中，就有包含NER問題的訓練資料。"
   ]
  },
  {
   "cell_type": "code",
   "execution_count": 89,
   "metadata": {
    "collapsed": false
   },
   "outputs": [
    {
     "data": {
      "image/png": "[encoded data removed]",
      "text/plain": [
       "Tree('S', [(u'Over', u'IN', u'O'), (u'a', u'DT', u'B-NP'), (u'cup', u'NN', u'I-NP'), (u'of', u'IN', u'O'), (u'coffee', u'NN', u'B-NP'), (u',', u',', u'O'), Tree('NE', [(u'Mr.', u'NNP', u'B-NP'), (u'Stone', u'NNP', u'I-NP')]), (u'told', u'VBD', u'O'), (u'his', u'PRP$', u'B-NP'), (u'story', u'NN', u'I-NP'), (u'.', u'.', u'O')])"
      ]
     },
     "execution_count": 89,
     "metadata": {},
     "output_type": "execute_result"
    }
   ],
   "source": [
    "# 使用binary=True，只會標註NE的位置，但不會標註類型\n",
    "nltk.ne_chunk(nltk.chunk.tree2conlltags(train_sents[99]), binary=True)"
   ]
  },
  {
   "cell_type": "code",
   "execution_count": 91,
   "metadata": {
    "collapsed": false
   },
   "outputs": [
    {
     "data": {
      "image/png": "[encoded data removed]",
      "text/plain": [
       "Tree('S', [(u'Over', u'IN', u'O'), (u'a', u'DT', u'B-NP'), (u'cup', u'NN', u'I-NP'), (u'of', u'IN', u'O'), (u'coffee', u'NN', u'B-NP'), (u',', u',', u'O'), Tree('PERSON', [(u'Mr.', u'NNP', u'B-NP'), (u'Stone', u'NNP', u'I-NP')]), (u'told', u'VBD', u'O'), (u'his', u'PRP$', u'B-NP'), (u'story', u'NN', u'I-NP'), (u'.', u'.', u'O')])"
      ]
     },
     "execution_count": 91,
     "metadata": {},
     "output_type": "execute_result"
    }
   ],
   "source": [
    "# 不使用binary=True，會標註類型 (例如PERSON)\n",
    "nltk.ne_chunk(nltk.chunk.tree2conlltags(train_sents[99]))"
   ]
  },
  {
   "cell_type": "markdown",
   "metadata": {},
   "source": [
    "## Relation Extraction\n",
    "\n",
    "當所有NE都辨識出來後，就可以試著找它們之間的關係，並輸出為(X, relation, Y)的形式。下面以regular expression為例，示範如何使用relation extration。"
   ]
  },
  {
   "cell_type": "code",
   "execution_count": 95,
   "metadata": {
    "collapsed": false
   },
   "outputs": [
    {
     "name": "stdout",
     "output_type": "stream",
     "text": [
      "[ORG: u'WHYY'] u'in' [LOC: u'Philadelphia']\n",
      "[ORG: u'McGlashan &AMP; Sarrail'] u'firm in' [LOC: u'San Mateo']\n",
      "[ORG: u'Freedom Forum'] u'in' [LOC: u'Arlington']\n",
      "[ORG: u'Brookings Institution'] u', the research group in' [LOC: u'Washington']\n",
      "[ORG: u'Idealab'] u', a self-described business incubator based in' [LOC: u'Los Angeles']\n",
      "[ORG: u'Open Text'] u', based in' [LOC: u'Waterloo']\n",
      "[ORG: u'WGBH'] u'in' [LOC: u'Boston']\n",
      "[ORG: u'Bastille Opera'] u'in' [LOC: u'Paris']\n",
      "[ORG: u'Omnicom'] u'in' [LOC: u'New York']\n",
      "[ORG: u'DDB Needham'] u'in' [LOC: u'New York']\n",
      "[ORG: u'Kaplan Thaler Group'] u'in' [LOC: u'New York']\n",
      "[ORG: u'BBDO South'] u'in' [LOC: u'Atlanta']\n",
      "[ORG: u'Georgia-Pacific'] u'in' [LOC: u'Atlanta']\n"
     ]
    }
   ],
   "source": [
    "import re\n",
    "IN = re.compile(r'.*\\bin\\b(?!\\b.+ing)')\n",
    "for doc in nltk.corpus.ieer.parsed_docs('NYT_19980315'):\n",
    "     for rel in nltk.sem.extract_rels('ORG', 'LOC', doc, corpus='ieer', pattern = IN):\n",
    "            print nltk.sem.rtuple(rel)"
   ]
  },
  {
   "cell_type": "code",
   "execution_count": null,
   "metadata": {
    "collapsed": true
   },
   "outputs": [],
   "source": []
  }
 ],
 "metadata": {
  "kernelspec": {
   "display_name": "Python 2",
   "language": "python",
   "name": "python2"
  },
  "language_info": {
   "codemirror_mode": {
    "name": "ipython",
    "version": 2
   },
   "file_extension": ".py",
   "mimetype": "text/x-python",
   "name": "python",
   "nbconvert_exporter": "python",
   "pygments_lexer": "ipython2",
   "version": "2.7.10"
  }
 },
 "nbformat": 4,
 "nbformat_minor": 0
}
