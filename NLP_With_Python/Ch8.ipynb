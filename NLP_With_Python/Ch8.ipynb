{
 "cells": [
  {
   "cell_type": "markdown",
   "metadata": {},
   "source": [
    "# Analyzing Sentence Structure\n",
    "\n",
    "本章的目標是回答幾個問題:\n",
    "\n",
    "1. 如何用正規的文法來描述無限多種可能的句子?\n",
    "2. 如何將句子表現為語法樹(syntax tree)?\n",
    "3. parser如何自動分析句子並產生syntax tree?\n",
    "\n",
    "語言，就是某種文法能產生出的所有句子的集合，任何句子都能畫成一棵樹，樹中的每個節點稱為constituent，也就是句子的組成單位。例如S --> NP VP，就是將constituent S拆成constituent NP及VP。"
   ]
  },
  {
   "cell_type": "markdown",
   "metadata": {
    "collapsed": true
   },
   "source": [
    "最簡單的grammar稱為**context-free grammar(CFG)**。CFG由許多規則組成，規則左邊的符號可以展開成右邊的一到多個符號。"
   ]
  },
  {
   "cell_type": "code",
   "execution_count": 2,
   "metadata": {
    "collapsed": true
   },
   "outputs": [],
   "source": [
    "import nltk\n",
    "from nltk import CFG"
   ]
  },
  {
   "cell_type": "code",
   "execution_count": 3,
   "metadata": {
    "collapsed": false
   },
   "outputs": [
    {
     "data": {
      "text/plain": [
       "<Grammar with 25 productions>"
      ]
     },
     "execution_count": 3,
     "metadata": {},
     "output_type": "execute_result"
    }
   ],
   "source": [
    "# 也可以將grammar存在檔案中，透過\n",
    "#    nltk.data.load('file:mygrammar.cfg')\n",
    "# 來讀取\n",
    "grammar1 = CFG.fromstring(\"\"\"\n",
    "    S -> NP VP\n",
    "    VP -> V NP | V NP PP\n",
    "    PP -> P NP\n",
    "    V -> \"saw\" | \"ate\" | \"walked\"\n",
    "    NP -> \"John\" | \"Mary\" | \"Bob\" | Det N | Det N PP\n",
    "    Det -> \"a\" | \"an\" | \"the\" | \"my\"\n",
    "    N -> \"man\" | \"dog\" | \"cat\" | \"telescope\" | \"park\"\n",
    "    P -> \"in\" | \"on\" | \"by\" | \"with\"\n",
    "    \"\"\")\n",
    "grammar1"
   ]
  },
  {
   "cell_type": "code",
   "execution_count": 4,
   "metadata": {
    "collapsed": false
   },
   "outputs": [
    {
     "data": {
      "image/png": "[encoded data removed]",
      "text/plain": [
       "Tree('S', [Tree('NP', ['Mary']), Tree('VP', [Tree('V', ['saw']), Tree('NP', ['Bob'])])])"
      ]
     },
     "execution_count": 4,
     "metadata": {},
     "output_type": "execute_result"
    }
   ],
   "source": [
    "sent = \"Mary saw Bob\".split()\n",
    "rd_parser = nltk.parse.RecursiveDescentParser(grammar1)\n",
    "rd_parser.parse(sent).next()"
   ]
  },
  {
   "cell_type": "markdown",
   "metadata": {},
   "source": [
    "使用CFG來產生syntax tree，很容易遇到**structurally ambiguous**的問題，例如\"the dog saw a man in the park\"，就有兩種不同的tree。在下面的例子中，稱為PP attachment ambiguous，用CFG無法判斷\"in the park\"是要修飾\"a man\"還是修飾\"saw\"。"
   ]
  },
  {
   "cell_type": "code",
   "execution_count": 5,
   "metadata": {
    "collapsed": false
   },
   "outputs": [
    {
     "data": {
      "image/png": "[encoded data removed]",
      "text/plain": [
       "Tree('S', [Tree('NP', [Tree('Det', ['the']), Tree('N', ['dog'])]), Tree('VP', [Tree('V', ['saw']), Tree('NP', [Tree('Det', ['a']), Tree('N', ['man']), Tree('PP', [Tree('P', ['in']), Tree('NP', [Tree('Det', ['the']), Tree('N', ['park'])])])])])])"
      ]
     },
     "execution_count": 5,
     "metadata": {},
     "output_type": "execute_result"
    }
   ],
   "source": [
    "sent = \"the dog saw a man in the park\".split()\n",
    "trees = rd_parser.parse(sent)\n",
    "trees.next()"
   ]
  },
  {
   "cell_type": "code",
   "execution_count": 6,
   "metadata": {
    "collapsed": false
   },
   "outputs": [
    {
     "data": {
      "image/png": "[encoded data removed]",
      "text/plain": [
       "Tree('S', [Tree('NP', [Tree('Det', ['the']), Tree('N', ['dog'])]), Tree('VP', [Tree('V', ['saw']), Tree('NP', [Tree('Det', ['a']), Tree('N', ['man'])]), Tree('PP', [Tree('P', ['in']), Tree('NP', [Tree('Det', ['the']), Tree('N', ['park'])])])])])"
      ]
     },
     "execution_count": 6,
     "metadata": {},
     "output_type": "execute_result"
    }
   ],
   "source": [
    "trees.next()"
   ]
  },
  {
   "cell_type": "markdown",
   "metadata": {},
   "source": [
    "## Parsing with Context-Free Grammar"
   ]
  },
  {
   "cell_type": "code",
   "execution_count": 8,
   "metadata": {
    "collapsed": false
   },
   "outputs": [],
   "source": [
    "grammar2 = CFG.fromstring(\"\"\"\n",
    "    S  -> NP VP\n",
    "    NP -> Det Nom | PropN\n",
    "    Nom -> Adj Nom | N\n",
    "    VP -> V Adj | V NP | V S | V NP PP\n",
    "    PP -> P NP\n",
    "    PropN -> 'Buster' | 'Chatterer' | 'Joe'\n",
    "    Det -> 'the' | 'a'\n",
    "    N -> 'bear' | 'squirrel' | 'tree' | 'fish' | 'log'\n",
    "    Adj  -> 'angry' | 'frightened' |  'little' | 'tall'\n",
    "    V ->  'chased'  | 'saw' | 'said' | 'thought' | 'was' | 'put'\n",
    "    P -> 'on'\n",
    "    \"\"\")"
   ]
  },
  {
   "cell_type": "markdown",
   "metadata": {},
   "source": [
    "### 1. Re-cursive descent parsing\n",
    "\n",
    "這是一種top-down的方法，從最上層的S開始，recursive嘗試所有可能的展開規則，如果展開不下去，就會backtracking到上一個狀態。如果syntax tree不是唯一解，所有可能的展開規則都會被記錄下來。\n",
    "\n",
    "缺點:\n",
    "\n",
    "1. 如果遇到left-recursive的規則，例如`NP -> NP PP`，會造成無窮迴圈\n",
    "2. 會浪費很多時間在探索可能的規則\n",
    "3. backtracking時會浪費已經展開的結果\n",
    "\n",
    "### 2. Shift-reduce parsing\n",
    "\n",
    "這種方法的資料結構由一個stack及一個queue組成，stack包含已經處理的token，queue則包含未處理的token。\n",
    "\n",
    "演算法的每個循環中，有兩種動作可以選擇：shift或reduce。\n",
    "\n",
    "* shift是將queue的第一個token移動到stack最上層\n",
    "* reduce則是將stack最上層的n個token合併成一個，再push回stack最上層\n",
    "\n",
    "在設計演算法時，要考慮什麼時候用shift或reduce，其次是reduction要用那一種規則。例如「永遠先作reduce，不能reduce時才作shift」、「reduce時優先用最多token的規則」。\n",
    "\n",
    "優點: 每個token只會用到一次，所以不會浪費時間\n",
    "\n",
    "缺點: 因為無法回復上一動，如果一開始的parsing有問題，可能無法產生syntax tree。\n",
    "\n",
    "### 3. Left-corner parsing\n",
    "\n",
    "Left-corner與recursive decent幾乎一樣，只差在展開時會查表，看下一個token是否符合table。\n",
    "\n",
    "這種parser在開始前，會建一個表格，第一欄是所有的non-terminal，第二欄展開後的第一個non-terminal。例如`S, NP`表示所有規則都是`S -> NP ...`。例如`NP, Det PropN`表示規則有`NP -> Det ...`及`NP -> PropN ...`兩種。\n",
    "\n",
    "### 4. Chart parsing\n",
    "\n",
    "chart parser用dynamic programming的技巧，也就是將計算的中間結果存下來給後面用。\n",
    "\n",
    "演算法會建一個表格，稱為WFST(well-formed substring table)。`WFST[0][2]`代表第0和第1個字的可能結果。\n",
    "\n",
    "一開始會先從`WFST[0][1], WFST[1][2]...`開始，先嘗試找一個token對應的non-terminal。接下來嘗試將第0和1個non-terminal結合，將結果存在`WFST[0][2]`。這樣一層層往上作，直到`WFST[0][7]=S`為止。\n",
    "\n",
    "缺點:\n",
    "\n",
    "1. WFST不會自動變syntax tree，需要進一步解析\n",
    "2. 只支援binary production\n",
    "3. bottom-up可能有點浪費\n",
    "4. 無法處理ambiguity的情況，最終只存在一種結果"
   ]
  },
  {
   "cell_type": "code",
   "execution_count": 14,
   "metadata": {
    "collapsed": false
   },
   "outputs": [],
   "source": [
    "groucho_grammar = CFG.fromstring(\"\"\"\n",
    "    S -> NP VP\n",
    "    PP -> P NP\n",
    "    NP -> Det N | Det N PP | 'I'\n",
    "    VP -> V NP | VP PP\n",
    "    Det -> 'an' | 'my'\n",
    "    N -> 'elephant' | 'pajamas'\n",
    "    V -> 'shot'\n",
    "    P -> 'in'\n",
    "    \"\"\")"
   ]
  },
  {
   "cell_type": "code",
   "execution_count": 17,
   "metadata": {
    "collapsed": false
   },
   "outputs": [
    {
     "data": {
      "image/png": "[encoded data removed]",
      "text/plain": [
       "Tree('S', [Tree('NP', ['I']), Tree('VP', [Tree('VP', [Tree('V', ['shot']), Tree('NP', [Tree('Det', ['an']), Tree('N', ['elephant'])])]), Tree('PP', [Tree('P', ['in']), Tree('NP', [Tree('Det', ['my']), Tree('N', ['pajamas'])])])])])"
      ]
     },
     "execution_count": 17,
     "metadata": {},
     "output_type": "execute_result"
    }
   ],
   "source": [
    "sent = ['I', 'shot', 'an', 'elephant', 'in', 'my', 'pajamas']\n",
    "parser = nltk.ChartParser(groucho_grammar)\n",
    "trees = parser.parse(sent)\n",
    "trees.next()"
   ]
  },
  {
   "cell_type": "code",
   "execution_count": 18,
   "metadata": {
    "collapsed": false
   },
   "outputs": [
    {
     "data": {
      "image/png": "[encoded data removed]",
      "text/plain": [
       "Tree('S', [Tree('NP', ['I']), Tree('VP', [Tree('V', ['shot']), Tree('NP', [Tree('Det', ['an']), Tree('N', ['elephant']), Tree('PP', [Tree('P', ['in']), Tree('NP', [Tree('Det', ['my']), Tree('N', ['pajamas'])])])])])])"
      ]
     },
     "execution_count": 18,
     "metadata": {},
     "output_type": "execute_result"
    }
   ],
   "source": [
    "trees.next()"
   ]
  },
  {
   "cell_type": "markdown",
   "metadata": {},
   "source": [
    "## Dependency Grammar\n",
    "\n",
    "dependency grammar的焦點放在字和字之間的關係，通常這種關係是不對稱的，一個字稱為**head**，另一個則稱為**dependent**。\n",
    "\n",
    "例如\"I shot an elephant\"，這裡面有幾個關係:\n",
    "\n",
    "* `shot -> I`(主詞)\n",
    "* `shot -> elephant`(受詞)\n",
    "* `elephant -> an`(冠詞)\n",
    "\n",
    "如果把dependency畫成一個graph，如果graph的edge都沒有交叉，稱為**projective**。"
   ]
  },
  {
   "cell_type": "code",
   "execution_count": null,
   "metadata": {
    "collapsed": true
   },
   "outputs": [],
   "source": []
  }
 ],
 "metadata": {
  "kernelspec": {
   "display_name": "Python 2",
   "language": "python",
   "name": "python2"
  },
  "language_info": {
   "codemirror_mode": {
    "name": "ipython",
    "version": 2
   },
   "file_extension": ".py",
   "mimetype": "text/x-python",
   "name": "python",
   "nbconvert_exporter": "python",
   "pygments_lexer": "ipython2",
   "version": "2.7.10"
  }
 },
 "nbformat": 4,
 "nbformat_minor": 0
}
