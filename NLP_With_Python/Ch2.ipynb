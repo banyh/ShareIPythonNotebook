{
 "cells": [
  {
   "cell_type": "markdown",
   "metadata": {},
   "source": [
    "# Chapter 2: 取得Corpora及Lexical資源\n",
    "\n",
    "## 2.1 文字型的Corpus\n",
    "\n",
    "### Gutenberg Corpus\n",
    "\n",
    "古騰堡計畫是由志工參與，將文學資料電子化的計畫。古騰堡是活字印刷的發明人，以他為名表示希望知識的自由流通。在Gutenberg Corpus中有部分的文學作品，可以用`nltk.corpus.gutenberg.fileids()`查詢。"
   ]
  },
  {
   "cell_type": "code",
   "execution_count": 1,
   "metadata": {
    "collapsed": false
   },
   "outputs": [
    {
     "data": {
      "text/plain": [
       "[u'austen-emma.txt',\n",
       " u'austen-persuasion.txt',\n",
       " u'austen-sense.txt',\n",
       " u'bible-kjv.txt',\n",
       " u'blake-poems.txt',\n",
       " u'bryant-stories.txt',\n",
       " u'burgess-busterbrown.txt',\n",
       " u'carroll-alice.txt',\n",
       " u'chesterton-ball.txt',\n",
       " u'chesterton-brown.txt',\n",
       " u'chesterton-thursday.txt',\n",
       " u'edgeworth-parents.txt',\n",
       " u'melville-moby_dick.txt',\n",
       " u'milton-paradise.txt',\n",
       " u'shakespeare-caesar.txt',\n",
       " u'shakespeare-hamlet.txt',\n",
       " u'shakespeare-macbeth.txt',\n",
       " u'whitman-leaves.txt']"
      ]
     },
     "execution_count": 1,
     "metadata": {},
     "output_type": "execute_result"
    }
   ],
   "source": [
    "import nltk\n",
    "nltk.corpus.gutenberg.fileids()"
   ]
  },
  {
   "cell_type": "markdown",
   "metadata": {},
   "source": [
    "例如我們想要讀取Jane Austen所著的\"Emma\"，可以用`words()`這個函式取得。"
   ]
  },
  {
   "cell_type": "code",
   "execution_count": 4,
   "metadata": {
    "collapsed": false
   },
   "outputs": [
    {
     "data": {
      "text/plain": [
       "[u'[',\n",
       " u'Emma',\n",
       " u'by',\n",
       " u'Jane',\n",
       " u'Austen',\n",
       " u'1816',\n",
       " u']',\n",
       " u'VOLUME',\n",
       " u'I',\n",
       " u'CHAPTER']"
      ]
     },
     "execution_count": 4,
     "metadata": {},
     "output_type": "execute_result"
    }
   ],
   "source": [
    "emma = nltk.corpus.gutenberg.words('austen-emma.txt')\n",
    "emma[:10]  # 看作品的前10個字"
   ]
  },
  {
   "cell_type": "markdown",
   "metadata": {},
   "source": [
    "現在看一下每一部作品的統計資料。"
   ]
  },
  {
   "cell_type": "code",
   "execution_count": 12,
   "metadata": {
    "collapsed": false
   },
   "outputs": [
    {
     "name": "stdout",
     "output_type": "stream",
     "text": [
      "    887071  192427  7752 austen-emma.txt\n",
      "    466292   98171  3747 austen-persuasion.txt\n",
      "    673022  141576  4999 austen-sense.txt\n",
      "   4332554 1010654 30103 bible-kjv.txt\n",
      "     38153    8354   438 blake-poems.txt\n",
      "    249439   55563  2863 bryant-stories.txt\n",
      "     84663   18963  1054 burgess-busterbrown.txt\n",
      "    144395   34110  1703 carroll-alice.txt\n",
      "    457450   97004  4779 chesterton-ball.txt\n",
      "    406629   86063  3806 chesterton-brown.txt\n",
      "    320525   69213  3742 chesterton-thursday.txt\n",
      "    935158  210663 10230 edgeworth-parents.txt\n",
      "   1242990  260819 10059 melville-moby_dick.txt\n",
      "    468220   96825  1851 milton-paradise.txt\n",
      "    112310   25837  2163 shakespeare-caesar.txt\n",
      "    162881   37360  3106 shakespeare-hamlet.txt\n",
      "    100351   23140  1907 shakespeare-macbeth.txt\n",
      "    711215  154883  4250 whitman-leaves.txt\n"
     ]
    }
   ],
   "source": [
    "from nltk.corpus import gutenberg as gb\n",
    "for book in gb.fileids():\n",
    "    num_chars = len(gb.raw(book))\n",
    "    num_words = len(gb.words(book))\n",
    "    num_sents = len(gb.sents(book))\n",
    "    print '{0:10d}{1:8d}{2:6d} {3}'.format(num_chars, num_words, num_sents, book)"
   ]
  },
  {
   "cell_type": "markdown",
   "metadata": {},
   "source": [
    "### Web and Chat Text\n",
    "\n",
    "`nltk.corpus.webtext`包含了Firefox討論區、神鬼奇航的劇本、還有一些路邊聽到的對話等等。"
   ]
  },
  {
   "cell_type": "code",
   "execution_count": 19,
   "metadata": {
    "collapsed": false
   },
   "outputs": [
    {
     "name": "stdout",
     "output_type": "stream",
     "text": [
      "firefox.txt    [u'Cookie', u'Manager', u':', u'\"', u'Don', u\"'\", u't']\n",
      "grail.txt      [u'SCENE', u'1', u':', u'[', u'wind', u']', u'[']\n",
      "overheard.txt  [u'White', u'guy', u':', u'So', u',', u'do', u'you']\n",
      "pirates.txt    [u'PIRATES', u'OF', u'THE', u'CARRIBEAN', u':', u'DEAD', u'MAN']\n",
      "singles.txt    [u'25', u'SEXY', u'MALE', u',', u'seeks', u'attrac', u'older']\n",
      "wine.txt       [u'Lovely', u'delicate', u',', u'fragrant', u'Rhone', u'wine', u'.']\n"
     ]
    }
   ],
   "source": [
    "from nltk.corpus import webtext as web\n",
    "for f in web.fileids():\n",
    "    print '{0:15}{1}'.format(f, web.words(f)[:7])"
   ]
  },
  {
   "cell_type": "markdown",
   "metadata": {},
   "source": [
    "`ntlk.corpus.nps_char`包含一萬筆即時通訊的記錄，所有對話的姓名都以\"UserNNN\"代替。`nps_char`分為15個file id，對應不同的chat room，例如file id中間有\"20s\"表示是20歲的聊天室，有\"teen\"表示是青少年專用。file id前面的日期都是2006年，而檔名中的\"???posts\"代表裡面有幾則訊息。"
   ]
  },
  {
   "cell_type": "code",
   "execution_count": 22,
   "metadata": {
    "collapsed": false
   },
   "outputs": [
    {
     "name": "stdout",
     "output_type": "stream",
     "text": [
      "10-19-20s_706posts.xml        [u'now', u'im', u'left', u'with', u'this']\n",
      "10-19-30s_705posts.xml        [u'U11', u'lol', u'lol', u'U11', u'wb']\n",
      "10-19-40s_686posts.xml        [u'hi', u'U23', u'love', u'me', u'like']\n",
      "10-19-adults_706posts.xml     [u'Hello', u'U24', u',', u'welcome', u'to']\n",
      "10-24-40s_706posts.xml        [u'tc', u'U9', u'Tell', u'me', u'why']\n",
      "10-26-teens_706posts.xml      [u'I', u'have', u'a', u'problem', u'with']\n",
      "11-06-adults_706posts.xml     [u'Hello', u'U57', u',', u'welcome', u'to']\n",
      "11-08-20s_705posts.xml        [u'U110', u',', u'i', u\"'ll\", u'stalk']\n",
      "11-08-40s_706posts.xml        [u'lol', u'U2', u'me', u'too', u'U7']\n",
      "11-08-adults_705posts.xml     [u'JOIN', u'U13', u',', u'welcome', u'to']\n",
      "11-08-teens_706posts.xml      [u'JOIN', u'JOIN', u'.', u'wz', u'73042']\n",
      "11-09-20s_706posts.xml        [u'LoL', u'im', u'like', u'five', u'seconds']\n",
      "11-09-40s_706posts.xml        [u'lol', u'h', u'U17', u'U4', u'..']\n",
      "11-09-adults_706posts.xml     [u'wisconsin', u'?', u'.', u'ACTION', u'yawns']\n",
      "11-09-teens_706posts.xml      [u'PART', u'PART', u'PART', u'sup', u'yoll']\n"
     ]
    }
   ],
   "source": [
    "from nltk.corpus import nps_chat as nps\n",
    "for f in nps.fileids():\n",
    "    print '{0:30}{1}'.format(f, nps.words(f)[:5])"
   ]
  },
  {
   "cell_type": "markdown",
   "metadata": {},
   "source": [
    "### Brown Corpus\n",
    "\n",
    "Brown Corpus在1961年由布朗大學所建立，包含500種來源的文字，這些來源分類為news, editorial等等。由file id可以看出類別，例如\"ca\"開頭的是新聞、\"cd\"開頭的是宗教、\"cm\"開頭的是科幻。"
   ]
  },
  {
   "cell_type": "code",
   "execution_count": 25,
   "metadata": {
    "collapsed": false
   },
   "outputs": [
    {
     "data": {
      "text/plain": [
       "[u'adventure',\n",
       " u'belles_lettres',\n",
       " u'editorial',\n",
       " u'fiction',\n",
       " u'government',\n",
       " u'hobbies',\n",
       " u'humor',\n",
       " u'learned',\n",
       " u'lore',\n",
       " u'mystery',\n",
       " u'news',\n",
       " u'religion',\n",
       " u'reviews',\n",
       " u'romance',\n",
       " u'science_fiction']"
      ]
     },
     "execution_count": 25,
     "metadata": {},
     "output_type": "execute_result"
    }
   ],
   "source": [
    "from nltk.corpus import brown as br\n",
    "br.categories()"
   ]
  },
  {
   "cell_type": "code",
   "execution_count": 27,
   "metadata": {
    "collapsed": false
   },
   "outputs": [
    {
     "data": {
      "text/plain": [
       "[u'ca01', u'ca02', u'ca03', u'ca04', u'ca05']"
      ]
     },
     "execution_count": 27,
     "metadata": {},
     "output_type": "execute_result"
    }
   ],
   "source": [
    "br.fileids(categories='news')[:5]"
   ]
  },
  {
   "cell_type": "code",
   "execution_count": 28,
   "metadata": {
    "collapsed": false
   },
   "outputs": [
    {
     "data": {
      "text/plain": [
       "[u'cm01', u'cm02', u'cm03', u'cm04', u'cm05']"
      ]
     },
     "execution_count": 28,
     "metadata": {},
     "output_type": "execute_result"
    }
   ],
   "source": [
    "br.fileids(categories='science_fiction')[:5]"
   ]
  },
  {
   "cell_type": "markdown",
   "metadata": {},
   "source": [
    "使用Brown Corpus時，所有函式都可以加上`categories = ['xxx','yyy']`或是`fileid = ['xxx','yyy']`來限制"
   ]
  },
  {
   "cell_type": "code",
   "execution_count": 32,
   "metadata": {
    "collapsed": false
   },
   "outputs": [
    {
     "data": {
      "text/plain": [
       "[u'Does', u'our', u'society', u'have', u'a', ...]"
      ]
     },
     "execution_count": 32,
     "metadata": {},
     "output_type": "execute_result"
    }
   ],
   "source": [
    "br.words(fileids=['cg22','cm04'])"
   ]
  },
  {
   "cell_type": "code",
   "execution_count": 33,
   "metadata": {
    "collapsed": false
   },
   "outputs": [
    {
     "data": {
      "text/plain": [
       "[u'In', u'American', u'romance', u',', u'almost', ...]"
      ]
     },
     "execution_count": 33,
     "metadata": {},
     "output_type": "execute_result"
    }
   ],
   "source": [
    "br.words(categories=['humor','lore'])"
   ]
  },
  {
   "cell_type": "markdown",
   "metadata": {},
   "source": [
    "我們常利用Brown Corpus來研究不同類別的文字中，用詞會有什麼不一樣。例如我想知道不同文字中，\"can\", \"could\", \"may\", \"might\", \"must\", \"will\"的比例。"
   ]
  },
  {
   "cell_type": "code",
   "execution_count": 58,
   "metadata": {
    "collapsed": false
   },
   "outputs": [
    {
     "name": "stdout",
     "output_type": "stream",
     "text": [
      "category           can  could    may  might   must   will\n",
      "adventure         6.92  22.21   1.01   8.51   3.89   7.35\n",
      "belles_lettres   14.39  12.48  12.77   6.53   9.88  14.21\n",
      "editorial        20.13   9.25  12.82   6.33   8.93  38.15\n",
      "fiction           5.69  24.53   1.46   6.42   8.03   8.18\n",
      "government       16.97   5.42  25.53   1.85  14.55  34.80\n",
      "hobbies          33.52   7.16  17.37   2.67  10.20  32.67\n",
      "humor             7.84  15.21   3.69   3.69   4.15   5.99\n",
      "learned          20.18   8.74  18.47   7.04  11.16  18.69\n",
      "lore             15.41  12.87  15.41   4.53   8.70  16.14\n",
      "mystery           7.87  25.36   2.62   9.97   5.42   4.37\n",
      "news              9.35   8.65   9.25   3.78   5.27  38.69\n",
      "religion         21.32  14.97  20.05   3.05  13.71  18.27\n",
      "reviews          11.06   9.83  11.55   6.39   4.67  14.99\n",
      "romance          11.28  27.85   1.57   7.28   6.57   7.00\n",
      "science_fiction  11.06  33.86   2.76   8.29   5.53  11.75\n"
     ]
    }
   ],
   "source": [
    "modals = [\"can\", \"could\", \"may\", \"might\", \"must\", \"will\"]\n",
    "print '{0:15} {1:>6} {2:>6} {3:>6} {4:>6} {5:>6} {6:>6}'.format \\\n",
    "            ('category', modals[0], modals[1], modals[2], modals[3], modals[4], modals[5])\n",
    "for cat in br.categories():\n",
    "    text = br.words(categories=cat)\n",
    "    dist = nltk.FreqDist([w.lower() for w in text])\n",
    "    num = len(text)\n",
    "    freq = [float(dist[m]) / num * 10000 for m in modals]\n",
    "    print '{0:15} {1:6.2f} {2:6.2f} {3:6.2f} {4:6.2f} {5:6.2f} {6:6.2f}'.format \\\n",
    "            (cat, freq[0], freq[1], freq[2], freq[3], freq[4], freq[5])"
   ]
  },
  {
   "cell_type": "markdown",
   "metadata": {},
   "source": [
    "也可以用內建的`nltk.ConditionalFreqDist()`來作到這件事。我們給他的參數是所有(genre,word)的配對，它會根據`conditions=genres`，將word分類，並根據`samples=modals`找出要顯示的文字。\n",
    "\n",
    "`cfd['news']`會傳回Counter，也可以用`most_common()`將Counter依照出現次數排序。"
   ]
  },
  {
   "cell_type": "code",
   "execution_count": 59,
   "metadata": {
    "collapsed": false
   },
   "outputs": [
    {
     "name": "stdout",
     "output_type": "stream",
     "text": [
      "                 can could  may might must will \n",
      "           news   93   86   66   38   50  389 \n",
      "       religion   82   59   78   12   54   71 \n",
      "        hobbies  268   58  131   22   83  264 \n",
      "science_fiction   16   49    4   12    8   16 \n",
      "        romance   74  193   11   51   45   43 \n",
      "          humor   16   30    8    8    9   13 \n"
     ]
    }
   ],
   "source": [
    "cfd = nltk.ConditionalFreqDist((genre, word) for genre in br.categories()\n",
    "                               for word in br.words(categories=genre))\n",
    "genres = ['news', 'religion', 'hobbies', 'science_fiction', 'romance', 'humor']\n",
    "modals = ['can', 'could', 'may', 'might', 'must', 'will']\n",
    "cfd.tabulate(conditions=genres, samples=modals)"
   ]
  },
  {
   "cell_type": "code",
   "execution_count": 79,
   "metadata": {
    "collapsed": false
   },
   "outputs": [
    {
     "name": "stdout",
     "output_type": "stream",
     "text": [
      "                love hate problems forever \n",
      "           news    3    1   19    1 \n",
      "       religion   13    3    3    3 \n",
      "        hobbies    6    0   26    1 \n",
      "science_fiction    3    0    0    3 \n",
      "        romance   32    9    2   10 \n",
      "          humor    4    0    4    3 \n"
     ]
    }
   ],
   "source": [
    "cfd.tabulate(conditions=genres, samples=['love', 'hate', 'problems', 'forever'])"
   ]
  },
  {
   "cell_type": "code",
   "execution_count": 68,
   "metadata": {
    "collapsed": false
   },
   "outputs": [
    {
     "data": {
      "text/plain": [
       "[(u'the', 4300), (u',', 3849), (u'.', 3453), (u'of', 2390), (u'and', 2144)]"
      ]
     },
     "execution_count": 68,
     "metadata": {},
     "output_type": "execute_result"
    }
   ],
   "source": [
    "cfd['hobbies'].most_common()[:5]"
   ]
  },
  {
   "cell_type": "markdown",
   "metadata": {},
   "source": [
    "### Reuters Corpus\n",
    "\n",
    "Reuters Corpus包含10788則新聞，總共有130萬字，分成90個主題。為了方便machine learning，所有的file id都以\"training/\"或\"test/\"開頭，例如\"test/14826\"表示在test set中的一則新聞。\n",
    "\n",
    "Reuters Corpus與Brown不同的地方在於分類可能重疊，一篇新聞可以同時屬於多個分類。新聞的分類可由`categories(file_id)`來查詢，也可以由`fileid(category)`找出分類對應的file id。"
   ]
  },
  {
   "cell_type": "code",
   "execution_count": 84,
   "metadata": {
    "collapsed": false
   },
   "outputs": [
    {
     "data": {
      "text/plain": [
       "[u'test/14832', u'test/14841', u'test/14858']"
      ]
     },
     "execution_count": 84,
     "metadata": {},
     "output_type": "execute_result"
    }
   ],
   "source": [
    "from nltk.corpus import reuters as rt\n",
    "rt.fileids(['wheat', 'corn'])[:3]"
   ]
  },
  {
   "cell_type": "code",
   "execution_count": 85,
   "metadata": {
    "collapsed": false
   },
   "outputs": [
    {
     "data": {
      "text/plain": [
       "[u'carcass',\n",
       " u'corn',\n",
       " u'grain',\n",
       " u'livestock',\n",
       " u'oilseed',\n",
       " u'rice',\n",
       " u'rubber',\n",
       " u'soybean',\n",
       " u'sugar',\n",
       " u'tin',\n",
       " u'trade',\n",
       " u'wheat']"
      ]
     },
     "execution_count": 85,
     "metadata": {},
     "output_type": "execute_result"
    }
   ],
   "source": [
    "rt.categories([u'test/14832', u'test/14841', u'test/14858'])"
   ]
  },
  {
   "cell_type": "markdown",
   "metadata": {},
   "source": [
    "### Inaugural Address Corpus\n",
    "\n",
    "這個Corpus是歷任美國總統的就職演說，檔名包含年份及總統名，例如\"2009-Obama.txt\"。"
   ]
  },
  {
   "cell_type": "code",
   "execution_count": 89,
   "metadata": {
    "collapsed": false
   },
   "outputs": [
    {
     "data": {
      "text/plain": [
       "[[u'My', u'fellow', u'citizens', u':'], [u'I', u'stand', u'here', u'today', u'humbled', u'by', u'the', u'task', u'before', u'us', u',', u'grateful', u'for', u'the', u'trust', u'you', u'have', u'bestowed', u',', u'mindful', u'of', u'the', u'sacrifices', u'borne', u'by', u'our', u'ancestors', u'.'], ...]"
      ]
     },
     "execution_count": 89,
     "metadata": {},
     "output_type": "execute_result"
    }
   ],
   "source": [
    "from nltk.corpus import inaugural as ina\n",
    "ina.sents('2009-Obama.txt')"
   ]
  },
  {
   "cell_type": "code",
   "execution_count": 122,
   "metadata": {
    "collapsed": true
   },
   "outputs": [],
   "source": [
    "cfd = nltk.ConditionalFreqDist((target, f[:4]) for f in ina.fileids() for w in ina.words(f)\n",
    "                        for target in ['america', 'right'] if w.lower().startswith(target))"
   ]
  },
  {
   "cell_type": "code",
   "execution_count": 123,
   "metadata": {
    "collapsed": false
   },
   "outputs": [
    {
     "data": {
      "image/png": "[encoded data removed]",
      "text/plain": [
       "<matplotlib.figure.Figure at 0x24d7f748>"
      ]
     },
     "metadata": {},
     "output_type": "display_data"
    }
   ],
   "source": [
    "%matplotlib inline\n",
    "cfd.plot()"
   ]
  },
  {
   "cell_type": "markdown",
   "metadata": {},
   "source": [
    "### Corpus共同的API\n",
    "\n",
    "* `fileids()`: 檔案清單\n",
    "* `fileids([categories])`: 特定分類下的檔案清單\n",
    "* `categories()`: 分類清單\n",
    "* `categories([fileids])`: 檔案所歸屬的分類清單\n",
    "* `raw()`: 原始資料\n",
    "* `raw(fileids=[f1,f2,f3])`: 取得指定檔案的原始資料\n",
    "* `raw(categories=[c1,c2])`: 取得指定分類的原始資料\n",
    "* `words()`: 單字陣列\n",
    "* `words(fileids=[f1,f2,f3])`: 取得指定檔案的單字陣列\n",
    "* `words(categories=[c1,c2])`: 取得指定分類的單字陣列\n",
    "* `sents()`: 單句陣列\n",
    "* `sents(fileids=[f1,f2,f3])`: 取得指定檔案的單句陣列\n",
    "* `sents(categories=[c1,c2])`: 取得指定分類的單句陣列\n",
    "* `abspath(fileid)`: 檔案在硬碟中的位置\n",
    "* `encoding(fileid)`: 檔案的編碼(如果已知)\n",
    "* `open(fileid)`: 將檔案打開成stream的格式\n",
    "* `root()`: corpus的根目錄\n",
    "* `readme()`: 關於這個corpus的資訊"
   ]
  },
  {
   "cell_type": "markdown",
   "metadata": {},
   "source": [
    "### 使用自己的Corpus\n",
    "\n",
    "如果你有純文字檔想當成Corpus，可以使用`ntlk.corpus.PlaintextCorpusReader`。\n",
    "```python\n",
    ">>> from nltk.corpus import PlaintextCorpusReader\n",
    ">>> corpus_root = '/usr/share/dict' \n",
    ">>> wordlists = PlaintextCorpusReader(corpus_root, '.*') \n",
    ">>> wordlists.fileids()\n",
    "['README', 'connectives', 'propernames', 'web2', 'web2a', 'words']\n",
    ">>> wordlists.words('connectives')\n",
    "['the', 'of', 'and', 'to', 'a', 'in', 'that', 'is', ...]\n",
    "```\n",
    "\n",
    "如果你有Penn Treebank樹狀結構的資料，可以使用`ntlk.corpus.BracketParseCorpusReader`。\n",
    "```python\n",
    ">>> from nltk.corpus import BracketParseCorpusReader\n",
    ">>> corpus_root = r\"C:\\corpora\\penntreebank\\parsed\\mrg\\wsj\" \n",
    ">>> file_pattern = r\".*/wsj_.*\\.mrg\" \n",
    ">>> ptb = BracketParseCorpusReader(corpus_root, file_pattern)\n",
    ">>> ptb.fileids()\n",
    "['00/wsj_0001.mrg', '00/wsj_0002.mrg', '00/wsj_0003.mrg', '00/wsj_0004.mrg', ...]\n",
    ">>> len(ptb.sents())\n",
    "49208\n",
    ">>> ptb.sents(fileids='20/wsj_2013.mrg')[19]\n",
    "['The', '55-year-old', 'Mr.', 'Noriega', 'is', \"n't\", 'as', 'smooth', 'as', 'the',\n",
    "'shah', 'of', 'Iran', ',', 'as', 'well-born', 'as', 'Nicaragua', \"'s\", 'Anastasio',\n",
    "'Somoza', ',', 'as', 'imperial', 'as', 'Ferdinand', 'Marcos', 'of', 'the', 'Philippines',\n",
    "'or', 'as', 'bloody', 'as', 'Haiti', \"'s\", 'Baby', Doc', 'Duvalier', '.']\n",
    "```"
   ]
  },
  {
   "cell_type": "markdown",
   "metadata": {},
   "source": [
    "## 2.2 條件式頻率分布\n",
    "\n",
    "在統計條件分布時，我們需要將文字轉換成`(condition, event)`的格式，例如Brown中，有15個condition(每個分類一個)，及1161192個event(每個單字一個)。\n",
    "\n",
    "`FreqDist()`是單純的頻率分布，以list為參數。`ConditionalFreqDist()`則是條件式頻率分布，以list of pairs為參數。"
   ]
  },
  {
   "cell_type": "code",
   "execution_count": 11,
   "metadata": {
    "collapsed": false
   },
   "outputs": [],
   "source": [
    "import nltk\n",
    "from nltk.corpus import gutenberg as gut\n",
    "emma = gut.words(gut.fileids()[0])\n",
    "freq_uni = nltk.FreqDist(emma)\n",
    "freq_bi = nltk.FreqDist(nltk.bigrams(emma))"
   ]
  },
  {
   "cell_type": "code",
   "execution_count": 20,
   "metadata": {
    "collapsed": false
   },
   "outputs": [
    {
     "data": {
      "text/plain": [
       "[(u',', 11454), (u'.', 6928), (u'to', 5183), (u'the', 4844), (u'and', 4672)]"
      ]
     },
     "execution_count": 20,
     "metadata": {},
     "output_type": "execute_result"
    }
   ],
   "source": [
    "freq_uni.most_common()[:5]"
   ]
  },
  {
   "cell_type": "code",
   "execution_count": 15,
   "metadata": {
    "collapsed": false
   },
   "outputs": [
    {
     "data": {
      "text/plain": [
       "[((u',', u'and'), 1879),\n",
       " ((u'Mr', u'.'), 1153),\n",
       " ((u\"'\", u's'), 932),\n",
       " ((u';', u'and'), 866),\n",
       " ((u'.\"', u'\"'), 757)]"
      ]
     },
     "execution_count": 15,
     "metadata": {},
     "output_type": "execute_result"
    }
   ],
   "source": [
    "freq_bi.most_common()[:5]"
   ]
  },
  {
   "cell_type": "markdown",
   "metadata": {},
   "source": [
    "### ConditionalFreqDist的常用函式\n",
    "\n",
    "* `cfd = ConditionalFreqDist(pairs)`: 將pairs=(c,s)轉換為頻率分布\n",
    "* `cfd.conditions()`: 列出pairs[0]的所有可能\n",
    "* `cfd[cond]`: 用cond作為條件查詢，也就是pairs[0]==cond的清單\n",
    "* `cfd[cond][sample]`: pairs[0]==cond && pairs[1]==sample的清單\n",
    "* `cfd.tabulate(conditions=cond, samples=samp)`: 將多個cond與多個sample的對應關係畫成表格\n",
    "* `cfd.plot()`: 畫出頻率分布\n",
    "* `cfd.plot(samples, conditions)`: 畫出頻率分布"
   ]
  },
  {
   "cell_type": "markdown",
   "metadata": {},
   "source": [
    "## 詞彙分析資源 (Lexical Resources)\n",
    "\n",
    "單字或句子的附加資訊，都屬於詞彙分析的一部分，例如單字的詞性、字義、頻率等。\n",
    "\n",
    "### Wordlist Corpora\n",
    "\n",
    "第一種分析方式，是拿字典作比較，找出不存在於字典的單字。"
   ]
  },
  {
   "cell_type": "code",
   "execution_count": 19,
   "metadata": {
    "collapsed": false
   },
   "outputs": [
    {
     "data": {
      "text/plain": [
       "[u'legacies',\n",
       " u'saves',\n",
       " u'woods',\n",
       " u'hating',\n",
       " u'consists',\n",
       " u'oldest',\n",
       " u'assembled',\n",
       " u'sashes',\n",
       " u'patches',\n",
       " u'sweetest']"
      ]
     },
     "execution_count": 19,
     "metadata": {},
     "output_type": "execute_result"
    }
   ],
   "source": [
    "vocabulary = set(w.lower() for w in nltk.corpus.words.words())\n",
    "austen = set(w.lower() for w in nltk.corpus.gutenberg.words('austen-sense.txt'))\n",
    "list(austen.difference(vocabulary))[:10]"
   ]
  },
  {
   "cell_type": "markdown",
   "metadata": {},
   "source": [
    "第二種分析方式，是找出stopwords，這些字太常見以致於沒有分析的意義，通常會將stopwords設法移除。"
   ]
  },
  {
   "cell_type": "code",
   "execution_count": 22,
   "metadata": {
    "collapsed": false
   },
   "outputs": [
    {
     "data": {
      "text/plain": [
       "[u'i',\n",
       " u'me',\n",
       " u'my',\n",
       " u'myself',\n",
       " u'we',\n",
       " u'our',\n",
       " u'ours',\n",
       " u'ourselves',\n",
       " u'you',\n",
       " u'your']"
      ]
     },
     "execution_count": 22,
     "metadata": {},
     "output_type": "execute_result"
    }
   ],
   "source": [
    "from nltk.corpus import stopwords\n",
    "stopwords.words('english')[:10]"
   ]
  },
  {
   "cell_type": "code",
   "execution_count": 32,
   "metadata": {
    "collapsed": false
   },
   "outputs": [
    {
     "data": {
      "text/plain": [
       "[(u',', 9397),\n",
       " (u'.', 3975),\n",
       " (u'\"', 1506),\n",
       " (u';', 1419),\n",
       " (u\"'\", 883),\n",
       " (u'.\"', 721),\n",
       " (u'Elinor', 684),\n",
       " (u'could', 568),\n",
       " (u'Marianne', 566),\n",
       " (u'Mrs', 530)]"
      ]
     },
     "execution_count": 32,
     "metadata": {},
     "output_type": "execute_result"
    }
   ],
   "source": [
    "stop = stopwords.words('english')\n",
    "austen = nltk.corpus.gutenberg.words('austen-sense.txt')\n",
    "aus = [w for w in austen if w.lower() not in stop]\n",
    "nltk.FreqDist(aus).most_common()[:10]"
   ]
  },
  {
   "cell_type": "markdown",
   "metadata": {},
   "source": [
    "### A Pronouncing Dictionary\n",
    "\n",
    "nltk有包含CMU Pronouncing Dictionary for US English，專門為語音合成的程式而設計。裡面所使用的音標可以參考: https://en.wikipedia.org/wiki/Arpabet"
   ]
  },
  {
   "cell_type": "code",
   "execution_count": 34,
   "metadata": {
    "collapsed": false
   },
   "outputs": [
    {
     "data": {
      "text/plain": [
       "133737"
      ]
     },
     "execution_count": 34,
     "metadata": {},
     "output_type": "execute_result"
    }
   ],
   "source": [
    "entry = nltk.corpus.cmudict.entries()\n",
    "len(entry)"
   ]
  },
  {
   "cell_type": "code",
   "execution_count": 36,
   "metadata": {
    "collapsed": false
   },
   "outputs": [
    {
     "data": {
      "text/plain": [
       "[(u'belford', [u'B', u'EH1', u'L', u'F', u'ER0', u'D']),\n",
       " (u'belfry', [u'B', u'EH1', u'L', u'F', u'R', u'IY0']),\n",
       " (u'belgacom', [u'B', u'EH1', u'L', u'G', u'AH0', u'K', u'AA0', u'M']),\n",
       " (u'belgacom', [u'B', u'EH1', u'L', u'JH', u'AH0', u'K', u'AA0', u'M']),\n",
       " (u'belgard', [u'B', u'EH0', u'L', u'G', u'AA1', u'R', u'D']),\n",
       " (u'belgarde', [u'B', u'EH0', u'L', u'G', u'AA1', u'R', u'D', u'IY0']),\n",
       " (u'belge', [u'B', u'EH1', u'L', u'JH', u'IY0']),\n",
       " (u'belger', [u'B', u'EH1', u'L', u'G', u'ER0']),\n",
       " (u'belgian', [u'B', u'EH1', u'L', u'JH', u'AH0', u'N']),\n",
       " (u'belgians', [u'B', u'EH1', u'L', u'JH', u'AH0', u'N', u'Z'])]"
      ]
     },
     "execution_count": 36,
     "metadata": {},
     "output_type": "execute_result"
    }
   ],
   "source": [
    "entry[10000:10010]"
   ]
  },
  {
   "cell_type": "code",
   "execution_count": 43,
   "metadata": {
    "collapsed": false
   },
   "outputs": [
    {
     "data": {
      "text/plain": [
       "[u'activision',\n",
       " u'cablevision',\n",
       " u'computervision',\n",
       " u'coopervision',\n",
       " u'exploravision',\n",
       " u'macrovision',\n",
       " u'spectravision',\n",
       " u'subdivision',\n",
       " u'television',\n",
       " u'valuevision',\n",
       " u'worldvision']"
      ]
     },
     "execution_count": 43,
     "metadata": {},
     "output_type": "execute_result"
    }
   ],
   "source": [
    "[w for w,pron in entry if pron[-5:] == [u'V', u'IH2', u'ZH', u'AH0', u'N']]"
   ]
  },
  {
   "cell_type": "markdown",
   "metadata": {},
   "source": [
    "在發音中的數字代表重音，例如1表示重音，2表示次重音，0表示輕音。"
   ]
  },
  {
   "cell_type": "code",
   "execution_count": 53,
   "metadata": {
    "collapsed": false
   },
   "outputs": [
    {
     "data": {
      "text/plain": [
       "[u'accumulatively',\n",
       " u'appreciatively',\n",
       " u'environmentalists',\n",
       " u'environmentalists',\n",
       " u'environmentalists',\n",
       " u'environmentalists',\n",
       " u'identifiable',\n",
       " u'identifiable',\n",
       " u'irreconcilable',\n",
       " u'unhesitatingly',\n",
       " u'unnecessarily',\n",
       " u'unprecedentedly']"
      ]
     },
     "execution_count": 53,
     "metadata": {},
     "output_type": "execute_result"
    }
   ],
   "source": [
    "def stress(pron):\n",
    "    return [c[-1] for c in pron if c[-1].isdigit()]\n",
    "[w for w, pron in entry if stress(pron) == ['0','1','0','2','0','0']]"
   ]
  },
  {
   "cell_type": "markdown",
   "metadata": {},
   "source": [
    "除了使用tuple格式的資料，也有提供dict格式的資料。"
   ]
  },
  {
   "cell_type": "code",
   "execution_count": 54,
   "metadata": {
    "collapsed": false
   },
   "outputs": [
    {
     "data": {
      "text/plain": [
       "[[u'F', u'AY1', u'ER0'], [u'F', u'AY1', u'R']]"
      ]
     },
     "execution_count": 54,
     "metadata": {},
     "output_type": "execute_result"
    }
   ],
   "source": [
    "pdict = nltk.corpus.cmudict.dict()\n",
    "pdict['fire']"
   ]
  },
  {
   "cell_type": "markdown",
   "metadata": {},
   "source": [
    "如果遇到字典中沒有的字，可以手動新增，但新增的結果並不會存檔，下次讀出來還是會缺字。"
   ]
  },
  {
   "cell_type": "code",
   "execution_count": 55,
   "metadata": {
    "collapsed": false
   },
   "outputs": [
    {
     "ename": "KeyError",
     "evalue": "'blog'",
     "output_type": "error",
     "traceback": [
      "\u001b[1;31m---------------------------------------------------------------------------\u001b[0m",
      "\u001b[1;31mKeyError\u001b[0m                                  Traceback (most recent call last)",
      "\u001b[1;32m<ipython-input-55-482d977dfcbf>\u001b[0m in \u001b[0;36m<module>\u001b[1;34m()\u001b[0m\n\u001b[1;32m----> 1\u001b[1;33m \u001b[0mpdict\u001b[0m\u001b[1;33m[\u001b[0m\u001b[1;34m'blog'\u001b[0m\u001b[1;33m]\u001b[0m\u001b[1;33m\u001b[0m\u001b[0m\n\u001b[0m",
      "\u001b[1;31mKeyError\u001b[0m: 'blog'"
     ]
    }
   ],
   "source": [
    "pdict['blog']"
   ]
  },
  {
   "cell_type": "code",
   "execution_count": 56,
   "metadata": {
    "collapsed": true
   },
   "outputs": [],
   "source": [
    "pdict['blog'] = [['B','L','AA1','G']]"
   ]
  },
  {
   "cell_type": "code",
   "execution_count": 57,
   "metadata": {
    "collapsed": false
   },
   "outputs": [
    {
     "data": {
      "text/plain": [
       "[['B', 'L', 'AA1', 'G']]"
      ]
     },
     "execution_count": 57,
     "metadata": {},
     "output_type": "execute_result"
    }
   ],
   "source": [
    "pdict['blog']"
   ]
  },
  {
   "cell_type": "markdown",
   "metadata": {},
   "source": [
    "### Comparative Wordlists\n",
    "\n",
    "比較性的字集，又稱為Swadesh wordlists，列出200個常用字在多國語言中的寫法。"
   ]
  },
  {
   "cell_type": "code",
   "execution_count": 60,
   "metadata": {
    "collapsed": false
   },
   "outputs": [
    {
     "data": {
      "text/plain": [
       "[u'be',\n",
       " u'bg',\n",
       " u'bs',\n",
       " u'ca',\n",
       " u'cs',\n",
       " u'cu',\n",
       " u'de',\n",
       " u'en',\n",
       " u'es',\n",
       " u'fr',\n",
       " u'hr',\n",
       " u'it',\n",
       " u'la',\n",
       " u'mk',\n",
       " u'nl',\n",
       " u'pl',\n",
       " u'pt',\n",
       " u'ro',\n",
       " u'ru',\n",
       " u'sk',\n",
       " u'sl',\n",
       " u'sr',\n",
       " u'sw',\n",
       " u'uk']"
      ]
     },
     "execution_count": 60,
     "metadata": {},
     "output_type": "execute_result"
    }
   ],
   "source": [
    "from nltk.corpus import swadesh\n",
    "swadesh.fileids()"
   ]
  },
  {
   "cell_type": "code",
   "execution_count": 62,
   "metadata": {
    "collapsed": false
   },
   "outputs": [
    {
     "data": {
      "text/plain": [
       "[u'io', u'tu, Lei', u'lui, egli', u'noi', u'voi']"
      ]
     },
     "execution_count": 62,
     "metadata": {},
     "output_type": "execute_result"
    }
   ],
   "source": [
    "swadesh.words('it')[:5]"
   ]
  },
  {
   "cell_type": "code",
   "execution_count": 63,
   "metadata": {
    "collapsed": false
   },
   "outputs": [
    {
     "data": {
      "text/plain": [
       "[u'I', u'you (singular), thou', u'he', u'we', u'you (plural)']"
      ]
     },
     "execution_count": 63,
     "metadata": {},
     "output_type": "execute_result"
    }
   ],
   "source": [
    "swadesh.words('en')[:5]"
   ]
  },
  {
   "cell_type": "code",
   "execution_count": 67,
   "metadata": {
    "collapsed": false
   },
   "outputs": [
    {
     "data": {
      "text/plain": [
       "[(u'je', u'I'),\n",
       " (u'tu, vous', u'you (singular), thou'),\n",
       " (u'il', u'he'),\n",
       " (u'nous', u'we'),\n",
       " (u'vous', u'you (plural)')]"
      ]
     },
     "execution_count": 67,
     "metadata": {},
     "output_type": "execute_result"
    }
   ],
   "source": [
    "swadesh.entries(['fr','en'])[:5]  # 兩種語言的對照"
   ]
  },
  {
   "cell_type": "code",
   "execution_count": 68,
   "metadata": {
    "collapsed": false
   },
   "outputs": [
    {
     "data": {
      "text/plain": [
       "u'we'"
      ]
     },
     "execution_count": 68,
     "metadata": {},
     "output_type": "execute_result"
    }
   ],
   "source": [
    "fr2en = dict(swadesh.entries(['fr','en']))\n",
    "fr2en['nous']"
   ]
  },
  {
   "cell_type": "markdown",
   "metadata": {},
   "source": [
    "### Shoebox and Toolbox Lexicons\n",
    "\n",
    "Toolbox是語言學家最常用的工具，在第11章會再詳細介紹。"
   ]
  },
  {
   "cell_type": "code",
   "execution_count": 75,
   "metadata": {
    "collapsed": false
   },
   "outputs": [
    {
     "data": {
      "text/plain": [
       "(u'kaa',\n",
       " [(u'ps', u'V'),\n",
       "  (u'pt', u'A'),\n",
       "  (u'ge', u'gag'),\n",
       "  (u'tkp', u'nek i pas'),\n",
       "  (u'dcsv', u'true'),\n",
       "  (u'vx', u'1'),\n",
       "  (u'sc', u'???'),\n",
       "  (u'dt', u'29/Oct/2005'),\n",
       "  (u'ex', u'Apoka ira kaaroi aioa-ia reoreopaoro.'),\n",
       "  (u'xp', u'Kaikai i pas long nek bilong Apoka bikos em i kaikai na toktok.'),\n",
       "  (u'xe', u'Apoka is gagging from food while talking.')])"
      ]
     },
     "execution_count": 75,
     "metadata": {},
     "output_type": "execute_result"
    }
   ],
   "source": [
    "from nltk.corpus import toolbox\n",
    "toolbox.entries('rotokas.dic')[0]"
   ]
  },
  {
   "cell_type": "markdown",
   "metadata": {},
   "source": [
    "## Wordnet\n",
    "\n",
    "WordNet是一個語意字典，也可以說是給電腦看的字典。當兩個字的字義相同，例如motocar和automobile，就稱這兩個字為synonyms，而這兩個字會組成一個synset。一個synset永遠只包含一個字義，但可以有很多單字。"
   ]
  },
  {
   "cell_type": "code",
   "execution_count": 77,
   "metadata": {
    "collapsed": false
   },
   "outputs": [
    {
     "data": {
      "text/plain": [
       "[Synset('sleep.n.01'),\n",
       " Synset('sleep.n.02'),\n",
       " Synset('sleep.n.03'),\n",
       " Synset('rest.n.05'),\n",
       " Synset('sleep.v.01'),\n",
       " Synset('sleep.v.02')]"
      ]
     },
     "execution_count": 77,
     "metadata": {},
     "output_type": "execute_result"
    }
   ],
   "source": [
    "from nltk.corpus import wordnet as wn\n",
    "wn.synsets('sleep')\n",
    "# sleep共有6種不同的字義，分布在6個synsets中"
   ]
  },
  {
   "cell_type": "code",
   "execution_count": 87,
   "metadata": {
    "collapsed": false
   },
   "outputs": [
    {
     "data": {
      "text/plain": [
       "[[u'sleep', u'slumber'],\n",
       " [u'sleep', u'sopor'],\n",
       " [u'sleep', u'nap'],\n",
       " [u'rest', u'eternal_rest', u'sleep', u'eternal_sleep', u'quietus'],\n",
       " [u'sleep', u'kip', u'slumber', u\"log_Z's\", u\"catch_some_Z's\"],\n",
       " [u'sleep']]"
      ]
     },
     "execution_count": 87,
     "metadata": {},
     "output_type": "execute_result"
    }
   ],
   "source": [
    "# 每個synset可能由多個字組成\n",
    "[syn.lemma_names() for syn in wn.synsets('sleep')]"
   ]
  },
  {
   "cell_type": "code",
   "execution_count": 90,
   "metadata": {
    "collapsed": false
   },
   "outputs": [
    {
     "data": {
      "text/plain": [
       "[u'a natural and periodic state of rest during which consciousness of the world is suspended',\n",
       " u'a torpid state resembling deep sleep',\n",
       " u'a period of time spent sleeping',\n",
       " u'euphemisms for death (based on an analogy between lying in a bed and in a tomb)',\n",
       " u'be asleep',\n",
       " u'be able to accommodate for sleeping']"
      ]
     },
     "execution_count": 90,
     "metadata": {},
     "output_type": "execute_result"
    }
   ],
   "source": [
    "# 查詢synset所代表的意義\n",
    "[syn.definition() for syn in wn.synsets('sleep')]"
   ]
  },
  {
   "cell_type": "code",
   "execution_count": 91,
   "metadata": {
    "collapsed": false
   },
   "outputs": [
    {
     "data": {
      "text/plain": [
       "[[u\"he didn't get enough sleep last night\",\n",
       "  u'calm as a child in dreamless slumber'],\n",
       " [],\n",
       " [u'he felt better after a little sleep', u\"there wasn't time for a nap\"],\n",
       " [u'she was laid to rest beside her husband',\n",
       "  u'they had to put their family pet to sleep'],\n",
       " [],\n",
       " [u'This tent sleeps six people']]"
      ]
     },
     "execution_count": 91,
     "metadata": {},
     "output_type": "execute_result"
    }
   ],
   "source": [
    "# synset的例句\n",
    "[syn.examples() for syn in wn.synsets('sleep')]"
   ]
  },
  {
   "cell_type": "markdown",
   "metadata": {},
   "source": [
    "### Wordnet Hierarchy\n",
    "\n",
    "WordNet的特色是所有字義都組成一個樹狀結構，裡面每個點都是synsets。synset的子孫節點稱為hyponyms(下位字)，而兩個synsets共同的祖先稱為hypernyms(上位字)。"
   ]
  },
  {
   "cell_type": "code",
   "execution_count": 118,
   "metadata": {
    "collapsed": false
   },
   "outputs": [
    {
     "data": {
      "text/plain": [
       "[[Synset('entity.n.01'),\n",
       "  Synset('abstraction.n.06'),\n",
       "  Synset('attribute.n.02'),\n",
       "  Synset('state.n.02'),\n",
       "  Synset('condition.n.01'),\n",
       "  Synset('physical_condition.n.01'),\n",
       "  Synset('sleep.n.01')]]"
      ]
     },
     "execution_count": 118,
     "metadata": {},
     "output_type": "execute_result"
    }
   ],
   "source": [
    "# 尋找hypernyms\n",
    "syn = wn.synset('sleep.n.01')\n",
    "syn.hypernym_paths()"
   ]
  },
  {
   "cell_type": "markdown",
   "metadata": {},
   "source": [
    "邏輯關係: entailment。如果A動作是由B,C,D...組成的，則我們說A entails B,C,D..."
   ]
  },
  {
   "cell_type": "code",
   "execution_count": 121,
   "metadata": {
    "collapsed": false,
    "scrolled": true
   },
   "outputs": [
    {
     "data": {
      "text/plain": [
       "[Synset('chew.v.01'), Synset('swallow.v.01')]"
      ]
     },
     "execution_count": 121,
     "metadata": {},
     "output_type": "execute_result"
    }
   ],
   "source": [
    "wn.synset('eat.v.01').entailments()"
   ]
  },
  {
   "cell_type": "markdown",
   "metadata": {},
   "source": [
    "要在synsets中找出特定詞性的單字，可以用第二個參數。"
   ]
  },
  {
   "cell_type": "code",
   "execution_count": 123,
   "metadata": {
    "collapsed": false
   },
   "outputs": [
    {
     "data": {
      "text/plain": [
       "[Synset('sleep.n.01'),\n",
       " Synset('sleep.n.02'),\n",
       " Synset('sleep.n.03'),\n",
       " Synset('rest.n.05')]"
      ]
     },
     "execution_count": 123,
     "metadata": {},
     "output_type": "execute_result"
    }
   ],
   "source": [
    "wn.synsets('sleep', wn.NOUN)"
   ]
  },
  {
   "cell_type": "markdown",
   "metadata": {},
   "source": [
    "antonymy是相反的關係。"
   ]
  },
  {
   "cell_type": "code",
   "execution_count": 134,
   "metadata": {
    "collapsed": false
   },
   "outputs": [
    {
     "data": {
      "text/plain": [
       "[Lemma('horizontal.a.01.horizontal'), Lemma('inclined.a.02.inclined')]"
      ]
     },
     "execution_count": 134,
     "metadata": {},
     "output_type": "execute_result"
    }
   ],
   "source": [
    "lemma = wn.synsets('vertical')[2].lemmas()[0]\n",
    "lemma.antonyms()"
   ]
  },
  {
   "cell_type": "markdown",
   "metadata": {},
   "source": [
    "要比較兩個synsets接近的程度，可以看它們共同的祖先有多高。如果共同的祖先是entity，表示幾乎沒有關係，因為entity已經是root了。例如我們要找left和right的字義中最接近的。"
   ]
  },
  {
   "cell_type": "code",
   "execution_count": 170,
   "metadata": {
    "collapsed": false,
    "scrolled": false
   },
   "outputs": [
    {
     "name": "stdout",
     "output_type": "stream",
     "text": [
      "left.n.01         right.n.02        position.n.01            0.333333333333\n",
      "left.n.01         right_field.n.01  object.n.01              0.125\n",
      "left.n.02         right.n.04        clique.n.01              0.333333333333\n",
      "left.n.03         right.n.05        physical_entity.n.01     0.333333333333\n",
      "left_field.n.01   right.n.02        object.n.01              0.125\n",
      "left_field.n.01   right_field.n.01  region.n.03              0.333333333333\n",
      "left.n.05         right.n.06        change_of_direction.n.01 0.333333333333\n"
     ]
    }
   ],
   "source": [
    "l = wn.synsets('left', wn.NOUN)\n",
    "r = wn.synsets('right', wn.NOUN)\n",
    "for left in l:\n",
    "    for right in r:\n",
    "        ancestor = left.common_hypernyms(right)[0]\n",
    "        sim = left.path_similarity(right)\n",
    "        if sim > 0.1:\n",
    "            print '{0:18}{1:18}{2:25}{3}'.format(left.name(), right.name(), ancestor.name(), sim)"
   ]
  },
  {
   "cell_type": "code",
   "execution_count": null,
   "metadata": {
    "collapsed": true
   },
   "outputs": [],
   "source": []
  }
 ],
 "metadata": {
  "kernelspec": {
   "display_name": "Python 2",
   "language": "python",
   "name": "python2"
  },
  "language_info": {
   "codemirror_mode": {
    "name": "ipython",
    "version": 2
   },
   "file_extension": ".py",
   "mimetype": "text/x-python",
   "name": "python",
   "nbconvert_exporter": "python",
   "pygments_lexer": "ipython2",
   "version": "2.7.10"
  }
 },
 "nbformat": 4,
 "nbformat_minor": 0
}
